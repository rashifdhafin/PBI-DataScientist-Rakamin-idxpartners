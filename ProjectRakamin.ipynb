{
  "nbformat": 4,
  "nbformat_minor": 0,
  "metadata": {
    "colab": {
      "provenance": [],
      "authorship_tag": "ABX9TyPt0vNQWjd/bGXSJK2WwF5o",
      "include_colab_link": true
    },
    "kernelspec": {
      "name": "python3",
      "display_name": "Python 3"
    },
    "language_info": {
      "name": "python"
    }
  },
  "cells": [
    {
      "cell_type": "markdown",
      "metadata": {
        "id": "view-in-github",
        "colab_type": "text"
      },
      "source": [
        "<a href=\"https://colab.research.google.com/github/rashifdhafin/PBI-DataScientist-Rakamin-idxpartners/blob/master/ProjectRakamin.ipynb\" target=\"_parent\"><img src=\"https://colab.research.google.com/assets/colab-badge.svg\" alt=\"Open In Colab\"/></a>"
      ]
    },
    {
      "cell_type": "markdown",
      "source": [
        "**Import Library**"
      ],
      "metadata": {
        "id": "vT697hSnMiz3"
      }
    },
    {
      "cell_type": "code",
      "execution_count": null,
      "metadata": {
        "id": "LFFaXN3APREX"
      },
      "outputs": [],
      "source": [
        "from google.colab import drive\n",
        "import pandas as pd\n",
        "import numpy as np\n",
        "import matplotlib.pyplot as plt\n",
        "import seaborn as sns\n",
        "from sklearn.preprocessing import StandardScaler\n",
        "from sklearn.model_selection import train_test_split\n",
        "from sklearn.model_selection import KFold\n",
        "from sklearn.model_selection import cross_val_score\n",
        "from imblearn.over_sampling import RandomOverSampler\n",
        "from imblearn.under_sampling import RandomUnderSampler\n",
        "from sklearn.ensemble import RandomForestClassifier\n",
        "from sklearn.ensemble import AdaBoostClassifier\n",
        "from sklearn.ensemble import GradientBoostingClassifier\n",
        "from sklearn.metrics import classification_report"
      ]
    },
    {
      "cell_type": "markdown",
      "source": [
        "**Load Dataset**"
      ],
      "metadata": {
        "id": "PqInUTM6MoSR"
      }
    },
    {
      "cell_type": "code",
      "source": [
        "# Akses ke Google Drive\n",
        "drive.mount('/content/drive')"
      ],
      "metadata": {
        "colab": {
          "base_uri": "https://localhost:8080/"
        },
        "id": "Dj1ubJb3Nskm",
        "outputId": "f77a6915-9142-49b7-94fe-37aa965954b7"
      },
      "execution_count": null,
      "outputs": [
        {
          "output_type": "stream",
          "name": "stdout",
          "text": [
            "Mounted at /content/drive\n"
          ]
        }
      ]
    },
    {
      "cell_type": "code",
      "source": [
        "dataset = pd.read_csv('/content/drive/MyDrive/Rakamin/loan_data_2007_2014.csv', index_col=0)"
      ],
      "metadata": {
        "colab": {
          "base_uri": "https://localhost:8080/"
        },
        "id": "Zz0n69A7MsH7",
        "outputId": "6f448ef7-a337-4177-a8d9-8529590c451b"
      },
      "execution_count": null,
      "outputs": [
        {
          "output_type": "stream",
          "name": "stderr",
          "text": [
            "<ipython-input-3-d8fdb6c7a355>:1: DtypeWarning: Columns (20) have mixed types. Specify dtype option on import or set low_memory=False.\n",
            "  dataset = pd.read_csv('/content/drive/MyDrive/Rakamin/loan_data_2007_2014.csv', index_col=0)\n"
          ]
        }
      ]
    },
    {
      "cell_type": "markdown",
      "source": [
        "# **Explore Dataset**"
      ],
      "metadata": {
        "id": "cM1XVxgwXO7f"
      }
    },
    {
      "cell_type": "code",
      "source": [
        "dataset.shape"
      ],
      "metadata": {
        "colab": {
          "base_uri": "https://localhost:8080/"
        },
        "id": "UPUs_xyHNFGW",
        "outputId": "e60039a1-5d2d-4664-e31d-16dea583dba0"
      },
      "execution_count": null,
      "outputs": [
        {
          "output_type": "execute_result",
          "data": {
            "text/plain": [
              "(466285, 74)"
            ]
          },
          "metadata": {},
          "execution_count": 4
        }
      ]
    },
    {
      "cell_type": "code",
      "source": [
        "dataset.info()"
      ],
      "metadata": {
        "colab": {
          "base_uri": "https://localhost:8080/"
        },
        "id": "r8tYhklGXSi2",
        "outputId": "7f34e7b6-947a-4346-860a-e385263af791"
      },
      "execution_count": null,
      "outputs": [
        {
          "output_type": "stream",
          "name": "stdout",
          "text": [
            "<class 'pandas.core.frame.DataFrame'>\n",
            "Int64Index: 466285 entries, 0 to 466284\n",
            "Data columns (total 74 columns):\n",
            " #   Column                       Non-Null Count   Dtype  \n",
            "---  ------                       --------------   -----  \n",
            " 0   id                           466285 non-null  int64  \n",
            " 1   member_id                    466285 non-null  int64  \n",
            " 2   loan_amnt                    466285 non-null  int64  \n",
            " 3   funded_amnt                  466285 non-null  int64  \n",
            " 4   funded_amnt_inv              466285 non-null  float64\n",
            " 5   term                         466285 non-null  object \n",
            " 6   int_rate                     466285 non-null  float64\n",
            " 7   installment                  466285 non-null  float64\n",
            " 8   grade                        466285 non-null  object \n",
            " 9   sub_grade                    466285 non-null  object \n",
            " 10  emp_title                    438697 non-null  object \n",
            " 11  emp_length                   445277 non-null  object \n",
            " 12  home_ownership               466285 non-null  object \n",
            " 13  annual_inc                   466281 non-null  float64\n",
            " 14  verification_status          466285 non-null  object \n",
            " 15  issue_d                      466285 non-null  object \n",
            " 16  loan_status                  466285 non-null  object \n",
            " 17  pymnt_plan                   466285 non-null  object \n",
            " 18  url                          466285 non-null  object \n",
            " 19  desc                         125983 non-null  object \n",
            " 20  purpose                      466285 non-null  object \n",
            " 21  title                        466265 non-null  object \n",
            " 22  zip_code                     466285 non-null  object \n",
            " 23  addr_state                   466285 non-null  object \n",
            " 24  dti                          466285 non-null  float64\n",
            " 25  delinq_2yrs                  466256 non-null  float64\n",
            " 26  earliest_cr_line             466256 non-null  object \n",
            " 27  inq_last_6mths               466256 non-null  float64\n",
            " 28  mths_since_last_delinq       215934 non-null  float64\n",
            " 29  mths_since_last_record       62638 non-null   float64\n",
            " 30  open_acc                     466256 non-null  float64\n",
            " 31  pub_rec                      466256 non-null  float64\n",
            " 32  revol_bal                    466285 non-null  int64  \n",
            " 33  revol_util                   465945 non-null  float64\n",
            " 34  total_acc                    466256 non-null  float64\n",
            " 35  initial_list_status          466285 non-null  object \n",
            " 36  out_prncp                    466285 non-null  float64\n",
            " 37  out_prncp_inv                466285 non-null  float64\n",
            " 38  total_pymnt                  466285 non-null  float64\n",
            " 39  total_pymnt_inv              466285 non-null  float64\n",
            " 40  total_rec_prncp              466285 non-null  float64\n",
            " 41  total_rec_int                466285 non-null  float64\n",
            " 42  total_rec_late_fee           466285 non-null  float64\n",
            " 43  recoveries                   466285 non-null  float64\n",
            " 44  collection_recovery_fee      466285 non-null  float64\n",
            " 45  last_pymnt_d                 465909 non-null  object \n",
            " 46  last_pymnt_amnt              466285 non-null  float64\n",
            " 47  next_pymnt_d                 239071 non-null  object \n",
            " 48  last_credit_pull_d           466243 non-null  object \n",
            " 49  collections_12_mths_ex_med   466140 non-null  float64\n",
            " 50  mths_since_last_major_derog  98974 non-null   float64\n",
            " 51  policy_code                  466285 non-null  int64  \n",
            " 52  application_type             466285 non-null  object \n",
            " 53  annual_inc_joint             0 non-null       float64\n",
            " 54  dti_joint                    0 non-null       float64\n",
            " 55  verification_status_joint    0 non-null       float64\n",
            " 56  acc_now_delinq               466256 non-null  float64\n",
            " 57  tot_coll_amt                 396009 non-null  float64\n",
            " 58  tot_cur_bal                  396009 non-null  float64\n",
            " 59  open_acc_6m                  0 non-null       float64\n",
            " 60  open_il_6m                   0 non-null       float64\n",
            " 61  open_il_12m                  0 non-null       float64\n",
            " 62  open_il_24m                  0 non-null       float64\n",
            " 63  mths_since_rcnt_il           0 non-null       float64\n",
            " 64  total_bal_il                 0 non-null       float64\n",
            " 65  il_util                      0 non-null       float64\n",
            " 66  open_rv_12m                  0 non-null       float64\n",
            " 67  open_rv_24m                  0 non-null       float64\n",
            " 68  max_bal_bc                   0 non-null       float64\n",
            " 69  all_util                     0 non-null       float64\n",
            " 70  total_rev_hi_lim             396009 non-null  float64\n",
            " 71  inq_fi                       0 non-null       float64\n",
            " 72  total_cu_tl                  0 non-null       float64\n",
            " 73  inq_last_12m                 0 non-null       float64\n",
            "dtypes: float64(46), int64(6), object(22)\n",
            "memory usage: 266.8+ MB\n"
          ]
        }
      ]
    },
    {
      "cell_type": "markdown",
      "source": [
        "Dalam dataset ini, terdapat 466.285 data dengan 74 kolom. Terdapat beberapa kolom yang tidak memiliki nilai. Contoh isi data adalah sebagai berikut:"
      ],
      "metadata": {
        "id": "y4EUc0Z5NZJ5"
      }
    },
    {
      "cell_type": "code",
      "source": [
        "dataset.head()"
      ],
      "metadata": {
        "colab": {
          "base_uri": "https://localhost:8080/"
        },
        "id": "ncrWHv_FPRFi",
        "outputId": "358c9008-3563-4b9a-ce91-87543b41596b"
      },
      "execution_count": null,
      "outputs": [
        {
          "output_type": "execute_result",
          "data": {
            "text/plain": [
              "        id  member_id  loan_amnt  funded_amnt  funded_amnt_inv        term  \\\n",
              "0  1077501    1296599       5000         5000           4975.0   36 months   \n",
              "1  1077430    1314167       2500         2500           2500.0   60 months   \n",
              "2  1077175    1313524       2400         2400           2400.0   36 months   \n",
              "3  1076863    1277178      10000        10000          10000.0   36 months   \n",
              "4  1075358    1311748       3000         3000           3000.0   60 months   \n",
              "\n",
              "   int_rate  installment grade sub_grade  ... total_bal_il il_util  \\\n",
              "0     10.65       162.87     B        B2  ...          NaN     NaN   \n",
              "1     15.27        59.83     C        C4  ...          NaN     NaN   \n",
              "2     15.96        84.33     C        C5  ...          NaN     NaN   \n",
              "3     13.49       339.31     C        C1  ...          NaN     NaN   \n",
              "4     12.69        67.79     B        B5  ...          NaN     NaN   \n",
              "\n",
              "  open_rv_12m  open_rv_24m max_bal_bc all_util total_rev_hi_lim inq_fi  \\\n",
              "0         NaN          NaN        NaN      NaN              NaN    NaN   \n",
              "1         NaN          NaN        NaN      NaN              NaN    NaN   \n",
              "2         NaN          NaN        NaN      NaN              NaN    NaN   \n",
              "3         NaN          NaN        NaN      NaN              NaN    NaN   \n",
              "4         NaN          NaN        NaN      NaN              NaN    NaN   \n",
              "\n",
              "  total_cu_tl inq_last_12m  \n",
              "0         NaN          NaN  \n",
              "1         NaN          NaN  \n",
              "2         NaN          NaN  \n",
              "3         NaN          NaN  \n",
              "4         NaN          NaN  \n",
              "\n",
              "[5 rows x 74 columns]"
            ],
            "text/html": [
              "\n",
              "  <div id=\"df-650d92ab-c706-4808-8e8b-d0b80b35bccd\" class=\"colab-df-container\">\n",
              "    <div>\n",
              "<style scoped>\n",
              "    .dataframe tbody tr th:only-of-type {\n",
              "        vertical-align: middle;\n",
              "    }\n",
              "\n",
              "    .dataframe tbody tr th {\n",
              "        vertical-align: top;\n",
              "    }\n",
              "\n",
              "    .dataframe thead th {\n",
              "        text-align: right;\n",
              "    }\n",
              "</style>\n",
              "<table border=\"1\" class=\"dataframe\">\n",
              "  <thead>\n",
              "    <tr style=\"text-align: right;\">\n",
              "      <th></th>\n",
              "      <th>id</th>\n",
              "      <th>member_id</th>\n",
              "      <th>loan_amnt</th>\n",
              "      <th>funded_amnt</th>\n",
              "      <th>funded_amnt_inv</th>\n",
              "      <th>term</th>\n",
              "      <th>int_rate</th>\n",
              "      <th>installment</th>\n",
              "      <th>grade</th>\n",
              "      <th>sub_grade</th>\n",
              "      <th>...</th>\n",
              "      <th>total_bal_il</th>\n",
              "      <th>il_util</th>\n",
              "      <th>open_rv_12m</th>\n",
              "      <th>open_rv_24m</th>\n",
              "      <th>max_bal_bc</th>\n",
              "      <th>all_util</th>\n",
              "      <th>total_rev_hi_lim</th>\n",
              "      <th>inq_fi</th>\n",
              "      <th>total_cu_tl</th>\n",
              "      <th>inq_last_12m</th>\n",
              "    </tr>\n",
              "  </thead>\n",
              "  <tbody>\n",
              "    <tr>\n",
              "      <th>0</th>\n",
              "      <td>1077501</td>\n",
              "      <td>1296599</td>\n",
              "      <td>5000</td>\n",
              "      <td>5000</td>\n",
              "      <td>4975.0</td>\n",
              "      <td>36 months</td>\n",
              "      <td>10.65</td>\n",
              "      <td>162.87</td>\n",
              "      <td>B</td>\n",
              "      <td>B2</td>\n",
              "      <td>...</td>\n",
              "      <td>NaN</td>\n",
              "      <td>NaN</td>\n",
              "      <td>NaN</td>\n",
              "      <td>NaN</td>\n",
              "      <td>NaN</td>\n",
              "      <td>NaN</td>\n",
              "      <td>NaN</td>\n",
              "      <td>NaN</td>\n",
              "      <td>NaN</td>\n",
              "      <td>NaN</td>\n",
              "    </tr>\n",
              "    <tr>\n",
              "      <th>1</th>\n",
              "      <td>1077430</td>\n",
              "      <td>1314167</td>\n",
              "      <td>2500</td>\n",
              "      <td>2500</td>\n",
              "      <td>2500.0</td>\n",
              "      <td>60 months</td>\n",
              "      <td>15.27</td>\n",
              "      <td>59.83</td>\n",
              "      <td>C</td>\n",
              "      <td>C4</td>\n",
              "      <td>...</td>\n",
              "      <td>NaN</td>\n",
              "      <td>NaN</td>\n",
              "      <td>NaN</td>\n",
              "      <td>NaN</td>\n",
              "      <td>NaN</td>\n",
              "      <td>NaN</td>\n",
              "      <td>NaN</td>\n",
              "      <td>NaN</td>\n",
              "      <td>NaN</td>\n",
              "      <td>NaN</td>\n",
              "    </tr>\n",
              "    <tr>\n",
              "      <th>2</th>\n",
              "      <td>1077175</td>\n",
              "      <td>1313524</td>\n",
              "      <td>2400</td>\n",
              "      <td>2400</td>\n",
              "      <td>2400.0</td>\n",
              "      <td>36 months</td>\n",
              "      <td>15.96</td>\n",
              "      <td>84.33</td>\n",
              "      <td>C</td>\n",
              "      <td>C5</td>\n",
              "      <td>...</td>\n",
              "      <td>NaN</td>\n",
              "      <td>NaN</td>\n",
              "      <td>NaN</td>\n",
              "      <td>NaN</td>\n",
              "      <td>NaN</td>\n",
              "      <td>NaN</td>\n",
              "      <td>NaN</td>\n",
              "      <td>NaN</td>\n",
              "      <td>NaN</td>\n",
              "      <td>NaN</td>\n",
              "    </tr>\n",
              "    <tr>\n",
              "      <th>3</th>\n",
              "      <td>1076863</td>\n",
              "      <td>1277178</td>\n",
              "      <td>10000</td>\n",
              "      <td>10000</td>\n",
              "      <td>10000.0</td>\n",
              "      <td>36 months</td>\n",
              "      <td>13.49</td>\n",
              "      <td>339.31</td>\n",
              "      <td>C</td>\n",
              "      <td>C1</td>\n",
              "      <td>...</td>\n",
              "      <td>NaN</td>\n",
              "      <td>NaN</td>\n",
              "      <td>NaN</td>\n",
              "      <td>NaN</td>\n",
              "      <td>NaN</td>\n",
              "      <td>NaN</td>\n",
              "      <td>NaN</td>\n",
              "      <td>NaN</td>\n",
              "      <td>NaN</td>\n",
              "      <td>NaN</td>\n",
              "    </tr>\n",
              "    <tr>\n",
              "      <th>4</th>\n",
              "      <td>1075358</td>\n",
              "      <td>1311748</td>\n",
              "      <td>3000</td>\n",
              "      <td>3000</td>\n",
              "      <td>3000.0</td>\n",
              "      <td>60 months</td>\n",
              "      <td>12.69</td>\n",
              "      <td>67.79</td>\n",
              "      <td>B</td>\n",
              "      <td>B5</td>\n",
              "      <td>...</td>\n",
              "      <td>NaN</td>\n",
              "      <td>NaN</td>\n",
              "      <td>NaN</td>\n",
              "      <td>NaN</td>\n",
              "      <td>NaN</td>\n",
              "      <td>NaN</td>\n",
              "      <td>NaN</td>\n",
              "      <td>NaN</td>\n",
              "      <td>NaN</td>\n",
              "      <td>NaN</td>\n",
              "    </tr>\n",
              "  </tbody>\n",
              "</table>\n",
              "<p>5 rows × 74 columns</p>\n",
              "</div>\n",
              "    <div class=\"colab-df-buttons\">\n",
              "\n",
              "  <div class=\"colab-df-container\">\n",
              "    <button class=\"colab-df-convert\" onclick=\"convertToInteractive('df-650d92ab-c706-4808-8e8b-d0b80b35bccd')\"\n",
              "            title=\"Convert this dataframe to an interactive table.\"\n",
              "            style=\"display:none;\">\n",
              "\n",
              "  <svg xmlns=\"http://www.w3.org/2000/svg\" height=\"24px\" viewBox=\"0 -960 960 960\">\n",
              "    <path d=\"M120-120v-720h720v720H120Zm60-500h600v-160H180v160Zm220 220h160v-160H400v160Zm0 220h160v-160H400v160ZM180-400h160v-160H180v160Zm440 0h160v-160H620v160ZM180-180h160v-160H180v160Zm440 0h160v-160H620v160Z\"/>\n",
              "  </svg>\n",
              "    </button>\n",
              "\n",
              "  <style>\n",
              "    .colab-df-container {\n",
              "      display:flex;\n",
              "      gap: 12px;\n",
              "    }\n",
              "\n",
              "    .colab-df-convert {\n",
              "      background-color: #E8F0FE;\n",
              "      border: none;\n",
              "      border-radius: 50%;\n",
              "      cursor: pointer;\n",
              "      display: none;\n",
              "      fill: #1967D2;\n",
              "      height: 32px;\n",
              "      padding: 0 0 0 0;\n",
              "      width: 32px;\n",
              "    }\n",
              "\n",
              "    .colab-df-convert:hover {\n",
              "      background-color: #E2EBFA;\n",
              "      box-shadow: 0px 1px 2px rgba(60, 64, 67, 0.3), 0px 1px 3px 1px rgba(60, 64, 67, 0.15);\n",
              "      fill: #174EA6;\n",
              "    }\n",
              "\n",
              "    .colab-df-buttons div {\n",
              "      margin-bottom: 4px;\n",
              "    }\n",
              "\n",
              "    [theme=dark] .colab-df-convert {\n",
              "      background-color: #3B4455;\n",
              "      fill: #D2E3FC;\n",
              "    }\n",
              "\n",
              "    [theme=dark] .colab-df-convert:hover {\n",
              "      background-color: #434B5C;\n",
              "      box-shadow: 0px 1px 3px 1px rgba(0, 0, 0, 0.15);\n",
              "      filter: drop-shadow(0px 1px 2px rgba(0, 0, 0, 0.3));\n",
              "      fill: #FFFFFF;\n",
              "    }\n",
              "  </style>\n",
              "\n",
              "    <script>\n",
              "      const buttonEl =\n",
              "        document.querySelector('#df-650d92ab-c706-4808-8e8b-d0b80b35bccd button.colab-df-convert');\n",
              "      buttonEl.style.display =\n",
              "        google.colab.kernel.accessAllowed ? 'block' : 'none';\n",
              "\n",
              "      async function convertToInteractive(key) {\n",
              "        const element = document.querySelector('#df-650d92ab-c706-4808-8e8b-d0b80b35bccd');\n",
              "        const dataTable =\n",
              "          await google.colab.kernel.invokeFunction('convertToInteractive',\n",
              "                                                    [key], {});\n",
              "        if (!dataTable) return;\n",
              "\n",
              "        const docLinkHtml = 'Like what you see? Visit the ' +\n",
              "          '<a target=\"_blank\" href=https://colab.research.google.com/notebooks/data_table.ipynb>data table notebook</a>'\n",
              "          + ' to learn more about interactive tables.';\n",
              "        element.innerHTML = '';\n",
              "        dataTable['output_type'] = 'display_data';\n",
              "        await google.colab.output.renderOutput(dataTable, element);\n",
              "        const docLink = document.createElement('div');\n",
              "        docLink.innerHTML = docLinkHtml;\n",
              "        element.appendChild(docLink);\n",
              "      }\n",
              "    </script>\n",
              "  </div>\n",
              "\n",
              "\n",
              "<div id=\"df-d2dbe7d4-ab01-42ae-a563-ce20505687c9\">\n",
              "  <button class=\"colab-df-quickchart\" onclick=\"quickchart('df-d2dbe7d4-ab01-42ae-a563-ce20505687c9')\"\n",
              "            title=\"Suggest charts\"\n",
              "            style=\"display:none;\">\n",
              "\n",
              "<svg xmlns=\"http://www.w3.org/2000/svg\" height=\"24px\"viewBox=\"0 0 24 24\"\n",
              "     width=\"24px\">\n",
              "    <g>\n",
              "        <path d=\"M19 3H5c-1.1 0-2 .9-2 2v14c0 1.1.9 2 2 2h14c1.1 0 2-.9 2-2V5c0-1.1-.9-2-2-2zM9 17H7v-7h2v7zm4 0h-2V7h2v10zm4 0h-2v-4h2v4z\"/>\n",
              "    </g>\n",
              "</svg>\n",
              "  </button>\n",
              "\n",
              "<style>\n",
              "  .colab-df-quickchart {\n",
              "      --bg-color: #E8F0FE;\n",
              "      --fill-color: #1967D2;\n",
              "      --hover-bg-color: #E2EBFA;\n",
              "      --hover-fill-color: #174EA6;\n",
              "      --disabled-fill-color: #AAA;\n",
              "      --disabled-bg-color: #DDD;\n",
              "  }\n",
              "\n",
              "  [theme=dark] .colab-df-quickchart {\n",
              "      --bg-color: #3B4455;\n",
              "      --fill-color: #D2E3FC;\n",
              "      --hover-bg-color: #434B5C;\n",
              "      --hover-fill-color: #FFFFFF;\n",
              "      --disabled-bg-color: #3B4455;\n",
              "      --disabled-fill-color: #666;\n",
              "  }\n",
              "\n",
              "  .colab-df-quickchart {\n",
              "    background-color: var(--bg-color);\n",
              "    border: none;\n",
              "    border-radius: 50%;\n",
              "    cursor: pointer;\n",
              "    display: none;\n",
              "    fill: var(--fill-color);\n",
              "    height: 32px;\n",
              "    padding: 0;\n",
              "    width: 32px;\n",
              "  }\n",
              "\n",
              "  .colab-df-quickchart:hover {\n",
              "    background-color: var(--hover-bg-color);\n",
              "    box-shadow: 0 1px 2px rgba(60, 64, 67, 0.3), 0 1px 3px 1px rgba(60, 64, 67, 0.15);\n",
              "    fill: var(--button-hover-fill-color);\n",
              "  }\n",
              "\n",
              "  .colab-df-quickchart-complete:disabled,\n",
              "  .colab-df-quickchart-complete:disabled:hover {\n",
              "    background-color: var(--disabled-bg-color);\n",
              "    fill: var(--disabled-fill-color);\n",
              "    box-shadow: none;\n",
              "  }\n",
              "\n",
              "  .colab-df-spinner {\n",
              "    border: 2px solid var(--fill-color);\n",
              "    border-color: transparent;\n",
              "    border-bottom-color: var(--fill-color);\n",
              "    animation:\n",
              "      spin 1s steps(1) infinite;\n",
              "  }\n",
              "\n",
              "  @keyframes spin {\n",
              "    0% {\n",
              "      border-color: transparent;\n",
              "      border-bottom-color: var(--fill-color);\n",
              "      border-left-color: var(--fill-color);\n",
              "    }\n",
              "    20% {\n",
              "      border-color: transparent;\n",
              "      border-left-color: var(--fill-color);\n",
              "      border-top-color: var(--fill-color);\n",
              "    }\n",
              "    30% {\n",
              "      border-color: transparent;\n",
              "      border-left-color: var(--fill-color);\n",
              "      border-top-color: var(--fill-color);\n",
              "      border-right-color: var(--fill-color);\n",
              "    }\n",
              "    40% {\n",
              "      border-color: transparent;\n",
              "      border-right-color: var(--fill-color);\n",
              "      border-top-color: var(--fill-color);\n",
              "    }\n",
              "    60% {\n",
              "      border-color: transparent;\n",
              "      border-right-color: var(--fill-color);\n",
              "    }\n",
              "    80% {\n",
              "      border-color: transparent;\n",
              "      border-right-color: var(--fill-color);\n",
              "      border-bottom-color: var(--fill-color);\n",
              "    }\n",
              "    90% {\n",
              "      border-color: transparent;\n",
              "      border-bottom-color: var(--fill-color);\n",
              "    }\n",
              "  }\n",
              "</style>\n",
              "\n",
              "  <script>\n",
              "    async function quickchart(key) {\n",
              "      const quickchartButtonEl =\n",
              "        document.querySelector('#' + key + ' button');\n",
              "      quickchartButtonEl.disabled = true;  // To prevent multiple clicks.\n",
              "      quickchartButtonEl.classList.add('colab-df-spinner');\n",
              "      try {\n",
              "        const charts = await google.colab.kernel.invokeFunction(\n",
              "            'suggestCharts', [key], {});\n",
              "      } catch (error) {\n",
              "        console.error('Error during call to suggestCharts:', error);\n",
              "      }\n",
              "      quickchartButtonEl.classList.remove('colab-df-spinner');\n",
              "      quickchartButtonEl.classList.add('colab-df-quickchart-complete');\n",
              "    }\n",
              "    (() => {\n",
              "      let quickchartButtonEl =\n",
              "        document.querySelector('#df-d2dbe7d4-ab01-42ae-a563-ce20505687c9 button');\n",
              "      quickchartButtonEl.style.display =\n",
              "        google.colab.kernel.accessAllowed ? 'block' : 'none';\n",
              "    })();\n",
              "  </script>\n",
              "</div>\n",
              "    </div>\n",
              "  </div>\n"
            ]
          },
          "metadata": {},
          "execution_count": 6
        }
      ]
    },
    {
      "cell_type": "markdown",
      "source": [
        "Langkah selanjutnya, kita cek apakah terdapat data duplikat pada dataset dengan menghitung jumlah id dan member id unik pada dataset"
      ],
      "metadata": {
        "id": "JOT0TbLWN0-v"
      }
    },
    {
      "cell_type": "code",
      "source": [
        "print(\"Jumlah id unik dan member id unik\")\n",
        "print(\"Jumlah id unik: \", dataset.id.nunique())\n",
        "print(\"Jumlah member id unik: \", dataset.member_id.nunique())"
      ],
      "metadata": {
        "colab": {
          "base_uri": "https://localhost:8080/"
        },
        "id": "kmno659AOfyY",
        "outputId": "2a35e7dd-106a-4ac9-94f9-4313d76e6131"
      },
      "execution_count": null,
      "outputs": [
        {
          "output_type": "stream",
          "name": "stdout",
          "text": [
            "Jumlah id unik dan member id unik\n",
            "Jumlah id unik:  466285\n",
            "Jumlah member id unik:  466285\n"
          ]
        }
      ]
    },
    {
      "cell_type": "markdown",
      "source": [
        "Jumlah id unik dan member id unik pada dataset yang digunakan memiliki nilai yang sama sehingga dapat disimpulkan tidak ada data duplikat pada dataset."
      ],
      "metadata": {
        "id": "rumH-n5WQF-q"
      }
    },
    {
      "cell_type": "markdown",
      "source": [
        "Selanjutnya, kita hilangkan terlebih dahulu kolom-kolom yang kita tidak perlukan seperti kolom identitas, kolom free text, kolom yang berisi nilai NULL, dan kolom lainnya."
      ],
      "metadata": {
        "id": "3oGO3gHmTxl0"
      }
    },
    {
      "cell_type": "code",
      "source": [
        "drop_column = ['id', 'member_id', 'zip_code', 'url', 'desc', 'annual_inc_joint',\n",
        "               'dti_joint', 'verification_status_joint', 'open_acc_6m',\n",
        "               'open_il_6m', 'open_il_12m', 'open_il_24m', 'mths_since_rcnt_il',\n",
        "               'total_bal_il', 'il_util', 'open_rv_12m', 'open_rv_24m',\n",
        "               'max_bal_bc', 'all_util', 'inq_fi', 'total_cu_tl', 'inq_last_12m',\n",
        "               'sub_grade']\n",
        "\n",
        "dataset = dataset.drop(drop_column, axis=1)"
      ],
      "metadata": {
        "id": "2fNCw5XjRGgL"
      },
      "execution_count": null,
      "outputs": []
    },
    {
      "cell_type": "markdown",
      "source": [
        "Terdapat 23 kolom yang dihapus pada tahap ini. Salah satu kolom yang dihapus adalah kolom `sub_grade`. Kolom `sub_grade` dihapus karena grade pinjaman sudah diwakili oleh kolom grade. Kolom sisanya dihapus karena kolom-kolom tersebut merupakan kolom identitas, kolom free text dan kolom yang berisi nilai NULL. Jumlah kolom yang tersisa saat ini adalah 51 kolom."
      ],
      "metadata": {
        "id": "LeyyB_SoZvwc"
      }
    },
    {
      "cell_type": "code",
      "source": [
        "dataset.info()"
      ],
      "metadata": {
        "colab": {
          "base_uri": "https://localhost:8080/"
        },
        "id": "Cmei8q2oZogb",
        "outputId": "0ce31001-1678-4356-a1a1-e57b0448e02c"
      },
      "execution_count": null,
      "outputs": [
        {
          "output_type": "stream",
          "name": "stdout",
          "text": [
            "<class 'pandas.core.frame.DataFrame'>\n",
            "Int64Index: 466285 entries, 0 to 466284\n",
            "Data columns (total 51 columns):\n",
            " #   Column                       Non-Null Count   Dtype  \n",
            "---  ------                       --------------   -----  \n",
            " 0   loan_amnt                    466285 non-null  int64  \n",
            " 1   funded_amnt                  466285 non-null  int64  \n",
            " 2   funded_amnt_inv              466285 non-null  float64\n",
            " 3   term                         466285 non-null  object \n",
            " 4   int_rate                     466285 non-null  float64\n",
            " 5   installment                  466285 non-null  float64\n",
            " 6   grade                        466285 non-null  object \n",
            " 7   emp_title                    438697 non-null  object \n",
            " 8   emp_length                   445277 non-null  object \n",
            " 9   home_ownership               466285 non-null  object \n",
            " 10  annual_inc                   466281 non-null  float64\n",
            " 11  verification_status          466285 non-null  object \n",
            " 12  issue_d                      466285 non-null  object \n",
            " 13  loan_status                  466285 non-null  object \n",
            " 14  pymnt_plan                   466285 non-null  object \n",
            " 15  purpose                      466285 non-null  object \n",
            " 16  title                        466265 non-null  object \n",
            " 17  addr_state                   466285 non-null  object \n",
            " 18  dti                          466285 non-null  float64\n",
            " 19  delinq_2yrs                  466256 non-null  float64\n",
            " 20  earliest_cr_line             466256 non-null  object \n",
            " 21  inq_last_6mths               466256 non-null  float64\n",
            " 22  mths_since_last_delinq       215934 non-null  float64\n",
            " 23  mths_since_last_record       62638 non-null   float64\n",
            " 24  open_acc                     466256 non-null  float64\n",
            " 25  pub_rec                      466256 non-null  float64\n",
            " 26  revol_bal                    466285 non-null  int64  \n",
            " 27  revol_util                   465945 non-null  float64\n",
            " 28  total_acc                    466256 non-null  float64\n",
            " 29  initial_list_status          466285 non-null  object \n",
            " 30  out_prncp                    466285 non-null  float64\n",
            " 31  out_prncp_inv                466285 non-null  float64\n",
            " 32  total_pymnt                  466285 non-null  float64\n",
            " 33  total_pymnt_inv              466285 non-null  float64\n",
            " 34  total_rec_prncp              466285 non-null  float64\n",
            " 35  total_rec_int                466285 non-null  float64\n",
            " 36  total_rec_late_fee           466285 non-null  float64\n",
            " 37  recoveries                   466285 non-null  float64\n",
            " 38  collection_recovery_fee      466285 non-null  float64\n",
            " 39  last_pymnt_d                 465909 non-null  object \n",
            " 40  last_pymnt_amnt              466285 non-null  float64\n",
            " 41  next_pymnt_d                 239071 non-null  object \n",
            " 42  last_credit_pull_d           466243 non-null  object \n",
            " 43  collections_12_mths_ex_med   466140 non-null  float64\n",
            " 44  mths_since_last_major_derog  98974 non-null   float64\n",
            " 45  policy_code                  466285 non-null  int64  \n",
            " 46  application_type             466285 non-null  object \n",
            " 47  acc_now_delinq               466256 non-null  float64\n",
            " 48  tot_coll_amt                 396009 non-null  float64\n",
            " 49  tot_cur_bal                  396009 non-null  float64\n",
            " 50  total_rev_hi_lim             396009 non-null  float64\n",
            "dtypes: float64(29), int64(4), object(18)\n",
            "memory usage: 185.0+ MB\n"
          ]
        }
      ]
    },
    {
      "cell_type": "code",
      "source": [
        "dataset.head()"
      ],
      "metadata": {
        "colab": {
          "base_uri": "https://localhost:8080/"
        },
        "id": "EHHqQLSTa3VC",
        "outputId": "0be185fc-2e44-4da7-9954-d19501a1ae39"
      },
      "execution_count": null,
      "outputs": [
        {
          "output_type": "execute_result",
          "data": {
            "text/plain": [
              "   loan_amnt  funded_amnt  funded_amnt_inv        term  int_rate  installment  \\\n",
              "0       5000         5000           4975.0   36 months     10.65       162.87   \n",
              "1       2500         2500           2500.0   60 months     15.27        59.83   \n",
              "2       2400         2400           2400.0   36 months     15.96        84.33   \n",
              "3      10000        10000          10000.0   36 months     13.49       339.31   \n",
              "4       3000         3000           3000.0   60 months     12.69        67.79   \n",
              "\n",
              "  grade                 emp_title emp_length home_ownership  ...  \\\n",
              "0     B                       NaN  10+ years           RENT  ...   \n",
              "1     C                     Ryder   < 1 year           RENT  ...   \n",
              "2     C                       NaN  10+ years           RENT  ...   \n",
              "3     C       AIR RESOURCES BOARD  10+ years           RENT  ...   \n",
              "4     B  University Medical Group     1 year           RENT  ...   \n",
              "\n",
              "   next_pymnt_d last_credit_pull_d collections_12_mths_ex_med  \\\n",
              "0           NaN             Jan-16                        0.0   \n",
              "1           NaN             Sep-13                        0.0   \n",
              "2           NaN             Jan-16                        0.0   \n",
              "3           NaN             Jan-15                        0.0   \n",
              "4        Feb-16             Jan-16                        0.0   \n",
              "\n",
              "  mths_since_last_major_derog policy_code application_type acc_now_delinq  \\\n",
              "0                         NaN           1       INDIVIDUAL            0.0   \n",
              "1                         NaN           1       INDIVIDUAL            0.0   \n",
              "2                         NaN           1       INDIVIDUAL            0.0   \n",
              "3                         NaN           1       INDIVIDUAL            0.0   \n",
              "4                         NaN           1       INDIVIDUAL            0.0   \n",
              "\n",
              "  tot_coll_amt  tot_cur_bal  total_rev_hi_lim  \n",
              "0          NaN          NaN               NaN  \n",
              "1          NaN          NaN               NaN  \n",
              "2          NaN          NaN               NaN  \n",
              "3          NaN          NaN               NaN  \n",
              "4          NaN          NaN               NaN  \n",
              "\n",
              "[5 rows x 51 columns]"
            ],
            "text/html": [
              "\n",
              "  <div id=\"df-ee929acf-bca2-4c52-8930-cf653ffc0601\" class=\"colab-df-container\">\n",
              "    <div>\n",
              "<style scoped>\n",
              "    .dataframe tbody tr th:only-of-type {\n",
              "        vertical-align: middle;\n",
              "    }\n",
              "\n",
              "    .dataframe tbody tr th {\n",
              "        vertical-align: top;\n",
              "    }\n",
              "\n",
              "    .dataframe thead th {\n",
              "        text-align: right;\n",
              "    }\n",
              "</style>\n",
              "<table border=\"1\" class=\"dataframe\">\n",
              "  <thead>\n",
              "    <tr style=\"text-align: right;\">\n",
              "      <th></th>\n",
              "      <th>loan_amnt</th>\n",
              "      <th>funded_amnt</th>\n",
              "      <th>funded_amnt_inv</th>\n",
              "      <th>term</th>\n",
              "      <th>int_rate</th>\n",
              "      <th>installment</th>\n",
              "      <th>grade</th>\n",
              "      <th>emp_title</th>\n",
              "      <th>emp_length</th>\n",
              "      <th>home_ownership</th>\n",
              "      <th>...</th>\n",
              "      <th>next_pymnt_d</th>\n",
              "      <th>last_credit_pull_d</th>\n",
              "      <th>collections_12_mths_ex_med</th>\n",
              "      <th>mths_since_last_major_derog</th>\n",
              "      <th>policy_code</th>\n",
              "      <th>application_type</th>\n",
              "      <th>acc_now_delinq</th>\n",
              "      <th>tot_coll_amt</th>\n",
              "      <th>tot_cur_bal</th>\n",
              "      <th>total_rev_hi_lim</th>\n",
              "    </tr>\n",
              "  </thead>\n",
              "  <tbody>\n",
              "    <tr>\n",
              "      <th>0</th>\n",
              "      <td>5000</td>\n",
              "      <td>5000</td>\n",
              "      <td>4975.0</td>\n",
              "      <td>36 months</td>\n",
              "      <td>10.65</td>\n",
              "      <td>162.87</td>\n",
              "      <td>B</td>\n",
              "      <td>NaN</td>\n",
              "      <td>10+ years</td>\n",
              "      <td>RENT</td>\n",
              "      <td>...</td>\n",
              "      <td>NaN</td>\n",
              "      <td>Jan-16</td>\n",
              "      <td>0.0</td>\n",
              "      <td>NaN</td>\n",
              "      <td>1</td>\n",
              "      <td>INDIVIDUAL</td>\n",
              "      <td>0.0</td>\n",
              "      <td>NaN</td>\n",
              "      <td>NaN</td>\n",
              "      <td>NaN</td>\n",
              "    </tr>\n",
              "    <tr>\n",
              "      <th>1</th>\n",
              "      <td>2500</td>\n",
              "      <td>2500</td>\n",
              "      <td>2500.0</td>\n",
              "      <td>60 months</td>\n",
              "      <td>15.27</td>\n",
              "      <td>59.83</td>\n",
              "      <td>C</td>\n",
              "      <td>Ryder</td>\n",
              "      <td>&lt; 1 year</td>\n",
              "      <td>RENT</td>\n",
              "      <td>...</td>\n",
              "      <td>NaN</td>\n",
              "      <td>Sep-13</td>\n",
              "      <td>0.0</td>\n",
              "      <td>NaN</td>\n",
              "      <td>1</td>\n",
              "      <td>INDIVIDUAL</td>\n",
              "      <td>0.0</td>\n",
              "      <td>NaN</td>\n",
              "      <td>NaN</td>\n",
              "      <td>NaN</td>\n",
              "    </tr>\n",
              "    <tr>\n",
              "      <th>2</th>\n",
              "      <td>2400</td>\n",
              "      <td>2400</td>\n",
              "      <td>2400.0</td>\n",
              "      <td>36 months</td>\n",
              "      <td>15.96</td>\n",
              "      <td>84.33</td>\n",
              "      <td>C</td>\n",
              "      <td>NaN</td>\n",
              "      <td>10+ years</td>\n",
              "      <td>RENT</td>\n",
              "      <td>...</td>\n",
              "      <td>NaN</td>\n",
              "      <td>Jan-16</td>\n",
              "      <td>0.0</td>\n",
              "      <td>NaN</td>\n",
              "      <td>1</td>\n",
              "      <td>INDIVIDUAL</td>\n",
              "      <td>0.0</td>\n",
              "      <td>NaN</td>\n",
              "      <td>NaN</td>\n",
              "      <td>NaN</td>\n",
              "    </tr>\n",
              "    <tr>\n",
              "      <th>3</th>\n",
              "      <td>10000</td>\n",
              "      <td>10000</td>\n",
              "      <td>10000.0</td>\n",
              "      <td>36 months</td>\n",
              "      <td>13.49</td>\n",
              "      <td>339.31</td>\n",
              "      <td>C</td>\n",
              "      <td>AIR RESOURCES BOARD</td>\n",
              "      <td>10+ years</td>\n",
              "      <td>RENT</td>\n",
              "      <td>...</td>\n",
              "      <td>NaN</td>\n",
              "      <td>Jan-15</td>\n",
              "      <td>0.0</td>\n",
              "      <td>NaN</td>\n",
              "      <td>1</td>\n",
              "      <td>INDIVIDUAL</td>\n",
              "      <td>0.0</td>\n",
              "      <td>NaN</td>\n",
              "      <td>NaN</td>\n",
              "      <td>NaN</td>\n",
              "    </tr>\n",
              "    <tr>\n",
              "      <th>4</th>\n",
              "      <td>3000</td>\n",
              "      <td>3000</td>\n",
              "      <td>3000.0</td>\n",
              "      <td>60 months</td>\n",
              "      <td>12.69</td>\n",
              "      <td>67.79</td>\n",
              "      <td>B</td>\n",
              "      <td>University Medical Group</td>\n",
              "      <td>1 year</td>\n",
              "      <td>RENT</td>\n",
              "      <td>...</td>\n",
              "      <td>Feb-16</td>\n",
              "      <td>Jan-16</td>\n",
              "      <td>0.0</td>\n",
              "      <td>NaN</td>\n",
              "      <td>1</td>\n",
              "      <td>INDIVIDUAL</td>\n",
              "      <td>0.0</td>\n",
              "      <td>NaN</td>\n",
              "      <td>NaN</td>\n",
              "      <td>NaN</td>\n",
              "    </tr>\n",
              "  </tbody>\n",
              "</table>\n",
              "<p>5 rows × 51 columns</p>\n",
              "</div>\n",
              "    <div class=\"colab-df-buttons\">\n",
              "\n",
              "  <div class=\"colab-df-container\">\n",
              "    <button class=\"colab-df-convert\" onclick=\"convertToInteractive('df-ee929acf-bca2-4c52-8930-cf653ffc0601')\"\n",
              "            title=\"Convert this dataframe to an interactive table.\"\n",
              "            style=\"display:none;\">\n",
              "\n",
              "  <svg xmlns=\"http://www.w3.org/2000/svg\" height=\"24px\" viewBox=\"0 -960 960 960\">\n",
              "    <path d=\"M120-120v-720h720v720H120Zm60-500h600v-160H180v160Zm220 220h160v-160H400v160Zm0 220h160v-160H400v160ZM180-400h160v-160H180v160Zm440 0h160v-160H620v160ZM180-180h160v-160H180v160Zm440 0h160v-160H620v160Z\"/>\n",
              "  </svg>\n",
              "    </button>\n",
              "\n",
              "  <style>\n",
              "    .colab-df-container {\n",
              "      display:flex;\n",
              "      gap: 12px;\n",
              "    }\n",
              "\n",
              "    .colab-df-convert {\n",
              "      background-color: #E8F0FE;\n",
              "      border: none;\n",
              "      border-radius: 50%;\n",
              "      cursor: pointer;\n",
              "      display: none;\n",
              "      fill: #1967D2;\n",
              "      height: 32px;\n",
              "      padding: 0 0 0 0;\n",
              "      width: 32px;\n",
              "    }\n",
              "\n",
              "    .colab-df-convert:hover {\n",
              "      background-color: #E2EBFA;\n",
              "      box-shadow: 0px 1px 2px rgba(60, 64, 67, 0.3), 0px 1px 3px 1px rgba(60, 64, 67, 0.15);\n",
              "      fill: #174EA6;\n",
              "    }\n",
              "\n",
              "    .colab-df-buttons div {\n",
              "      margin-bottom: 4px;\n",
              "    }\n",
              "\n",
              "    [theme=dark] .colab-df-convert {\n",
              "      background-color: #3B4455;\n",
              "      fill: #D2E3FC;\n",
              "    }\n",
              "\n",
              "    [theme=dark] .colab-df-convert:hover {\n",
              "      background-color: #434B5C;\n",
              "      box-shadow: 0px 1px 3px 1px rgba(0, 0, 0, 0.15);\n",
              "      filter: drop-shadow(0px 1px 2px rgba(0, 0, 0, 0.3));\n",
              "      fill: #FFFFFF;\n",
              "    }\n",
              "  </style>\n",
              "\n",
              "    <script>\n",
              "      const buttonEl =\n",
              "        document.querySelector('#df-ee929acf-bca2-4c52-8930-cf653ffc0601 button.colab-df-convert');\n",
              "      buttonEl.style.display =\n",
              "        google.colab.kernel.accessAllowed ? 'block' : 'none';\n",
              "\n",
              "      async function convertToInteractive(key) {\n",
              "        const element = document.querySelector('#df-ee929acf-bca2-4c52-8930-cf653ffc0601');\n",
              "        const dataTable =\n",
              "          await google.colab.kernel.invokeFunction('convertToInteractive',\n",
              "                                                    [key], {});\n",
              "        if (!dataTable) return;\n",
              "\n",
              "        const docLinkHtml = 'Like what you see? Visit the ' +\n",
              "          '<a target=\"_blank\" href=https://colab.research.google.com/notebooks/data_table.ipynb>data table notebook</a>'\n",
              "          + ' to learn more about interactive tables.';\n",
              "        element.innerHTML = '';\n",
              "        dataTable['output_type'] = 'display_data';\n",
              "        await google.colab.output.renderOutput(dataTable, element);\n",
              "        const docLink = document.createElement('div');\n",
              "        docLink.innerHTML = docLinkHtml;\n",
              "        element.appendChild(docLink);\n",
              "      }\n",
              "    </script>\n",
              "  </div>\n",
              "\n",
              "\n",
              "<div id=\"df-9ade6b90-3e19-4580-8fe9-82163aa9ff21\">\n",
              "  <button class=\"colab-df-quickchart\" onclick=\"quickchart('df-9ade6b90-3e19-4580-8fe9-82163aa9ff21')\"\n",
              "            title=\"Suggest charts\"\n",
              "            style=\"display:none;\">\n",
              "\n",
              "<svg xmlns=\"http://www.w3.org/2000/svg\" height=\"24px\"viewBox=\"0 0 24 24\"\n",
              "     width=\"24px\">\n",
              "    <g>\n",
              "        <path d=\"M19 3H5c-1.1 0-2 .9-2 2v14c0 1.1.9 2 2 2h14c1.1 0 2-.9 2-2V5c0-1.1-.9-2-2-2zM9 17H7v-7h2v7zm4 0h-2V7h2v10zm4 0h-2v-4h2v4z\"/>\n",
              "    </g>\n",
              "</svg>\n",
              "  </button>\n",
              "\n",
              "<style>\n",
              "  .colab-df-quickchart {\n",
              "      --bg-color: #E8F0FE;\n",
              "      --fill-color: #1967D2;\n",
              "      --hover-bg-color: #E2EBFA;\n",
              "      --hover-fill-color: #174EA6;\n",
              "      --disabled-fill-color: #AAA;\n",
              "      --disabled-bg-color: #DDD;\n",
              "  }\n",
              "\n",
              "  [theme=dark] .colab-df-quickchart {\n",
              "      --bg-color: #3B4455;\n",
              "      --fill-color: #D2E3FC;\n",
              "      --hover-bg-color: #434B5C;\n",
              "      --hover-fill-color: #FFFFFF;\n",
              "      --disabled-bg-color: #3B4455;\n",
              "      --disabled-fill-color: #666;\n",
              "  }\n",
              "\n",
              "  .colab-df-quickchart {\n",
              "    background-color: var(--bg-color);\n",
              "    border: none;\n",
              "    border-radius: 50%;\n",
              "    cursor: pointer;\n",
              "    display: none;\n",
              "    fill: var(--fill-color);\n",
              "    height: 32px;\n",
              "    padding: 0;\n",
              "    width: 32px;\n",
              "  }\n",
              "\n",
              "  .colab-df-quickchart:hover {\n",
              "    background-color: var(--hover-bg-color);\n",
              "    box-shadow: 0 1px 2px rgba(60, 64, 67, 0.3), 0 1px 3px 1px rgba(60, 64, 67, 0.15);\n",
              "    fill: var(--button-hover-fill-color);\n",
              "  }\n",
              "\n",
              "  .colab-df-quickchart-complete:disabled,\n",
              "  .colab-df-quickchart-complete:disabled:hover {\n",
              "    background-color: var(--disabled-bg-color);\n",
              "    fill: var(--disabled-fill-color);\n",
              "    box-shadow: none;\n",
              "  }\n",
              "\n",
              "  .colab-df-spinner {\n",
              "    border: 2px solid var(--fill-color);\n",
              "    border-color: transparent;\n",
              "    border-bottom-color: var(--fill-color);\n",
              "    animation:\n",
              "      spin 1s steps(1) infinite;\n",
              "  }\n",
              "\n",
              "  @keyframes spin {\n",
              "    0% {\n",
              "      border-color: transparent;\n",
              "      border-bottom-color: var(--fill-color);\n",
              "      border-left-color: var(--fill-color);\n",
              "    }\n",
              "    20% {\n",
              "      border-color: transparent;\n",
              "      border-left-color: var(--fill-color);\n",
              "      border-top-color: var(--fill-color);\n",
              "    }\n",
              "    30% {\n",
              "      border-color: transparent;\n",
              "      border-left-color: var(--fill-color);\n",
              "      border-top-color: var(--fill-color);\n",
              "      border-right-color: var(--fill-color);\n",
              "    }\n",
              "    40% {\n",
              "      border-color: transparent;\n",
              "      border-right-color: var(--fill-color);\n",
              "      border-top-color: var(--fill-color);\n",
              "    }\n",
              "    60% {\n",
              "      border-color: transparent;\n",
              "      border-right-color: var(--fill-color);\n",
              "    }\n",
              "    80% {\n",
              "      border-color: transparent;\n",
              "      border-right-color: var(--fill-color);\n",
              "      border-bottom-color: var(--fill-color);\n",
              "    }\n",
              "    90% {\n",
              "      border-color: transparent;\n",
              "      border-bottom-color: var(--fill-color);\n",
              "    }\n",
              "  }\n",
              "</style>\n",
              "\n",
              "  <script>\n",
              "    async function quickchart(key) {\n",
              "      const quickchartButtonEl =\n",
              "        document.querySelector('#' + key + ' button');\n",
              "      quickchartButtonEl.disabled = true;  // To prevent multiple clicks.\n",
              "      quickchartButtonEl.classList.add('colab-df-spinner');\n",
              "      try {\n",
              "        const charts = await google.colab.kernel.invokeFunction(\n",
              "            'suggestCharts', [key], {});\n",
              "      } catch (error) {\n",
              "        console.error('Error during call to suggestCharts:', error);\n",
              "      }\n",
              "      quickchartButtonEl.classList.remove('colab-df-spinner');\n",
              "      quickchartButtonEl.classList.add('colab-df-quickchart-complete');\n",
              "    }\n",
              "    (() => {\n",
              "      let quickchartButtonEl =\n",
              "        document.querySelector('#df-9ade6b90-3e19-4580-8fe9-82163aa9ff21 button');\n",
              "      quickchartButtonEl.style.display =\n",
              "        google.colab.kernel.accessAllowed ? 'block' : 'none';\n",
              "    })();\n",
              "  </script>\n",
              "</div>\n",
              "    </div>\n",
              "  </div>\n"
            ]
          },
          "metadata": {},
          "execution_count": 10
        }
      ]
    },
    {
      "cell_type": "markdown",
      "source": [
        "# **Define Label**"
      ],
      "metadata": {
        "id": "FtsqZf1IbIHy"
      }
    },
    {
      "cell_type": "markdown",
      "source": [
        "Tujuan dari proyek ini adalah untuk memprediksi credit risk dengan data yang terdiri dari data pinjaman yang diterima dan data pinjaman yang ditolak. Untuk mengetahui apakah seseorang merupakan peminjam yang baik atau buruk, maka kita perlu mengetahui status pinjaman terkini yang ada di dataset ini. Kolom yang berisi status pinjaman pada dataset ini adalah kolom `loan_status`."
      ],
      "metadata": {
        "id": "N171jMH29Vs_"
      }
    },
    {
      "cell_type": "code",
      "source": [
        "dataset.loan_status.value_counts()"
      ],
      "metadata": {
        "id": "i8VbxWG8bMaW",
        "colab": {
          "base_uri": "https://localhost:8080/"
        },
        "outputId": "e264f207-68b1-4963-f0f1-cc67b9ffaffd"
      },
      "execution_count": null,
      "outputs": [
        {
          "output_type": "execute_result",
          "data": {
            "text/plain": [
              "Current                                                224226\n",
              "Fully Paid                                             184739\n",
              "Charged Off                                             42475\n",
              "Late (31-120 days)                                       6900\n",
              "In Grace Period                                          3146\n",
              "Does not meet the credit policy. Status:Fully Paid       1988\n",
              "Late (16-30 days)                                        1218\n",
              "Default                                                   832\n",
              "Does not meet the credit policy. Status:Charged Off       761\n",
              "Name: loan_status, dtype: int64"
            ]
          },
          "metadata": {},
          "execution_count": 11
        }
      ]
    },
    {
      "cell_type": "markdown",
      "source": [
        "Untuk mengetahui apakah seseorang merupakan peminjam yang baik atau buruk berdasarkan status pinjaman saat ini, maka kita perlu mendefinisikan apa itu pinjaman yang baik dan pinjaman yang buruk terlebih dahulu. Pinjaman yang baik tentunya pinjaman yang pembayarannya lancar, sudah lunas, sedang dalam tempo dan pembayarannya tidak terlambat. Sedangkan pinjaman yang buruk merupakan pinjaman yang pembayarannya macet dan terlambat. Pada dataset yang digunakan terdapat dua status pinjaman yang pembayarannya terlambat dengan durasi keterlambatan yang berbeda. Pada proyek ini, kita asumsikan sebuah pinjaman dianggap buruk jika pembayaran pinjaman terlambat lebih dari 30 hari.\n"
      ],
      "metadata": {
        "id": "6xEYnEtPC8u_"
      }
    },
    {
      "cell_type": "markdown",
      "source": [
        "Berdasarkan definisi yang sudah kita tentukan, maka pinjaman dengan status `Current`, `Fully Paid`, `In Grace Period`, `Does not meet the credit policy. Status:Fully Paid`, dan `Late (16-30 days)` sebagai pinjaman yang baik dan status pinjaman sisanya dimasukkan ke dalam pinjaman yang buruk."
      ],
      "metadata": {
        "id": "GR6W_fT7HkcN"
      }
    },
    {
      "cell_type": "code",
      "source": [
        "good_loan_status = ['Current',\n",
        "                    'Fully Paid',\n",
        "                    'In Grace Period',\n",
        "                    'Does not meet the credit policy. Status:Fully Paid',\n",
        "                    'Late (16-30 days)']\n",
        "\n",
        "# Buat kolom 'loan_label' sebagai label pinjaman\n",
        "dataset['loan_label'] = np.where(dataset['loan_status'].isin(good_loan_status), 'good loan', 'bad loan')"
      ],
      "metadata": {
        "id": "2MQ6PhBmHnxI"
      },
      "execution_count": null,
      "outputs": []
    },
    {
      "cell_type": "code",
      "source": [
        "dataset.loan_label.value_counts()"
      ],
      "metadata": {
        "colab": {
          "base_uri": "https://localhost:8080/"
        },
        "id": "7yoOFJbyQsth",
        "outputId": "0023ff2b-5949-4732-e4c3-2b98fdbc1159"
      },
      "execution_count": null,
      "outputs": [
        {
          "output_type": "execute_result",
          "data": {
            "text/plain": [
              "good loan    415317\n",
              "bad loan      50968\n",
              "Name: loan_label, dtype: int64"
            ]
          },
          "metadata": {},
          "execution_count": 13
        }
      ]
    },
    {
      "cell_type": "markdown",
      "source": [
        "Berdasarkan hasil pelabelan pinjaman, terdapat 415.317 data pinjaman baik dan 50.968 data pinjaman buruk."
      ],
      "metadata": {
        "id": "s0YeCjuBR1Po"
      }
    },
    {
      "cell_type": "markdown",
      "source": [
        "Karena pinjaman sudah dilabeli, maka kolom `loan_status` sudah tidak digunakan lagi sehingga kolom tersebut dapat dibuang."
      ],
      "metadata": {
        "id": "dmNXgDg2SdLy"
      }
    },
    {
      "cell_type": "code",
      "source": [
        "dataset.drop('loan_status', axis=1, inplace=True)"
      ],
      "metadata": {
        "id": "Kz5WOohuScy2"
      },
      "execution_count": null,
      "outputs": []
    },
    {
      "cell_type": "markdown",
      "source": [
        "# **Feature Engineering**"
      ],
      "metadata": {
        "id": "Hhr1q4ffT4AX"
      }
    },
    {
      "cell_type": "code",
      "source": [
        "dataset.head()"
      ],
      "metadata": {
        "colab": {
          "base_uri": "https://localhost:8080/"
        },
        "id": "QFsoFb5KT9YF",
        "outputId": "54d27c93-3321-4833-f07e-3d195458a72c"
      },
      "execution_count": null,
      "outputs": [
        {
          "output_type": "execute_result",
          "data": {
            "text/plain": [
              "   loan_amnt  funded_amnt  funded_amnt_inv        term  int_rate  installment  \\\n",
              "0       5000         5000           4975.0   36 months     10.65       162.87   \n",
              "1       2500         2500           2500.0   60 months     15.27        59.83   \n",
              "2       2400         2400           2400.0   36 months     15.96        84.33   \n",
              "3      10000        10000          10000.0   36 months     13.49       339.31   \n",
              "4       3000         3000           3000.0   60 months     12.69        67.79   \n",
              "\n",
              "  grade                 emp_title emp_length home_ownership  ...  \\\n",
              "0     B                       NaN  10+ years           RENT  ...   \n",
              "1     C                     Ryder   < 1 year           RENT  ...   \n",
              "2     C                       NaN  10+ years           RENT  ...   \n",
              "3     C       AIR RESOURCES BOARD  10+ years           RENT  ...   \n",
              "4     B  University Medical Group     1 year           RENT  ...   \n",
              "\n",
              "   last_credit_pull_d collections_12_mths_ex_med mths_since_last_major_derog  \\\n",
              "0              Jan-16                        0.0                         NaN   \n",
              "1              Sep-13                        0.0                         NaN   \n",
              "2              Jan-16                        0.0                         NaN   \n",
              "3              Jan-15                        0.0                         NaN   \n",
              "4              Jan-16                        0.0                         NaN   \n",
              "\n",
              "  policy_code application_type acc_now_delinq tot_coll_amt  tot_cur_bal  \\\n",
              "0           1       INDIVIDUAL            0.0          NaN          NaN   \n",
              "1           1       INDIVIDUAL            0.0          NaN          NaN   \n",
              "2           1       INDIVIDUAL            0.0          NaN          NaN   \n",
              "3           1       INDIVIDUAL            0.0          NaN          NaN   \n",
              "4           1       INDIVIDUAL            0.0          NaN          NaN   \n",
              "\n",
              "   total_rev_hi_lim loan_label  \n",
              "0               NaN  good loan  \n",
              "1               NaN   bad loan  \n",
              "2               NaN  good loan  \n",
              "3               NaN  good loan  \n",
              "4               NaN  good loan  \n",
              "\n",
              "[5 rows x 51 columns]"
            ],
            "text/html": [
              "\n",
              "  <div id=\"df-84293d26-464c-40a5-8628-e712cd91c51f\" class=\"colab-df-container\">\n",
              "    <div>\n",
              "<style scoped>\n",
              "    .dataframe tbody tr th:only-of-type {\n",
              "        vertical-align: middle;\n",
              "    }\n",
              "\n",
              "    .dataframe tbody tr th {\n",
              "        vertical-align: top;\n",
              "    }\n",
              "\n",
              "    .dataframe thead th {\n",
              "        text-align: right;\n",
              "    }\n",
              "</style>\n",
              "<table border=\"1\" class=\"dataframe\">\n",
              "  <thead>\n",
              "    <tr style=\"text-align: right;\">\n",
              "      <th></th>\n",
              "      <th>loan_amnt</th>\n",
              "      <th>funded_amnt</th>\n",
              "      <th>funded_amnt_inv</th>\n",
              "      <th>term</th>\n",
              "      <th>int_rate</th>\n",
              "      <th>installment</th>\n",
              "      <th>grade</th>\n",
              "      <th>emp_title</th>\n",
              "      <th>emp_length</th>\n",
              "      <th>home_ownership</th>\n",
              "      <th>...</th>\n",
              "      <th>last_credit_pull_d</th>\n",
              "      <th>collections_12_mths_ex_med</th>\n",
              "      <th>mths_since_last_major_derog</th>\n",
              "      <th>policy_code</th>\n",
              "      <th>application_type</th>\n",
              "      <th>acc_now_delinq</th>\n",
              "      <th>tot_coll_amt</th>\n",
              "      <th>tot_cur_bal</th>\n",
              "      <th>total_rev_hi_lim</th>\n",
              "      <th>loan_label</th>\n",
              "    </tr>\n",
              "  </thead>\n",
              "  <tbody>\n",
              "    <tr>\n",
              "      <th>0</th>\n",
              "      <td>5000</td>\n",
              "      <td>5000</td>\n",
              "      <td>4975.0</td>\n",
              "      <td>36 months</td>\n",
              "      <td>10.65</td>\n",
              "      <td>162.87</td>\n",
              "      <td>B</td>\n",
              "      <td>NaN</td>\n",
              "      <td>10+ years</td>\n",
              "      <td>RENT</td>\n",
              "      <td>...</td>\n",
              "      <td>Jan-16</td>\n",
              "      <td>0.0</td>\n",
              "      <td>NaN</td>\n",
              "      <td>1</td>\n",
              "      <td>INDIVIDUAL</td>\n",
              "      <td>0.0</td>\n",
              "      <td>NaN</td>\n",
              "      <td>NaN</td>\n",
              "      <td>NaN</td>\n",
              "      <td>good loan</td>\n",
              "    </tr>\n",
              "    <tr>\n",
              "      <th>1</th>\n",
              "      <td>2500</td>\n",
              "      <td>2500</td>\n",
              "      <td>2500.0</td>\n",
              "      <td>60 months</td>\n",
              "      <td>15.27</td>\n",
              "      <td>59.83</td>\n",
              "      <td>C</td>\n",
              "      <td>Ryder</td>\n",
              "      <td>&lt; 1 year</td>\n",
              "      <td>RENT</td>\n",
              "      <td>...</td>\n",
              "      <td>Sep-13</td>\n",
              "      <td>0.0</td>\n",
              "      <td>NaN</td>\n",
              "      <td>1</td>\n",
              "      <td>INDIVIDUAL</td>\n",
              "      <td>0.0</td>\n",
              "      <td>NaN</td>\n",
              "      <td>NaN</td>\n",
              "      <td>NaN</td>\n",
              "      <td>bad loan</td>\n",
              "    </tr>\n",
              "    <tr>\n",
              "      <th>2</th>\n",
              "      <td>2400</td>\n",
              "      <td>2400</td>\n",
              "      <td>2400.0</td>\n",
              "      <td>36 months</td>\n",
              "      <td>15.96</td>\n",
              "      <td>84.33</td>\n",
              "      <td>C</td>\n",
              "      <td>NaN</td>\n",
              "      <td>10+ years</td>\n",
              "      <td>RENT</td>\n",
              "      <td>...</td>\n",
              "      <td>Jan-16</td>\n",
              "      <td>0.0</td>\n",
              "      <td>NaN</td>\n",
              "      <td>1</td>\n",
              "      <td>INDIVIDUAL</td>\n",
              "      <td>0.0</td>\n",
              "      <td>NaN</td>\n",
              "      <td>NaN</td>\n",
              "      <td>NaN</td>\n",
              "      <td>good loan</td>\n",
              "    </tr>\n",
              "    <tr>\n",
              "      <th>3</th>\n",
              "      <td>10000</td>\n",
              "      <td>10000</td>\n",
              "      <td>10000.0</td>\n",
              "      <td>36 months</td>\n",
              "      <td>13.49</td>\n",
              "      <td>339.31</td>\n",
              "      <td>C</td>\n",
              "      <td>AIR RESOURCES BOARD</td>\n",
              "      <td>10+ years</td>\n",
              "      <td>RENT</td>\n",
              "      <td>...</td>\n",
              "      <td>Jan-15</td>\n",
              "      <td>0.0</td>\n",
              "      <td>NaN</td>\n",
              "      <td>1</td>\n",
              "      <td>INDIVIDUAL</td>\n",
              "      <td>0.0</td>\n",
              "      <td>NaN</td>\n",
              "      <td>NaN</td>\n",
              "      <td>NaN</td>\n",
              "      <td>good loan</td>\n",
              "    </tr>\n",
              "    <tr>\n",
              "      <th>4</th>\n",
              "      <td>3000</td>\n",
              "      <td>3000</td>\n",
              "      <td>3000.0</td>\n",
              "      <td>60 months</td>\n",
              "      <td>12.69</td>\n",
              "      <td>67.79</td>\n",
              "      <td>B</td>\n",
              "      <td>University Medical Group</td>\n",
              "      <td>1 year</td>\n",
              "      <td>RENT</td>\n",
              "      <td>...</td>\n",
              "      <td>Jan-16</td>\n",
              "      <td>0.0</td>\n",
              "      <td>NaN</td>\n",
              "      <td>1</td>\n",
              "      <td>INDIVIDUAL</td>\n",
              "      <td>0.0</td>\n",
              "      <td>NaN</td>\n",
              "      <td>NaN</td>\n",
              "      <td>NaN</td>\n",
              "      <td>good loan</td>\n",
              "    </tr>\n",
              "  </tbody>\n",
              "</table>\n",
              "<p>5 rows × 51 columns</p>\n",
              "</div>\n",
              "    <div class=\"colab-df-buttons\">\n",
              "\n",
              "  <div class=\"colab-df-container\">\n",
              "    <button class=\"colab-df-convert\" onclick=\"convertToInteractive('df-84293d26-464c-40a5-8628-e712cd91c51f')\"\n",
              "            title=\"Convert this dataframe to an interactive table.\"\n",
              "            style=\"display:none;\">\n",
              "\n",
              "  <svg xmlns=\"http://www.w3.org/2000/svg\" height=\"24px\" viewBox=\"0 -960 960 960\">\n",
              "    <path d=\"M120-120v-720h720v720H120Zm60-500h600v-160H180v160Zm220 220h160v-160H400v160Zm0 220h160v-160H400v160ZM180-400h160v-160H180v160Zm440 0h160v-160H620v160ZM180-180h160v-160H180v160Zm440 0h160v-160H620v160Z\"/>\n",
              "  </svg>\n",
              "    </button>\n",
              "\n",
              "  <style>\n",
              "    .colab-df-container {\n",
              "      display:flex;\n",
              "      gap: 12px;\n",
              "    }\n",
              "\n",
              "    .colab-df-convert {\n",
              "      background-color: #E8F0FE;\n",
              "      border: none;\n",
              "      border-radius: 50%;\n",
              "      cursor: pointer;\n",
              "      display: none;\n",
              "      fill: #1967D2;\n",
              "      height: 32px;\n",
              "      padding: 0 0 0 0;\n",
              "      width: 32px;\n",
              "    }\n",
              "\n",
              "    .colab-df-convert:hover {\n",
              "      background-color: #E2EBFA;\n",
              "      box-shadow: 0px 1px 2px rgba(60, 64, 67, 0.3), 0px 1px 3px 1px rgba(60, 64, 67, 0.15);\n",
              "      fill: #174EA6;\n",
              "    }\n",
              "\n",
              "    .colab-df-buttons div {\n",
              "      margin-bottom: 4px;\n",
              "    }\n",
              "\n",
              "    [theme=dark] .colab-df-convert {\n",
              "      background-color: #3B4455;\n",
              "      fill: #D2E3FC;\n",
              "    }\n",
              "\n",
              "    [theme=dark] .colab-df-convert:hover {\n",
              "      background-color: #434B5C;\n",
              "      box-shadow: 0px 1px 3px 1px rgba(0, 0, 0, 0.15);\n",
              "      filter: drop-shadow(0px 1px 2px rgba(0, 0, 0, 0.3));\n",
              "      fill: #FFFFFF;\n",
              "    }\n",
              "  </style>\n",
              "\n",
              "    <script>\n",
              "      const buttonEl =\n",
              "        document.querySelector('#df-84293d26-464c-40a5-8628-e712cd91c51f button.colab-df-convert');\n",
              "      buttonEl.style.display =\n",
              "        google.colab.kernel.accessAllowed ? 'block' : 'none';\n",
              "\n",
              "      async function convertToInteractive(key) {\n",
              "        const element = document.querySelector('#df-84293d26-464c-40a5-8628-e712cd91c51f');\n",
              "        const dataTable =\n",
              "          await google.colab.kernel.invokeFunction('convertToInteractive',\n",
              "                                                    [key], {});\n",
              "        if (!dataTable) return;\n",
              "\n",
              "        const docLinkHtml = 'Like what you see? Visit the ' +\n",
              "          '<a target=\"_blank\" href=https://colab.research.google.com/notebooks/data_table.ipynb>data table notebook</a>'\n",
              "          + ' to learn more about interactive tables.';\n",
              "        element.innerHTML = '';\n",
              "        dataTable['output_type'] = 'display_data';\n",
              "        await google.colab.output.renderOutput(dataTable, element);\n",
              "        const docLink = document.createElement('div');\n",
              "        docLink.innerHTML = docLinkHtml;\n",
              "        element.appendChild(docLink);\n",
              "      }\n",
              "    </script>\n",
              "  </div>\n",
              "\n",
              "\n",
              "<div id=\"df-031daf76-a6b6-439a-b3fd-a17f79bffe9c\">\n",
              "  <button class=\"colab-df-quickchart\" onclick=\"quickchart('df-031daf76-a6b6-439a-b3fd-a17f79bffe9c')\"\n",
              "            title=\"Suggest charts\"\n",
              "            style=\"display:none;\">\n",
              "\n",
              "<svg xmlns=\"http://www.w3.org/2000/svg\" height=\"24px\"viewBox=\"0 0 24 24\"\n",
              "     width=\"24px\">\n",
              "    <g>\n",
              "        <path d=\"M19 3H5c-1.1 0-2 .9-2 2v14c0 1.1.9 2 2 2h14c1.1 0 2-.9 2-2V5c0-1.1-.9-2-2-2zM9 17H7v-7h2v7zm4 0h-2V7h2v10zm4 0h-2v-4h2v4z\"/>\n",
              "    </g>\n",
              "</svg>\n",
              "  </button>\n",
              "\n",
              "<style>\n",
              "  .colab-df-quickchart {\n",
              "      --bg-color: #E8F0FE;\n",
              "      --fill-color: #1967D2;\n",
              "      --hover-bg-color: #E2EBFA;\n",
              "      --hover-fill-color: #174EA6;\n",
              "      --disabled-fill-color: #AAA;\n",
              "      --disabled-bg-color: #DDD;\n",
              "  }\n",
              "\n",
              "  [theme=dark] .colab-df-quickchart {\n",
              "      --bg-color: #3B4455;\n",
              "      --fill-color: #D2E3FC;\n",
              "      --hover-bg-color: #434B5C;\n",
              "      --hover-fill-color: #FFFFFF;\n",
              "      --disabled-bg-color: #3B4455;\n",
              "      --disabled-fill-color: #666;\n",
              "  }\n",
              "\n",
              "  .colab-df-quickchart {\n",
              "    background-color: var(--bg-color);\n",
              "    border: none;\n",
              "    border-radius: 50%;\n",
              "    cursor: pointer;\n",
              "    display: none;\n",
              "    fill: var(--fill-color);\n",
              "    height: 32px;\n",
              "    padding: 0;\n",
              "    width: 32px;\n",
              "  }\n",
              "\n",
              "  .colab-df-quickchart:hover {\n",
              "    background-color: var(--hover-bg-color);\n",
              "    box-shadow: 0 1px 2px rgba(60, 64, 67, 0.3), 0 1px 3px 1px rgba(60, 64, 67, 0.15);\n",
              "    fill: var(--button-hover-fill-color);\n",
              "  }\n",
              "\n",
              "  .colab-df-quickchart-complete:disabled,\n",
              "  .colab-df-quickchart-complete:disabled:hover {\n",
              "    background-color: var(--disabled-bg-color);\n",
              "    fill: var(--disabled-fill-color);\n",
              "    box-shadow: none;\n",
              "  }\n",
              "\n",
              "  .colab-df-spinner {\n",
              "    border: 2px solid var(--fill-color);\n",
              "    border-color: transparent;\n",
              "    border-bottom-color: var(--fill-color);\n",
              "    animation:\n",
              "      spin 1s steps(1) infinite;\n",
              "  }\n",
              "\n",
              "  @keyframes spin {\n",
              "    0% {\n",
              "      border-color: transparent;\n",
              "      border-bottom-color: var(--fill-color);\n",
              "      border-left-color: var(--fill-color);\n",
              "    }\n",
              "    20% {\n",
              "      border-color: transparent;\n",
              "      border-left-color: var(--fill-color);\n",
              "      border-top-color: var(--fill-color);\n",
              "    }\n",
              "    30% {\n",
              "      border-color: transparent;\n",
              "      border-left-color: var(--fill-color);\n",
              "      border-top-color: var(--fill-color);\n",
              "      border-right-color: var(--fill-color);\n",
              "    }\n",
              "    40% {\n",
              "      border-color: transparent;\n",
              "      border-right-color: var(--fill-color);\n",
              "      border-top-color: var(--fill-color);\n",
              "    }\n",
              "    60% {\n",
              "      border-color: transparent;\n",
              "      border-right-color: var(--fill-color);\n",
              "    }\n",
              "    80% {\n",
              "      border-color: transparent;\n",
              "      border-right-color: var(--fill-color);\n",
              "      border-bottom-color: var(--fill-color);\n",
              "    }\n",
              "    90% {\n",
              "      border-color: transparent;\n",
              "      border-bottom-color: var(--fill-color);\n",
              "    }\n",
              "  }\n",
              "</style>\n",
              "\n",
              "  <script>\n",
              "    async function quickchart(key) {\n",
              "      const quickchartButtonEl =\n",
              "        document.querySelector('#' + key + ' button');\n",
              "      quickchartButtonEl.disabled = true;  // To prevent multiple clicks.\n",
              "      quickchartButtonEl.classList.add('colab-df-spinner');\n",
              "      try {\n",
              "        const charts = await google.colab.kernel.invokeFunction(\n",
              "            'suggestCharts', [key], {});\n",
              "      } catch (error) {\n",
              "        console.error('Error during call to suggestCharts:', error);\n",
              "      }\n",
              "      quickchartButtonEl.classList.remove('colab-df-spinner');\n",
              "      quickchartButtonEl.classList.add('colab-df-quickchart-complete');\n",
              "    }\n",
              "    (() => {\n",
              "      let quickchartButtonEl =\n",
              "        document.querySelector('#df-031daf76-a6b6-439a-b3fd-a17f79bffe9c button');\n",
              "      quickchartButtonEl.style.display =\n",
              "        google.colab.kernel.accessAllowed ? 'block' : 'none';\n",
              "    })();\n",
              "  </script>\n",
              "</div>\n",
              "    </div>\n",
              "  </div>\n"
            ]
          },
          "metadata": {},
          "execution_count": 15
        }
      ]
    },
    {
      "cell_type": "markdown",
      "source": [
        "Dari sampel dataset di atas, terdapat beberapa kolom penting yang harus diubah agar dapat digunakan pada proses Machine Learning. Kolom-kolom tersebut memuat data integer tetapi berformat string serta kolom dengan format date sehingga kolom tersebut perlu diubah."
      ],
      "metadata": {
        "id": "21QiJjht2jyk"
      }
    },
    {
      "cell_type": "markdown",
      "source": [
        "**term**"
      ],
      "metadata": {
        "id": "krgztCfq57QZ"
      }
    },
    {
      "cell_type": "markdown",
      "source": [
        "Menghilangkan string yang tidak diperlukan dan konversi data ke integer. Contoh: ' 36 months' -> 36"
      ],
      "metadata": {
        "id": "TZSdWOuMBWs7"
      }
    },
    {
      "cell_type": "code",
      "source": [
        "dataset['term'].unique()"
      ],
      "metadata": {
        "colab": {
          "base_uri": "https://localhost:8080/"
        },
        "id": "XdLuFSN053TY",
        "outputId": "9bfe2285-4d29-4643-e362-9a551a3dffa7"
      },
      "execution_count": null,
      "outputs": [
        {
          "output_type": "execute_result",
          "data": {
            "text/plain": [
              "array([' 36 months', ' 60 months'], dtype=object)"
            ]
          },
          "metadata": {},
          "execution_count": 16
        }
      ]
    },
    {
      "cell_type": "code",
      "source": [
        "dataset['term'] = dataset['term'].str.extract('\\s*(\\d+)').astype(int)"
      ],
      "metadata": {
        "id": "eCqvxbZn7cNM"
      },
      "execution_count": null,
      "outputs": []
    },
    {
      "cell_type": "code",
      "source": [
        "dataset['term'].unique()"
      ],
      "metadata": {
        "colab": {
          "base_uri": "https://localhost:8080/"
        },
        "id": "XO8w9uU79kl2",
        "outputId": "e907e0e2-073b-4303-eb02-86fecad7115f"
      },
      "execution_count": null,
      "outputs": [
        {
          "output_type": "execute_result",
          "data": {
            "text/plain": [
              "array([36, 60])"
            ]
          },
          "metadata": {},
          "execution_count": 18
        }
      ]
    },
    {
      "cell_type": "markdown",
      "source": [
        "**emp_length**"
      ],
      "metadata": {
        "id": "RZVDXVJI99iA"
      }
    },
    {
      "cell_type": "markdown",
      "source": [
        "Menghilangkan string yang tidak diperlukan dan konversi data ke integer. Untuk data dengan nilai '10+ years' diubah menjadi 10 sedangkan data dengan nilai '< 1 year' diubah menjadi 0. Sisa data lain hanya menghilangkan string ' years' saja."
      ],
      "metadata": {
        "id": "Orwo5LSzBvRm"
      }
    },
    {
      "cell_type": "code",
      "source": [
        "dataset['emp_length'].unique()"
      ],
      "metadata": {
        "colab": {
          "base_uri": "https://localhost:8080/"
        },
        "id": "Y8_HLE8O-BHG",
        "outputId": "60fb92a8-d3ff-4093-b370-144846ce6381"
      },
      "execution_count": null,
      "outputs": [
        {
          "output_type": "execute_result",
          "data": {
            "text/plain": [
              "array(['10+ years', '< 1 year', '1 year', '3 years', '8 years', '9 years',\n",
              "       '4 years', '5 years', '6 years', '2 years', '7 years', nan],\n",
              "      dtype=object)"
            ]
          },
          "metadata": {},
          "execution_count": 19
        }
      ]
    },
    {
      "cell_type": "code",
      "source": [
        "def convert_employment_length(value):\n",
        "    if pd.isna(value):\n",
        "        return None\n",
        "    elif '10+' in value:\n",
        "        return 10\n",
        "    elif '< 1' in value:\n",
        "        return 0\n",
        "    else:\n",
        "        return int(value.split()[0])\n",
        "\n",
        "dataset['emp_length'] = dataset['emp_length'].apply(convert_employment_length)"
      ],
      "metadata": {
        "id": "4WcC6T0-_AIN"
      },
      "execution_count": null,
      "outputs": []
    },
    {
      "cell_type": "code",
      "source": [
        "dataset['emp_length'].unique()"
      ],
      "metadata": {
        "colab": {
          "base_uri": "https://localhost:8080/"
        },
        "id": "HAKeZf-ICi97",
        "outputId": "61e1d8f3-f79c-4ba6-b0d9-9758ababd505"
      },
      "execution_count": null,
      "outputs": [
        {
          "output_type": "execute_result",
          "data": {
            "text/plain": [
              "array([10.,  0.,  1.,  3.,  8.,  9.,  4.,  5.,  6.,  2.,  7., nan])"
            ]
          },
          "metadata": {},
          "execution_count": 21
        }
      ]
    },
    {
      "cell_type": "markdown",
      "source": [
        "**issue_d**"
      ],
      "metadata": {
        "id": "GmFEIJCpRNT6"
      }
    },
    {
      "cell_type": "markdown",
      "source": [
        "Mengubah kolom `issue_d` dari format bulan-tahun menjadi berapa lama waktu berlalu sejak bulan dan tahun tersebut. Dataset yang digunakan adalah data pinjaman dari tahun 2007 sampai 2014. Sehingga kita perlu mengasumsikan tanggal yang relevan dengan dataset yang digunakan. Karena format tanggal yang digunakan adalah bulan-tahun, maka kita asumsikan pengolahan data dilakukan pada Desember 2017."
      ],
      "metadata": {
        "id": "08ADcYz7RviI"
      }
    },
    {
      "cell_type": "code",
      "source": [
        "dataset['issue_d'].unique()"
      ],
      "metadata": {
        "colab": {
          "base_uri": "https://localhost:8080/"
        },
        "id": "KGhZpDZzRTmW",
        "outputId": "030067b1-9201-4a79-da83-b0ba0e61a845"
      },
      "execution_count": null,
      "outputs": [
        {
          "output_type": "execute_result",
          "data": {
            "text/plain": [
              "array(['Dec-11', 'Nov-11', 'Oct-11', 'Sep-11', 'Aug-11', 'Jul-11',\n",
              "       'Jun-11', 'May-11', 'Apr-11', 'Mar-11', 'Feb-11', 'Jan-11',\n",
              "       'Dec-10', 'Nov-10', 'Oct-10', 'Sep-10', 'Aug-10', 'Jul-10',\n",
              "       'Jun-10', 'May-10', 'Apr-10', 'Mar-10', 'Feb-10', 'Jan-10',\n",
              "       'Dec-09', 'Nov-09', 'Oct-09', 'Sep-09', 'Aug-09', 'Jul-09',\n",
              "       'Jun-09', 'May-09', 'Apr-09', 'Mar-09', 'Feb-09', 'Jan-09',\n",
              "       'Dec-08', 'Nov-08', 'Oct-08', 'Sep-08', 'Aug-08', 'Jul-08',\n",
              "       'Jun-08', 'May-08', 'Apr-08', 'Mar-08', 'Feb-08', 'Jan-08',\n",
              "       'Dec-07', 'Nov-07', 'Oct-07', 'Sep-07', 'Aug-07', 'Jul-07',\n",
              "       'Jun-07', 'Dec-13', 'Nov-13', 'Oct-13', 'Sep-13', 'Aug-13',\n",
              "       'Jul-13', 'Jun-13', 'May-13', 'Apr-13', 'Mar-13', 'Feb-13',\n",
              "       'Jan-13', 'Dec-12', 'Nov-12', 'Oct-12', 'Sep-12', 'Aug-12',\n",
              "       'Jul-12', 'Jun-12', 'May-12', 'Apr-12', 'Mar-12', 'Feb-12',\n",
              "       'Jan-12', 'Dec-14', 'Nov-14', 'Oct-14', 'Sep-14', 'Aug-14',\n",
              "       'Jul-14', 'Jun-14', 'May-14', 'Apr-14', 'Mar-14', 'Feb-14',\n",
              "       'Jan-14'], dtype=object)"
            ]
          },
          "metadata": {},
          "execution_count": 22
        }
      ]
    },
    {
      "cell_type": "markdown",
      "source": [
        "Buat fungsi convert_to_timedelta untuk konversi data ke format bulan-tahun kemudian hitung selisih waktu dalam bulan"
      ],
      "metadata": {
        "id": "WJlNL3dlsNQm"
      }
    },
    {
      "cell_type": "code",
      "source": [
        "# Asumsikan tanggal pengolahan sekarang Desember 2017\n",
        "now_date = pd.to_datetime(\"2017-12\")\n",
        "\n",
        "# Fungsi untuk mengubah format bulan-tahun menjadi selisih waktu dalam bulan\n",
        "def convert_to_timedelta(date_str):\n",
        "    if pd.notna(date_str):\n",
        "        date_object = pd.to_datetime(date_str, format=\"%b-%y\")\n",
        "\n",
        "        # Menghitung selisih waktu dari tanggal sekarang dalam bulan\n",
        "        months_difference = (now_date.year - date_object.year) * 12 + now_date.month - date_object.month\n",
        "        return months_difference\n",
        "    else:\n",
        "        return None"
      ],
      "metadata": {
        "id": "CuxCZr4boFyn"
      },
      "execution_count": null,
      "outputs": []
    },
    {
      "cell_type": "code",
      "source": [
        "dataset['months_since_issue_d'] = dataset['issue_d'].apply(convert_to_timedelta)"
      ],
      "metadata": {
        "id": "Z8OdBW8bshU0"
      },
      "execution_count": null,
      "outputs": []
    },
    {
      "cell_type": "code",
      "source": [
        "dataset['months_since_issue_d'].unique()"
      ],
      "metadata": {
        "colab": {
          "base_uri": "https://localhost:8080/"
        },
        "id": "VO6nZrYNtV6c",
        "outputId": "cde56409-7eb7-40fa-ea77-346a15234313"
      },
      "execution_count": null,
      "outputs": [
        {
          "output_type": "execute_result",
          "data": {
            "text/plain": [
              "array([ 72,  73,  74,  75,  76,  77,  78,  79,  80,  81,  82,  83,  84,\n",
              "        85,  86,  87,  88,  89,  90,  91,  92,  93,  94,  95,  96,  97,\n",
              "        98,  99, 100, 101, 102, 103, 104, 105, 106, 107, 108, 109, 110,\n",
              "       111, 112, 113, 114, 115, 116, 117, 118, 119, 120, 121, 122, 123,\n",
              "       124, 125, 126,  48,  49,  50,  51,  52,  53,  54,  55,  56,  57,\n",
              "        58,  59,  60,  61,  62,  63,  64,  65,  66,  67,  68,  69,  70,\n",
              "        71,  36,  37,  38,  39,  40,  41,  42,  43,  44,  45,  46,  47])"
            ]
          },
          "metadata": {},
          "execution_count": 25
        }
      ]
    },
    {
      "cell_type": "code",
      "source": [
        "dataset.drop('issue_d', axis=1, inplace=True)"
      ],
      "metadata": {
        "id": "Qqu7LrckujTR"
      },
      "execution_count": null,
      "outputs": []
    },
    {
      "cell_type": "markdown",
      "source": [
        "**`erliest_cr_line`**"
      ],
      "metadata": {
        "id": "WjqNxfEaa4VP"
      }
    },
    {
      "cell_type": "markdown",
      "source": [
        "Melakukan preprocessing seperti pada kolom `issue_d`."
      ],
      "metadata": {
        "id": "G6teqhLAvNb2"
      }
    },
    {
      "cell_type": "code",
      "source": [
        "dataset['earliest_cr_line'].unique()"
      ],
      "metadata": {
        "colab": {
          "base_uri": "https://localhost:8080/"
        },
        "id": "ffHlD1DSVZuu",
        "outputId": "7a1893cc-0b24-4768-f837-4311f18b74f5"
      },
      "execution_count": null,
      "outputs": [
        {
          "output_type": "execute_result",
          "data": {
            "text/plain": [
              "array(['Jan-85', 'Apr-99', 'Nov-01', 'Feb-96', 'Jan-96', 'Nov-04',\n",
              "       'Jul-05', 'Jan-07', 'Apr-04', 'Sep-04', 'Jan-98', 'Oct-89',\n",
              "       'Jul-03', 'May-91', 'Sep-07', 'Oct-98', 'Aug-93', 'Oct-03',\n",
              "       'Jan-01', 'Nov-97', 'Feb-83', 'Jul-85', 'Apr-03', 'Jun-01',\n",
              "       'Feb-02', 'Aug-84', 'Nov-06', 'Dec-87', 'Nov-81', 'Feb-97',\n",
              "       'Apr-05', 'Oct-07', 'Dec-00', 'Apr-07', 'Dec-01', 'Jan-03',\n",
              "       'Mar-94', 'Sep-98', 'Jun-04', 'Nov-95', 'Jul-99', 'Jun-95',\n",
              "       'Sep-92', 'Jan-02', 'Apr-92', 'Oct-06', 'May-00', 'Dec-98',\n",
              "       'Dec-04', 'Oct-00', 'May-02', 'May-06', 'Jul-02', 'Jul-06',\n",
              "       'May-97', 'Oct-05', 'Apr-95', 'Oct-02', 'Jan-00', 'Apr-00',\n",
              "       'Dec-94', 'Sep-05', 'Dec-84', 'Dec-99', 'Nov-03', 'Jun-89',\n",
              "       'Jun-03', 'Oct-96', 'May-03', 'Jun-02', 'Jun-07', 'Dec-96',\n",
              "       'Feb-84', 'Sep-02', 'Jan-86', 'May-98', 'Jan-97', 'Jun-05',\n",
              "       'Feb-90', 'Mar-04', 'Jul-95', 'Aug-94', 'Jun-92', 'Mar-97',\n",
              "       'Apr-06', 'Apr-90', 'Aug-99', 'Sep-00', 'Feb-01', 'Dec-88',\n",
              "       'Feb-99', 'Dec-91', 'Aug-00', 'Oct-04', 'Aug-04', 'Feb-05',\n",
              "       'Nov-05', 'Nov-00', 'May-07', 'Jan-91', 'Jun-00', 'Aug-06',\n",
              "       'Dec-02', 'Jun-93', 'Jun-06', 'Feb-04', 'Dec-90', 'Mar-00',\n",
              "       'Feb-95', 'Jul-01', 'Apr-02', 'Sep-06', 'May-99', 'Aug-98',\n",
              "       'Dec-05', 'May-04', 'Oct-01', 'Jun-83', 'Mar-86', 'Apr-80',\n",
              "       'Jul-04', 'Jul-08', 'May-96', 'Jan-04', 'Nov-02', 'Aug-02',\n",
              "       'Aug-01', 'Mar-91', 'Sep-89', 'Sep-94', 'Sep-03', 'Sep-99',\n",
              "       'Aug-05', 'Dec-86', 'Nov-98', 'Feb-06', 'May-94', 'Nov-07',\n",
              "       'Feb-93', 'Nov-91', 'May-05', 'Dec-73', 'May-01', 'Mar-90',\n",
              "       'Mar-96', 'Oct-79', 'Jun-81', 'Mar-01', 'Apr-01', 'Jun-99',\n",
              "       'Nov-93', 'Jan-06', 'Dec-97', 'Nov-94', 'Jul-97', 'Oct-91',\n",
              "       'Jun-94', 'Mar-06', 'Sep-96', 'Apr-91', 'Jul-93', 'Jan-95',\n",
              "       'Sep-87', 'Mar-03', 'Oct-99', 'Jul-96', 'Dec-03', 'Aug-88',\n",
              "       'Jan-92', 'Mar-98', 'Feb-07', 'Aug-82', 'Mar-95', 'Dec-92',\n",
              "       'Jul-98', 'Jul-89', 'May-90', 'Jul-94', 'Sep-01', 'Mar-84',\n",
              "       'Aug-03', 'Nov-99', 'Mar-07', 'Mar-08', 'Apr-94', 'Jan-05',\n",
              "       'Jul-86', 'Aug-90', 'May-92', 'Jul-00', 'Mar-88', 'May-83',\n",
              "       'Apr-93', 'Jul-78', 'Feb-00', 'Dec-81', 'Mar-92', 'Jan-81',\n",
              "       'Sep-90', 'Jun-98', 'May-93', 'Nov-96', 'Mar-02', 'Jan-88',\n",
              "       'Aug-97', 'Aug-87', 'Aug-08', 'Oct-94', 'Oct-86', 'Feb-94',\n",
              "       'Jun-96', 'Feb-98', 'Nov-08', 'Apr-98', 'Jul-79', 'Jan-93',\n",
              "       'May-87', 'Jul-71', 'Aug-07', 'Jun-97', 'Mar-80', 'Dec-06',\n",
              "       'Jul-07', 'Oct-95', 'Jul-91', 'Jul-92', 'Dec-72', 'Dec-93',\n",
              "       'Jan-99', 'Feb-03', 'Apr-97', 'Dec-95', 'Apr-96', 'Jul-90',\n",
              "       'Mar-70', 'Nov-84', 'Apr-84', 'Jul-84', 'Aug-95', 'Mar-99',\n",
              "       'Sep-88', 'Mar-89', 'Mar-87', 'Oct-97', 'Dec-80', 'Jan-94',\n",
              "       'Sep-95', 'Mar-05', 'Jan-89', 'Feb-92', 'Jan-90', 'Nov-90',\n",
              "       'Mar-69', 'Jun-75', 'Mar-85', 'Dec-07', 'Oct-93', 'Dec-89',\n",
              "       'Sep-80', 'Jun-88', 'May-78', 'Apr-73', 'Aug-89', 'Oct-90',\n",
              "       'Sep-91', 'Feb-82', 'Feb-87', 'Nov-85', 'Jan-84', 'Jul-88',\n",
              "       'May-08', 'Oct-85', 'Mar-83', 'Aug-91', 'Sep-86', 'Jun-90',\n",
              "       'Feb-86', 'Sep-97', 'Jun-84', 'Sep-81', 'Apr-86', 'Aug-79',\n",
              "       'Aug-80', 'Nov-92', 'Sep-93', 'Jun-87', 'Sep-82', 'Aug-92',\n",
              "       'Aug-85', 'Jul-83', 'Jun-91', 'Dec-83', 'Jan-87', 'Nov-78',\n",
              "       'Oct-84', 'Aug-96', 'Nov-89', 'Sep-76', 'Nov-86', 'Oct-87',\n",
              "       'Sep-08', 'May-77', 'May-86', 'Mar-81', 'Jan-83', 'Nov-76',\n",
              "       'Sep-79', 'Oct-83', 'Sep-62', 'Jun-85', 'May-82', 'Feb-88',\n",
              "       'Oct-92', 'Aug-83', 'Jun-73', 'Apr-85', 'Oct-88', 'Oct-81',\n",
              "       'Sep-68', 'Jul-74', 'Nov-87', 'May-95', 'Feb-91', 'Nov-88',\n",
              "       'Mar-93', 'Jun-08', 'Jul-80', 'Dec-82', 'Mar-75', 'Feb-80',\n",
              "       'Apr-88', 'Dec-79', 'Sep-85', 'Sep-71', 'Mar-78', 'Feb-08',\n",
              "       'Aug-78', 'Nov-70', 'Jun-79', 'Jun-80', 'Apr-89', 'Sep-83',\n",
              "       'Feb-89', 'Nov-83', 'Jun-86', 'Oct-82', 'Aug-86', 'Oct-80',\n",
              "       'May-88', 'Dec-85', 'Jan-82', 'Sep-77', 'Dec-76', 'Apr-82',\n",
              "       'May-84', 'Apr-08', 'Feb-79', 'Jan-08', 'Sep-64', 'Jul-87',\n",
              "       'Jan-78', 'May-89', 'Oct-77', 'Dec-75', 'Feb-85', 'Oct-08',\n",
              "       'Nov-82', 'May-75', 'May-85', 'Feb-71', 'Jun-77', 'Apr-81',\n",
              "       'May-79', 'Jan-72', 'Sep-67', 'Apr-78', 'Feb-65', 'Apr-83',\n",
              "       'Nov-75', 'Jun-67', 'Mar-74', 'Jul-72', 'Aug-67', 'Apr-71',\n",
              "       'Sep-84', 'May-81', 'Dec-70', 'Oct-73', 'Jan-71', 'Dec-63',\n",
              "       'Apr-74', 'Jan-80', 'Aug-69', 'Apr-75', 'Jul-77', 'Mar-77',\n",
              "       'Nov-69', 'Jan-76', 'Mar-82', 'Apr-87', 'Dec-69', 'May-74',\n",
              "       'Aug-74', 'Jun-72', 'Mar-63', 'Nov-79', 'Aug-75', 'Sep-74',\n",
              "       'Aug-81', 'May-73', 'Sep-73', 'Mar-73', 'Dec-77', 'Oct-76',\n",
              "       'Jan-74', 'Jan-70', 'Aug-68', 'Feb-76', 'Jan-75', 'Oct-72',\n",
              "       'Dec-74', 'Feb-73', 'Nov-65', 'Mar-72', 'Jun-82', 'Jun-74',\n",
              "       'May-65', 'Jun-71', 'Oct-70', 'Apr-76', 'Oct-71', 'Apr-77',\n",
              "       'Sep-78', 'Oct-78', 'Oct-54', 'Feb-81', 'Jan-77', 'Aug-77',\n",
              "       'Dec-78', 'Aug-76', 'Jun-68', 'Jun-78', 'Jun-69', 'May-80',\n",
              "       'Jan-79', 'Oct-65', 'Nov-74', 'Apr-66', 'Jun-76', 'Feb-72',\n",
              "       'May-76', 'Mar-68', 'Mar-76', 'Jul-70', 'Mar-79', 'Jul-76',\n",
              "       'Jul-82', 'Sep-65', 'Apr-67', 'Oct-63', 'Feb-70', 'Jul-73',\n",
              "       'Feb-78', 'Nov-71', 'Aug-72', 'Jul-75', 'Sep-70', 'Jul-81',\n",
              "       'Oct-64', 'Sep-72', 'May-70', 'May-63', 'Feb-69', 'Nov-80',\n",
              "       'Jul-67', 'Apr-70', 'Nov-77', 'Nov-66', 'May-71', 'Apr-79',\n",
              "       'May-72', 'Feb-68', 'Jul-64', 'Nov-67', 'Apr-64', 'Feb-75',\n",
              "       'Jun-59', 'Sep-56', 'Jun-66', 'Jan-46', 'Mar-66', 'Jan-63',\n",
              "       'Dec-50', 'Jul-69', 'Jan-68', 'Nov-73', 'Jun-70', 'Feb-77',\n",
              "       'Feb-74', 'Jan-73', 'Feb-66', 'Dec-61', 'Aug-73', 'Aug-70',\n",
              "       'Sep-69', 'Sep-75', 'Dec-68', 'Nov-54', 'Oct-69', 'Dec-65',\n",
              "       'Apr-72', 'Nov-72', 'Sep-63', 'Apr-69', 'Nov-62', 'Oct-67',\n",
              "       'May-67', 'Nov-61', 'Feb-67', 'Nov-68', 'Oct-75', 'Mar-71',\n",
              "       'Aug-71', 'Dec-66', 'Oct-68', 'Oct-74', 'Nov-63', 'Apr-68',\n",
              "       'May-69', 'Nov-59', nan, 'Oct-10', 'Dec-09', 'Nov-10', 'Jan-10',\n",
              "       'Dec-08', 'Sep-09', 'Jul-10', 'Jan-09', 'May-09', 'May-10',\n",
              "       'Sep-10', 'Apr-09', 'Nov-09', 'Apr-10', 'Mar-09', 'Feb-09',\n",
              "       'Aug-09', 'Oct-09', 'Jun-09', 'Jun-10', 'Jul-09', 'Feb-10',\n",
              "       'Mar-10', 'Aug-10', 'Jan-61', 'Oct-62', 'Jun-64', 'Apr-62',\n",
              "       'Jan-60', 'Sep-66', 'Mar-65', 'May-68', 'Jul-66', 'Dec-56',\n",
              "       'Dec-71', 'Apr-65', 'Jan-64', 'Jul-65', 'Jan-65', 'Jan-62',\n",
              "       'Aug-64', 'Jan-69', 'Oct-66', 'Jun-62', 'Dec-67', 'Oct-60',\n",
              "       'Jul-62', 'Dec-60', 'Jul-60', 'Jun-65', 'May-66', 'Oct-57',\n",
              "       'Aug-65', 'May-60', 'Jan-67', 'Nov-53', 'Oct-59', 'Jun-63',\n",
              "       'Mar-67', 'Jul-63', 'Nov-60', 'Mar-62', 'Mar-64', 'Jul-68',\n",
              "       'Feb-63', 'Jan-66', 'Dec-64', 'May-64', 'Oct-61', 'Aug-60',\n",
              "       'Mar-60', 'Apr-55', 'Sep-59', 'Aug-66', 'Jul-55', 'Aug-61',\n",
              "       'Nov-64', 'May-53', 'Nov-50', 'Nov-55', 'Mar-61', 'Feb-57',\n",
              "       'Aug-63', 'Feb-60', 'Sep-60', 'Feb-64', 'Dec-51', 'Nov-58',\n",
              "       'Aug-62', 'Oct-58', 'May-62', 'Mar-11', 'Jun-11', 'Dec-10',\n",
              "       'Oct-11', 'Sep-11', 'Jul-11', 'Apr-11', 'May-11', 'Jan-11',\n",
              "       'Feb-11', 'Aug-11', 'Apr-63', 'Nov-11', 'Dec-58', 'Jan-58',\n",
              "       'Jul-59', 'Jan-55', 'May-59', 'Aug-46', 'Apr-61', 'Jun-58',\n",
              "       'Jul-58', 'Jun-60', 'Jan-51', 'Dec-62', 'Mar-59', 'Aug-58',\n",
              "       'Jan-59', 'Feb-61', 'Sep-57', 'Jun-49', 'Jun-61', 'Jan-56',\n",
              "       'Jan-54', 'Jan-57', 'Jan-44', 'Oct-50', 'Jan-48', 'Jul-61',\n",
              "       'May-58', 'Jan-53', 'May-50', 'Nov-56'], dtype=object)"
            ]
          },
          "metadata": {},
          "execution_count": 27
        }
      ]
    },
    {
      "cell_type": "code",
      "source": [
        "dataset['months_since_earliest_cr_line'] = dataset['earliest_cr_line'].apply(convert_to_timedelta)"
      ],
      "metadata": {
        "id": "pJ2Wz1qgvqA7"
      },
      "execution_count": null,
      "outputs": []
    },
    {
      "cell_type": "code",
      "source": [
        "dataset['months_since_earliest_cr_line'].unique()"
      ],
      "metadata": {
        "colab": {
          "base_uri": "https://localhost:8080/"
        },
        "id": "TJmsXuNUwCzC",
        "outputId": "01ca65ab-e5de-4b06-afef-c04fbc6e042c"
      },
      "execution_count": null,
      "outputs": [
        {
          "output_type": "execute_result",
          "data": {
            "text/plain": [
              "array([ 395.,  224.,  193.,  262.,  263.,  157.,  149.,  131.,  164.,\n",
              "        159.,  239.,  338.,  173.,  319.,  123.,  230.,  292.,  170.,\n",
              "        203.,  241.,  418.,  389.,  176.,  198.,  190.,  400.,  133.,\n",
              "        360.,  433.,  250.,  152.,  122.,  204.,  128.,  192.,  179.,\n",
              "        285.,  231.,  162.,  265.,  221.,  270.,  303.,  191.,  308.,\n",
              "        134.,  211.,  228.,  156.,  206.,  187.,  139.,  185.,  137.,\n",
              "        247.,  146.,  272.,  182.,  215.,  212.,  276.,  147.,  396.,\n",
              "        216.,  169.,  342.,  174.,  254.,  175.,  186.,  126.,  252.,\n",
              "        406.,  183.,  383.,  235.,  251.,  150.,  334.,  165.,  269.,\n",
              "        280.,  306.,  249.,  140.,  332.,  220.,  207.,  202.,  348.,\n",
              "        226.,  312.,  208.,  158.,  160.,  154.,  145.,  205.,  127.,\n",
              "        323.,  210.,  136.,  180.,  294.,  138.,  166.,  324.,  213.,\n",
              "        274.,  197.,  188.,  135.,  223.,  232.,  144.,  163.,  194.,\n",
              "        414.,  381.,  452.,  161.,  113.,  259.,  167.,  181.,  184.,\n",
              "        196.,  321.,  339.,  279.,  171.,  219.,  148.,  372.,  229.,\n",
              "        142.,  283.,  121.,  298.,  313.,  151.,  528.,  199.,  333.,\n",
              "        261.,  458.,  438.,  201.,  200.,  222.,  289.,  143.,  240.,\n",
              "        277.,  245.,  314.,  282.,  141.,  255.,  320.,  293.,  275.,\n",
              "        363.,  177.,  218.,  257.,  168.,  352.,  311.,  237.,  130.,\n",
              "        424.,  273.,  300.,  233.,  341.,  331.,  281.,  195.,  405.,\n",
              "        172.,  217.,  129.,  117.,  284.,  155.,  377.,  328.,  307.,\n",
              "        209.,  357.,  415.,  296.,  473.,  214.,  432.,  309.,  443.,\n",
              "        327.,  234.,  295.,  253.,  189.,  359.,  244.,  364.,  112.,\n",
              "        278.,  374.,  286.,  258.,  238.,  109.,  236.,  461.,  299.,\n",
              "        367.,  557.,  124.,  246.,  453.,  132.,  125.,  266.,  317.,\n",
              "        305.,  540.,  288.,  227.,  178.,  248.,  264.,  260.,  329.,\n",
              "        573.,  397.,  404.,  401.,  268.,  225.,  351.,  345.,  369.,\n",
              "        242.,  444.,  287.,  267.,  153.,  347.,  310.,  335.,  325.,\n",
              "        585.,  510.,  393.,  120.,  290.,  336.,  447.,  354.,  475.,\n",
              "        536.,  340.,  326.,  315.,  430.,  370.,  385.,  407.,  353.,\n",
              "        115.,  386.,  417.,  316.,  375.,  330.,  382.,  243.,  402.,\n",
              "        435.,  380.,  460.,  448.,  301.,  291.,  366.,  423.,  304.,\n",
              "        388.,  413.,  318.,  408.,  371.,  469.,  398.,  256.,  337.,\n",
              "        495.,  373.,  362.,  111.,  487.,  379.,  441.,  419.,  493.,\n",
              "        459.,  410., -537.,  390.,  427.,  358.,  302.,  412.,  534.,\n",
              "        392.,  350.,  434., -609.,  521.,  361.,  271.,  322.,  349.,\n",
              "        297.,  114.,  449.,  420.,  513.,  454.,  356.,  456.,  387.,\n",
              "        555.,  477.,  118.,  472.,  565.,  462.,  450.,  344.,  411.,\n",
              "        346.,  409.,  378.,  422.,  376.,  446.,  355.,  384.,  431.,\n",
              "        483.,  492.,  428.,  403.,  116.,  466.,  119., -561.,  365.,\n",
              "        479.,  343.,  482.,  504.,  394.,  110.,  421.,  511.,  391.,\n",
              "        562.,  486.,  440.,  463.,  551., -597.,  476., -566.,  416.,\n",
              "        505., -594.,  525.,  545., -596.,  560.,  399.,  439.,  564.,\n",
              "        530.,  563., -552.,  524.,  455.,  580.,  512.,  485.,  489.,\n",
              "        577.,  503.,  429.,  368.,  576.,  523.,  520.,  546., -543.,\n",
              "        457.,  508.,  519.,  436.,  535.,  531.,  537.,  480.,  494.,\n",
              "        527.,  575., -608.,  502.,  515.,  542.,  516.,  538., -575.,\n",
              "        549.,  426.,  522., -569.,  558.,  566.,  500.,  554.,  488.,\n",
              "        471.,  470., -442.,  442.,  491.,  484.,  468.,  496., -606.,\n",
              "        474.,  582.,  451.,  467., -574.,  517., -580.,  498.,  550.,\n",
              "        499., -603.,  501.,  569.,  465.,  497.,  425., -573., -592.,\n",
              "       -550.,  574.,  533.,  478.,  553.,  544.,  509.,  567.,  437.,\n",
              "       -562.,  543.,  571., -545.,  586.,  445., -595.,  572.,  481.,\n",
              "       -587.,  559.,  464.,  547., -602., -559., -599., -556.,  514.,\n",
              "       -498., -465., -582., -337., -579., -541., -396.,  581., -601.,\n",
              "        529.,  570.,  490.,  526.,  539., -578., -528.,  532.,  568.,\n",
              "        579.,  507., -612., -443.,  578., -576.,  548.,  541., -549.,\n",
              "        584., -539., -598., -593., -527., -590., -611.,  506.,  561.,\n",
              "        556., -588., -610.,  518., -551., -604.,  583., -503.,   nan,\n",
              "         86.,   96.,   85.,   95.,  108.,   99.,   89.,  107.,  103.,\n",
              "         91.,   87.,  104.,   97.,   92.,  105.,  106.,  100.,   98.,\n",
              "        102.,   90.,  101.,   94.,   93.,   88., -517., -538., -558.,\n",
              "       -532., -505., -585., -567., -605., -583., -468.,  552., -568.,\n",
              "       -553., -571., -565., -529., -560.,  587., -586., -534., -600.,\n",
              "       -514., -535., -516., -511., -570., -581., -478., -572., -509.,\n",
              "       -589., -431., -502., -546., -591., -547., -515., -531., -555.,\n",
              "       -607., -542., -577., -564., -557., -526., -512., -507., -448.,\n",
              "       -501., -584., -451., -524., -563., -425., -395., -455., -519.,\n",
              "       -470., -548., -506., -513., -554., -408., -491., -536., -490.,\n",
              "       -533.,   81.,   78.,   84.,   74.,   75.,   77.,   80.,   79.,\n",
              "         83.,   82.,   76., -544.,   73., -492., -481., -499., -445.,\n",
              "       -497., -344., -520., -486., -487., -510., -397., -540., -495.,\n",
              "       -488., -493., -518., -477., -378., -522., -457., -433., -469.,\n",
              "       -313., -394., -361., -523., -485., -421., -389., -467.])"
            ]
          },
          "metadata": {},
          "execution_count": 29
        }
      ]
    },
    {
      "cell_type": "markdown",
      "source": [
        "Hasil selisih bulan yang didapat pada kolom `months_since_earliest_cr_line` terdapat nilai negatif. Hal ini dikarenakan format tanggal yang digunakan pada fungsi to_datetime() pada library Pandas memakai format UNIX. Format UNIX merupakan format penghitungan waktu dimulai dari tanggal 1 Januari 1970 00.00 sehingga tahun dibawah 1970 akan dikonversi menjadi 20XX alih-alih 19XX. Akibatnya, selisih waktu yang didapat bernilai negatif."
      ],
      "metadata": {
        "id": "ggoRteM0wLn3"
      }
    },
    {
      "cell_type": "markdown",
      "source": [
        "Untuk mengatasi hal tersebut, kita asumsikan bahwa data yang memiliki nilai negatif merupakan peminjam lama. Sehingga seharusnya selisih waktu yang didapat pasti bernilai besar. Maka kita konversi data dengan nilai negatif menjadi nilai maksimum pada kolom `months_since_earliest_cr_line`"
      ],
      "metadata": {
        "id": "wcEHCXkixnSn"
      }
    },
    {
      "cell_type": "code",
      "source": [
        "max_value = dataset['months_since_earliest_cr_line'].max()\n",
        "dataset['months_since_earliest_cr_line'] = np.where(dataset['months_since_earliest_cr_line'] < 0, max_value, dataset['months_since_earliest_cr_line'])"
      ],
      "metadata": {
        "id": "HHHMQi5RzZaS"
      },
      "execution_count": null,
      "outputs": []
    },
    {
      "cell_type": "code",
      "source": [
        "dataset['months_since_earliest_cr_line'].unique()"
      ],
      "metadata": {
        "colab": {
          "base_uri": "https://localhost:8080/"
        },
        "id": "vA6ipzCl0jd5",
        "outputId": "80fbd5cd-0ec3-4ee3-e305-3b5ee86f899a"
      },
      "execution_count": null,
      "outputs": [
        {
          "output_type": "execute_result",
          "data": {
            "text/plain": [
              "array([395., 224., 193., 262., 263., 157., 149., 131., 164., 159., 239.,\n",
              "       338., 173., 319., 123., 230., 292., 170., 203., 241., 418., 389.,\n",
              "       176., 198., 190., 400., 133., 360., 433., 250., 152., 122., 204.,\n",
              "       128., 192., 179., 285., 231., 162., 265., 221., 270., 303., 191.,\n",
              "       308., 134., 211., 228., 156., 206., 187., 139., 185., 137., 247.,\n",
              "       146., 272., 182., 215., 212., 276., 147., 396., 216., 169., 342.,\n",
              "       174., 254., 175., 186., 126., 252., 406., 183., 383., 235., 251.,\n",
              "       150., 334., 165., 269., 280., 306., 249., 140., 332., 220., 207.,\n",
              "       202., 348., 226., 312., 208., 158., 160., 154., 145., 205., 127.,\n",
              "       323., 210., 136., 180., 294., 138., 166., 324., 213., 274., 197.,\n",
              "       188., 135., 223., 232., 144., 163., 194., 414., 381., 452., 161.,\n",
              "       113., 259., 167., 181., 184., 196., 321., 339., 279., 171., 219.,\n",
              "       148., 372., 229., 142., 283., 121., 298., 313., 151., 528., 199.,\n",
              "       333., 261., 458., 438., 201., 200., 222., 289., 143., 240., 277.,\n",
              "       245., 314., 282., 141., 255., 320., 293., 275., 363., 177., 218.,\n",
              "       257., 168., 352., 311., 237., 130., 424., 273., 300., 233., 341.,\n",
              "       331., 281., 195., 405., 172., 217., 129., 117., 284., 155., 377.,\n",
              "       328., 307., 209., 357., 415., 296., 473., 214., 432., 309., 443.,\n",
              "       327., 234., 295., 253., 189., 359., 244., 364., 112., 278., 374.,\n",
              "       286., 258., 238., 109., 236., 461., 299., 367., 557., 124., 246.,\n",
              "       453., 132., 125., 266., 317., 305., 540., 288., 227., 178., 248.,\n",
              "       264., 260., 329., 573., 397., 404., 401., 268., 225., 351., 345.,\n",
              "       369., 242., 444., 287., 267., 153., 347., 310., 335., 325., 585.,\n",
              "       510., 393., 120., 290., 336., 447., 354., 475., 536., 340., 326.,\n",
              "       315., 430., 370., 385., 407., 353., 115., 386., 417., 316., 375.,\n",
              "       330., 382., 243., 402., 435., 380., 460., 448., 301., 291., 366.,\n",
              "       423., 304., 388., 413., 318., 408., 371., 469., 398., 256., 337.,\n",
              "       495., 373., 362., 111., 487., 379., 441., 419., 493., 459., 410.,\n",
              "       587., 390., 427., 358., 302., 412., 534., 392., 350., 434., 521.,\n",
              "       361., 271., 322., 349., 297., 114., 449., 420., 513., 454., 356.,\n",
              "       456., 387., 555., 477., 118., 472., 565., 462., 450., 344., 411.,\n",
              "       346., 409., 378., 422., 376., 446., 355., 384., 431., 483., 492.,\n",
              "       428., 403., 116., 466., 119., 365., 479., 343., 482., 504., 394.,\n",
              "       110., 421., 511., 391., 562., 486., 440., 463., 551., 476., 416.,\n",
              "       505., 525., 545., 560., 399., 439., 564., 530., 563., 524., 455.,\n",
              "       580., 512., 485., 489., 577., 503., 429., 368., 576., 523., 520.,\n",
              "       546., 457., 508., 519., 436., 535., 531., 537., 480., 494., 527.,\n",
              "       575., 502., 515., 542., 516., 538., 549., 426., 522., 558., 566.,\n",
              "       500., 554., 488., 471., 470., 442., 491., 484., 468., 496., 474.,\n",
              "       582., 451., 467., 517., 498., 550., 499., 501., 569., 465., 497.,\n",
              "       425., 574., 533., 478., 553., 544., 509., 567., 437., 543., 571.,\n",
              "       586., 445., 572., 481., 559., 464., 547., 514., 581., 529., 570.,\n",
              "       490., 526., 539., 532., 568., 579., 507., 578., 548., 541., 584.,\n",
              "       506., 561., 556., 518., 583.,  nan,  86.,  96.,  85.,  95., 108.,\n",
              "        99.,  89., 107., 103.,  91.,  87., 104.,  97.,  92., 105., 106.,\n",
              "       100.,  98., 102.,  90., 101.,  94.,  93.,  88., 552.,  81.,  78.,\n",
              "        84.,  74.,  75.,  77.,  80.,  79.,  83.,  82.,  76.,  73.])"
            ]
          },
          "metadata": {},
          "execution_count": 31
        }
      ]
    },
    {
      "cell_type": "code",
      "source": [
        "dataset.drop('earliest_cr_line', axis=1, inplace=True)"
      ],
      "metadata": {
        "id": "rUEwYHj21nuS"
      },
      "execution_count": null,
      "outputs": []
    },
    {
      "cell_type": "markdown",
      "source": [
        "**`last_pymnt_d`**"
      ],
      "metadata": {
        "id": "i1Xkb4kUbY7Q"
      }
    },
    {
      "cell_type": "markdown",
      "source": [
        "Melakukan preprocessing seperti pada kolom `issue_d`."
      ],
      "metadata": {
        "id": "TPyy_Lb81g-m"
      }
    },
    {
      "cell_type": "code",
      "source": [
        "dataset['last_pymnt_d'].unique()"
      ],
      "metadata": {
        "colab": {
          "base_uri": "https://localhost:8080/"
        },
        "id": "huUviHgPbX83",
        "outputId": "fb52c58f-4b56-4692-edbd-0f2b016671f1"
      },
      "execution_count": null,
      "outputs": [
        {
          "output_type": "execute_result",
          "data": {
            "text/plain": [
              "array(['Jan-15', 'Apr-13', 'Jun-14', 'Jan-16', 'Apr-12', 'Nov-12',\n",
              "       'Jun-13', 'Sep-13', 'Jul-12', 'Oct-13', 'May-13', 'Feb-15',\n",
              "       'Aug-15', 'Oct-12', 'Sep-12', nan, 'Dec-12', 'Dec-14', 'Aug-13',\n",
              "       'Nov-13', 'Jan-14', 'Apr-14', 'Aug-14', 'Oct-14', 'Aug-12',\n",
              "       'Jul-14', 'Jul-13', 'Apr-15', 'Feb-14', 'Sep-14', 'Jun-12',\n",
              "       'Feb-13', 'Mar-13', 'May-14', 'Mar-15', 'Jan-13', 'Dec-13',\n",
              "       'Feb-12', 'Mar-14', 'Sep-15', 'Nov-15', 'Dec-15', 'Jan-12',\n",
              "       'Oct-15', 'Nov-14', 'Mar-12', 'May-12', 'Jun-15', 'May-15',\n",
              "       'Jul-15', 'Dec-11', 'Nov-11', 'Oct-11', 'Sep-11', 'Aug-11',\n",
              "       'Jul-11', 'Jun-11', 'May-11', 'Apr-11', 'Mar-11', 'Feb-11',\n",
              "       'Jan-11', 'Dec-10', 'Nov-10', 'Oct-10', 'Sep-10', 'Aug-10',\n",
              "       'Jul-10', 'Jun-10', 'May-10', 'Apr-10', 'Mar-10', 'Feb-10',\n",
              "       'Jan-10', 'Dec-09', 'Nov-09', 'Oct-09', 'Sep-09', 'Aug-09',\n",
              "       'Jul-09', 'Jun-09', 'May-09', 'Apr-09', 'Mar-09', 'Feb-09',\n",
              "       'Jan-09', 'Dec-08', 'Oct-08', 'Aug-08', 'Jul-08', 'Sep-08',\n",
              "       'Jun-08', 'May-08', 'Nov-08', 'Apr-08', 'Mar-08', 'Feb-08',\n",
              "       'Jan-08', 'Dec-07'], dtype=object)"
            ]
          },
          "metadata": {},
          "execution_count": 33
        }
      ]
    },
    {
      "cell_type": "code",
      "source": [
        "dataset['months_since_last_pymnt_d'] = dataset['last_pymnt_d'].apply(convert_to_timedelta)"
      ],
      "metadata": {
        "id": "ym70-RZM13u1"
      },
      "execution_count": null,
      "outputs": []
    },
    {
      "cell_type": "code",
      "source": [
        "dataset['months_since_last_pymnt_d'].unique()"
      ],
      "metadata": {
        "colab": {
          "base_uri": "https://localhost:8080/"
        },
        "id": "J-tjVQ412Sre",
        "outputId": "910029e4-172e-40a9-be08-e010e13a9943"
      },
      "execution_count": null,
      "outputs": [
        {
          "output_type": "execute_result",
          "data": {
            "text/plain": [
              "array([ 35.,  56.,  42.,  23.,  68.,  61.,  54.,  51.,  65.,  50.,  55.,\n",
              "        34.,  28.,  62.,  63.,  nan,  60.,  36.,  52.,  49.,  47.,  44.,\n",
              "        40.,  38.,  64.,  41.,  53.,  32.,  46.,  39.,  66.,  58.,  57.,\n",
              "        43.,  33.,  59.,  48.,  70.,  45.,  27.,  25.,  24.,  71.,  26.,\n",
              "        37.,  69.,  67.,  30.,  31.,  29.,  72.,  73.,  74.,  75.,  76.,\n",
              "        77.,  78.,  79.,  80.,  81.,  82.,  83.,  84.,  85.,  86.,  87.,\n",
              "        88.,  89.,  90.,  91.,  92.,  93.,  94.,  95.,  96.,  97.,  98.,\n",
              "        99., 100., 101., 102., 103., 104., 105., 106., 107., 108., 110.,\n",
              "       112., 113., 111., 114., 115., 109., 116., 117., 118., 119., 120.])"
            ]
          },
          "metadata": {},
          "execution_count": 35
        }
      ]
    },
    {
      "cell_type": "code",
      "source": [
        "dataset.drop('last_pymnt_d', axis=1, inplace=True)"
      ],
      "metadata": {
        "id": "nbxSwvQp2Znl"
      },
      "execution_count": null,
      "outputs": []
    },
    {
      "cell_type": "markdown",
      "source": [
        "**`next_pymnt_d`**"
      ],
      "metadata": {
        "id": "nt9cpC4Qbu_h"
      }
    },
    {
      "cell_type": "markdown",
      "source": [
        "Melakukan preprocessing seperti pada kolom `issue_d`."
      ],
      "metadata": {
        "id": "IVBaiH7p1iLz"
      }
    },
    {
      "cell_type": "code",
      "source": [
        "dataset['next_pymnt_d'].unique()"
      ],
      "metadata": {
        "colab": {
          "base_uri": "https://localhost:8080/"
        },
        "id": "VQzQtAfUbzbH",
        "outputId": "bd876051-63b3-4573-ca94-29d08fc715b8"
      },
      "execution_count": null,
      "outputs": [
        {
          "output_type": "execute_result",
          "data": {
            "text/plain": [
              "array([nan, 'Feb-16', 'Jan-16', 'Sep-13', 'Feb-14', 'May-14', 'Jun-13',\n",
              "       'Mar-12', 'Apr-12', 'May-13', 'Aug-12', 'Aug-13', 'Jun-12',\n",
              "       'Nov-13', 'Feb-12', 'Oct-11', 'Jan-13', 'Jan-14', 'Jul-13',\n",
              "       'Jul-15', 'Jan-12', 'Dec-12', 'Jun-11', 'Feb-13', 'Nov-11',\n",
              "       'Nov-12', 'Dec-11', 'Aug-11', 'Sep-11', 'Apr-11', 'Mar-14',\n",
              "       'Apr-13', 'Mar-11', 'Jul-12', 'Aug-14', 'Oct-13', 'Sep-12',\n",
              "       'May-12', 'Apr-15', 'Jul-11', 'Dec-15', 'Dec-13', 'Jan-11',\n",
              "       'Oct-12', 'Nov-14', 'Mar-13', 'Aug-15', 'Feb-15', 'May-15',\n",
              "       'Jul-14', 'Nov-15', 'Sep-14', 'Oct-15', 'May-11', 'Feb-11',\n",
              "       'Dec-14', 'Jun-15', 'Apr-14', 'Jan-15', 'Sep-15', 'Jun-14',\n",
              "       'Nov-10', 'Oct-10', 'Dec-10', 'Mar-15', 'Oct-14', 'Jul-10',\n",
              "       'Sep-10', 'May-10', 'Aug-10', 'Mar-10', 'Jun-10', 'Apr-10',\n",
              "       'Feb-10', 'Dec-09', 'Nov-09', 'Oct-09', 'Jan-10', 'Sep-09',\n",
              "       'Jun-09', 'Aug-09', 'Jul-09', 'May-09', 'Apr-09', 'Jan-09',\n",
              "       'Oct-08', 'Feb-09', 'Nov-08', 'Sep-08', 'Mar-09', 'Dec-08',\n",
              "       'Aug-08', 'Jun-08', 'Jul-08', 'Apr-08', 'May-08', 'Feb-08',\n",
              "       'Jan-08', 'Mar-08', 'Dec-07', 'Mar-16'], dtype=object)"
            ]
          },
          "metadata": {},
          "execution_count": 37
        }
      ]
    },
    {
      "cell_type": "code",
      "source": [
        "dataset['months_since_next_pymnt_d'] = dataset['next_pymnt_d'].apply(convert_to_timedelta)"
      ],
      "metadata": {
        "id": "elPkaubk2i7Q"
      },
      "execution_count": null,
      "outputs": []
    },
    {
      "cell_type": "code",
      "source": [
        "dataset['months_since_next_pymnt_d'].unique()"
      ],
      "metadata": {
        "colab": {
          "base_uri": "https://localhost:8080/"
        },
        "id": "WZxwG0xC2xbc",
        "outputId": "e7a2ade0-53e1-4e4a-cd74-e6100b820860"
      },
      "execution_count": null,
      "outputs": [
        {
          "output_type": "execute_result",
          "data": {
            "text/plain": [
              "array([ nan,  22.,  23.,  51.,  46.,  43.,  54.,  69.,  68.,  55.,  64.,\n",
              "        52.,  66.,  49.,  70.,  74.,  59.,  47.,  53.,  29.,  71.,  60.,\n",
              "        78.,  58.,  73.,  61.,  72.,  76.,  75.,  80.,  45.,  56.,  81.,\n",
              "        65.,  40.,  50.,  63.,  67.,  32.,  77.,  24.,  48.,  83.,  62.,\n",
              "        37.,  57.,  28.,  34.,  31.,  41.,  25.,  39.,  26.,  79.,  82.,\n",
              "        36.,  30.,  44.,  35.,  27.,  42.,  85.,  86.,  84.,  33.,  38.,\n",
              "        89.,  87.,  91.,  88.,  93.,  90.,  92.,  94.,  96.,  97.,  98.,\n",
              "        95.,  99., 102., 100., 101., 103., 104., 107., 110., 106., 109.,\n",
              "       111., 105., 108., 112., 114., 113., 116., 115., 118., 119., 117.,\n",
              "       120.,  21.])"
            ]
          },
          "metadata": {},
          "execution_count": 39
        }
      ]
    },
    {
      "cell_type": "code",
      "source": [
        "dataset.drop('next_pymnt_d', axis=1, inplace=True)"
      ],
      "metadata": {
        "id": "ZtjUKN9V26ur"
      },
      "execution_count": null,
      "outputs": []
    },
    {
      "cell_type": "markdown",
      "source": [
        "**`last_credit_pull_d`**"
      ],
      "metadata": {
        "id": "OhL8RSg4cV3p"
      }
    },
    {
      "cell_type": "markdown",
      "source": [
        "Melakukan preprocessing seperti pada kolom `issue_d`."
      ],
      "metadata": {
        "id": "REEeNpu81i_7"
      }
    },
    {
      "cell_type": "code",
      "source": [
        "dataset['last_credit_pull_d'].unique()"
      ],
      "metadata": {
        "colab": {
          "base_uri": "https://localhost:8080/"
        },
        "id": "6FKAeeAuceNs",
        "outputId": "443bd889-6571-4b26-9486-88593dbaf626"
      },
      "execution_count": null,
      "outputs": [
        {
          "output_type": "execute_result",
          "data": {
            "text/plain": [
              "array(['Jan-16', 'Sep-13', 'Jan-15', 'Sep-15', 'Dec-14', 'Aug-12',\n",
              "       'Mar-13', 'Dec-15', 'Aug-13', 'Nov-12', 'Mar-14', 'Apr-15',\n",
              "       'May-14', 'Jul-15', 'Jul-12', 'Sep-12', 'May-13', 'Oct-15',\n",
              "       'Jun-12', 'Mar-15', 'Dec-12', 'Jul-14', 'Sep-14', 'Feb-14',\n",
              "       'Jun-15', 'Oct-13', 'Apr-14', 'Oct-14', 'Feb-13', 'Nov-15',\n",
              "       'Oct-12', 'Nov-13', 'Nov-14', 'Feb-12', 'Apr-12', 'Aug-15',\n",
              "       'Jun-14', 'Jan-12', 'Aug-14', 'Jun-13', 'Dec-13', 'May-12',\n",
              "       'Jan-14', 'Jul-13', 'Apr-13', 'May-15', 'Feb-15', 'Mar-12',\n",
              "       'Nov-11', 'Dec-11', 'Jan-13', 'Oct-11', 'Sep-11', 'Aug-11',\n",
              "       'Jul-11', 'Jun-11', 'May-11', 'Apr-11', 'Mar-11', 'Feb-11',\n",
              "       'Jan-11', 'Dec-10', 'Nov-10', 'Oct-10', nan, 'Sep-10', 'Aug-10',\n",
              "       'Jul-10', 'Jun-10', 'May-10', 'Apr-10', 'Feb-10', 'Mar-10',\n",
              "       'Aug-07', 'Jan-10', 'Dec-09', 'Nov-09', 'Oct-09', 'Sep-09',\n",
              "       'Jul-09', 'Aug-09', 'Jun-09', 'May-09', 'Apr-09', 'Mar-09',\n",
              "       'Feb-09', 'Jan-09', 'Dec-08', 'Jun-08', 'Sep-08', 'May-08',\n",
              "       'Aug-08', 'Mar-08', 'Oct-08', 'Feb-08', 'Jan-08', 'Dec-07',\n",
              "       'Jul-08', 'Oct-07', 'Sep-07', 'Jun-07', 'May-07', 'Jul-07',\n",
              "       'Nov-07'], dtype=object)"
            ]
          },
          "metadata": {},
          "execution_count": 41
        }
      ]
    },
    {
      "cell_type": "code",
      "source": [
        "dataset['months_since_last_credit_pull_d'] = dataset['last_credit_pull_d'].apply(convert_to_timedelta)"
      ],
      "metadata": {
        "id": "7E8ouaW23Fo7"
      },
      "execution_count": null,
      "outputs": []
    },
    {
      "cell_type": "code",
      "source": [
        "dataset.drop('last_credit_pull_d', axis=1, inplace=True)"
      ],
      "metadata": {
        "id": "u-WV4GiE3dL4"
      },
      "execution_count": null,
      "outputs": []
    },
    {
      "cell_type": "markdown",
      "source": [
        "# **Feature Selection**"
      ],
      "metadata": {
        "id": "O1TaneQy3s_-"
      }
    },
    {
      "cell_type": "markdown",
      "source": [
        "Sejauh ini, kita sudah membuang beberapa kolom seperti kolom identitas, kolom free text, kolom dengan nilai Null, dan kolom `sub_grade`. Namun, untuk meningkatkan nilai akurasi yang didapat, kita masih harus membuang beberapa kolom dengan high cardinality, kolom dengan kategori tertentu yang sangat dominan, dan kolom dengan korelasi tertinggi dengan kolom yang bukan target class."
      ],
      "metadata": {
        "id": "JSeFhLqm3zxu"
      }
    },
    {
      "cell_type": "code",
      "source": [
        "dataset.info()"
      ],
      "metadata": {
        "colab": {
          "base_uri": "https://localhost:8080/"
        },
        "id": "OuD9Zo0b3zGB",
        "outputId": "23ecfeba-b3f3-4c02-a775-3cff1da27374"
      },
      "execution_count": null,
      "outputs": [
        {
          "output_type": "stream",
          "name": "stdout",
          "text": [
            "<class 'pandas.core.frame.DataFrame'>\n",
            "Int64Index: 466285 entries, 0 to 466284\n",
            "Data columns (total 51 columns):\n",
            " #   Column                           Non-Null Count   Dtype  \n",
            "---  ------                           --------------   -----  \n",
            " 0   loan_amnt                        466285 non-null  int64  \n",
            " 1   funded_amnt                      466285 non-null  int64  \n",
            " 2   funded_amnt_inv                  466285 non-null  float64\n",
            " 3   term                             466285 non-null  int64  \n",
            " 4   int_rate                         466285 non-null  float64\n",
            " 5   installment                      466285 non-null  float64\n",
            " 6   grade                            466285 non-null  object \n",
            " 7   emp_title                        438697 non-null  object \n",
            " 8   emp_length                       445277 non-null  float64\n",
            " 9   home_ownership                   466285 non-null  object \n",
            " 10  annual_inc                       466281 non-null  float64\n",
            " 11  verification_status              466285 non-null  object \n",
            " 12  pymnt_plan                       466285 non-null  object \n",
            " 13  purpose                          466285 non-null  object \n",
            " 14  title                            466265 non-null  object \n",
            " 15  addr_state                       466285 non-null  object \n",
            " 16  dti                              466285 non-null  float64\n",
            " 17  delinq_2yrs                      466256 non-null  float64\n",
            " 18  inq_last_6mths                   466256 non-null  float64\n",
            " 19  mths_since_last_delinq           215934 non-null  float64\n",
            " 20  mths_since_last_record           62638 non-null   float64\n",
            " 21  open_acc                         466256 non-null  float64\n",
            " 22  pub_rec                          466256 non-null  float64\n",
            " 23  revol_bal                        466285 non-null  int64  \n",
            " 24  revol_util                       465945 non-null  float64\n",
            " 25  total_acc                        466256 non-null  float64\n",
            " 26  initial_list_status              466285 non-null  object \n",
            " 27  out_prncp                        466285 non-null  float64\n",
            " 28  out_prncp_inv                    466285 non-null  float64\n",
            " 29  total_pymnt                      466285 non-null  float64\n",
            " 30  total_pymnt_inv                  466285 non-null  float64\n",
            " 31  total_rec_prncp                  466285 non-null  float64\n",
            " 32  total_rec_int                    466285 non-null  float64\n",
            " 33  total_rec_late_fee               466285 non-null  float64\n",
            " 34  recoveries                       466285 non-null  float64\n",
            " 35  collection_recovery_fee          466285 non-null  float64\n",
            " 36  last_pymnt_amnt                  466285 non-null  float64\n",
            " 37  collections_12_mths_ex_med       466140 non-null  float64\n",
            " 38  mths_since_last_major_derog      98974 non-null   float64\n",
            " 39  policy_code                      466285 non-null  int64  \n",
            " 40  application_type                 466285 non-null  object \n",
            " 41  acc_now_delinq                   466256 non-null  float64\n",
            " 42  tot_coll_amt                     396009 non-null  float64\n",
            " 43  tot_cur_bal                      396009 non-null  float64\n",
            " 44  total_rev_hi_lim                 396009 non-null  float64\n",
            " 45  loan_label                       466285 non-null  object \n",
            " 46  months_since_issue_d             466285 non-null  int64  \n",
            " 47  months_since_earliest_cr_line    466256 non-null  float64\n",
            " 48  months_since_last_pymnt_d        465909 non-null  float64\n",
            " 49  months_since_next_pymnt_d        239071 non-null  float64\n",
            " 50  months_since_last_credit_pull_d  466243 non-null  float64\n",
            "dtypes: float64(34), int64(6), object(11)\n",
            "memory usage: 185.0+ MB\n"
          ]
        }
      ]
    },
    {
      "cell_type": "markdown",
      "source": [
        "Tiap kolom pada dataset memiliki tipe data yang berbeda. Untuk mempermudah pengecekan, kita periksa data berdasarkan tipe data kategorikal dan numerik."
      ],
      "metadata": {
        "id": "Wa0WjjtcTh_Q"
      }
    },
    {
      "cell_type": "markdown",
      "source": [
        "## **Kolom dengan High Cardinality dan data kategori tertentu yang sangat dominan**"
      ],
      "metadata": {
        "id": "FdNEX2RSQlpI"
      }
    },
    {
      "cell_type": "markdown",
      "source": [
        "**Kolom dengan tipe data kategorikal**"
      ],
      "metadata": {
        "id": "XsMhSh_NVSGr"
      }
    },
    {
      "cell_type": "code",
      "source": [
        "dataset.select_dtypes(include='object').nunique()"
      ],
      "metadata": {
        "colab": {
          "base_uri": "https://localhost:8080/"
        },
        "id": "NIH1DXSxU8UO",
        "outputId": "18e0ec32-0e80-43c6-bc17-c7325ee3f28e"
      },
      "execution_count": null,
      "outputs": [
        {
          "output_type": "execute_result",
          "data": {
            "text/plain": [
              "grade                       7\n",
              "emp_title              205475\n",
              "home_ownership              6\n",
              "verification_status         3\n",
              "pymnt_plan                  2\n",
              "purpose                    14\n",
              "title                   63099\n",
              "addr_state                 50\n",
              "initial_list_status         2\n",
              "application_type            1\n",
              "loan_label                  2\n",
              "dtype: int64"
            ]
          },
          "metadata": {},
          "execution_count": 45
        }
      ]
    },
    {
      "cell_type": "markdown",
      "source": [
        "Kolom `emp_title` dan kolom `title` merupakan kolom dengan high cardinality karena memiliki nilai unik yang banyak sehingga harus dihapus. Selain itu terdapat satu kolom yang hanya memiliki satu nilai unik yaitu `application_type` sehingga kolom tersebut perlu dihapus."
      ],
      "metadata": {
        "id": "PthCwRIYVqI8"
      }
    },
    {
      "cell_type": "code",
      "source": [
        "dataset.drop(['emp_title', 'title', 'application_type'], axis=1, inplace=True)"
      ],
      "metadata": {
        "id": "BHbs---iXCBv"
      },
      "execution_count": null,
      "outputs": []
    },
    {
      "cell_type": "code",
      "source": [
        "dataset.select_dtypes(include='object').nunique()"
      ],
      "metadata": {
        "colab": {
          "base_uri": "https://localhost:8080/"
        },
        "id": "AsSSJ3HlX-QX",
        "outputId": "4b67bf0c-a34c-4e57-af61-dfc9ad3c314e"
      },
      "execution_count": null,
      "outputs": [
        {
          "output_type": "execute_result",
          "data": {
            "text/plain": [
              "grade                   7\n",
              "home_ownership          6\n",
              "verification_status     3\n",
              "pymnt_plan              2\n",
              "purpose                14\n",
              "addr_state             50\n",
              "initial_list_status     2\n",
              "loan_label              2\n",
              "dtype: int64"
            ]
          },
          "metadata": {},
          "execution_count": 47
        }
      ]
    },
    {
      "cell_type": "markdown",
      "source": [
        "Kemudian dapat kita lihat, ada dua kolom selain `loan_label` yang memiliki 2 nilai unik yaitu kolom `pymnt_plan` dan `initial_list_status`."
      ],
      "metadata": {
        "id": "1RBcIH_-YIbK"
      }
    },
    {
      "cell_type": "code",
      "source": [
        "dataset['pymnt_plan'].value_counts()"
      ],
      "metadata": {
        "colab": {
          "base_uri": "https://localhost:8080/"
        },
        "id": "v1OeqwfDY17r",
        "outputId": "2f813579-12c5-4558-91fc-abec16c0da31"
      },
      "execution_count": null,
      "outputs": [
        {
          "output_type": "execute_result",
          "data": {
            "text/plain": [
              "n    466276\n",
              "y         9\n",
              "Name: pymnt_plan, dtype: int64"
            ]
          },
          "metadata": {},
          "execution_count": 48
        }
      ]
    },
    {
      "cell_type": "code",
      "source": [
        "dataset['initial_list_status'].value_counts()"
      ],
      "metadata": {
        "colab": {
          "base_uri": "https://localhost:8080/"
        },
        "id": "PKCReLRtZGtj",
        "outputId": "62505239-557a-4f29-e673-9c888daed3b8"
      },
      "execution_count": null,
      "outputs": [
        {
          "output_type": "execute_result",
          "data": {
            "text/plain": [
              "f    303005\n",
              "w    163280\n",
              "Name: initial_list_status, dtype: int64"
            ]
          },
          "metadata": {},
          "execution_count": 49
        }
      ]
    },
    {
      "cell_type": "markdown",
      "source": [
        "Dapat dilihat bahwa pada kolom `pymnt_plan` terdapat kategori 'n' yang mendominasi dengan jumlah 466.276 data sedangkan kategori 'y' hanya 9 data sehingga kolom `pymnt_plan` harus dihapus. Untuk kolom `initial_list_status` tidak perlu dihapus karena tidak ada kategori yang terlalu dominan."
      ],
      "metadata": {
        "id": "r9rgU0DkZQXw"
      }
    },
    {
      "cell_type": "code",
      "source": [
        "dataset.drop('pymnt_plan', axis=1, inplace=True)"
      ],
      "metadata": {
        "id": "v5ZPp0wxaPwS"
      },
      "execution_count": null,
      "outputs": []
    },
    {
      "cell_type": "code",
      "source": [
        "dataset.select_dtypes(include='object').nunique()"
      ],
      "metadata": {
        "colab": {
          "base_uri": "https://localhost:8080/"
        },
        "id": "LZpuaNPIaY-A",
        "outputId": "974d0016-90c1-48f7-bc89-98eb9989903c"
      },
      "execution_count": null,
      "outputs": [
        {
          "output_type": "execute_result",
          "data": {
            "text/plain": [
              "grade                   7\n",
              "home_ownership          6\n",
              "verification_status     3\n",
              "purpose                14\n",
              "addr_state             50\n",
              "initial_list_status     2\n",
              "loan_label              2\n",
              "dtype: int64"
            ]
          },
          "metadata": {},
          "execution_count": 51
        }
      ]
    },
    {
      "cell_type": "markdown",
      "source": [
        "**Kolom dengan tipe data numerikal**"
      ],
      "metadata": {
        "id": "u0r3innMbXRX"
      }
    },
    {
      "cell_type": "code",
      "source": [
        "dataset.select_dtypes(exclude='object').nunique()"
      ],
      "metadata": {
        "colab": {
          "base_uri": "https://localhost:8080/"
        },
        "id": "JS7KFT2rbdBo",
        "outputId": "eb504e8c-ce08-4245-ac1d-da92886d4d7d"
      },
      "execution_count": null,
      "outputs": [
        {
          "output_type": "execute_result",
          "data": {
            "text/plain": [
              "loan_amnt                            1352\n",
              "funded_amnt                          1354\n",
              "funded_amnt_inv                      9854\n",
              "term                                    2\n",
              "int_rate                              506\n",
              "installment                         55622\n",
              "emp_length                             11\n",
              "annual_inc                          31901\n",
              "dti                                  3997\n",
              "delinq_2yrs                            24\n",
              "inq_last_6mths                         28\n",
              "mths_since_last_delinq                145\n",
              "mths_since_last_record                123\n",
              "open_acc                               62\n",
              "pub_rec                                26\n",
              "revol_bal                           58142\n",
              "revol_util                           1269\n",
              "total_acc                             112\n",
              "out_prncp                          135665\n",
              "out_prncp_inv                      141189\n",
              "total_pymnt                        351609\n",
              "total_pymnt_inv                    347659\n",
              "total_rec_prncp                    172713\n",
              "total_rec_int                      270249\n",
              "total_rec_late_fee                   5808\n",
              "recoveries                          22773\n",
              "collection_recovery_fee             20275\n",
              "last_pymnt_amnt                    198194\n",
              "collections_12_mths_ex_med              9\n",
              "mths_since_last_major_derog           162\n",
              "policy_code                             1\n",
              "acc_now_delinq                          6\n",
              "tot_coll_amt                         6321\n",
              "tot_cur_bal                        220690\n",
              "total_rev_hi_lim                    14612\n",
              "months_since_issue_d                   91\n",
              "months_since_earliest_cr_line         515\n",
              "months_since_last_pymnt_d              98\n",
              "months_since_next_pymnt_d             100\n",
              "months_since_last_credit_pull_d       103\n",
              "dtype: int64"
            ]
          },
          "metadata": {},
          "execution_count": 52
        }
      ]
    },
    {
      "cell_type": "markdown",
      "source": [
        "Pada data dengan tipe data `non-object`, kolom `policy_code` hanya memiliki satu nilai unik saja sehingga harus dihapus"
      ],
      "metadata": {
        "id": "0FTaScRccWxN"
      }
    },
    {
      "cell_type": "code",
      "source": [
        "dataset.drop('policy_code', axis=1, inplace=True)"
      ],
      "metadata": {
        "id": "AmeEpOzIcoio"
      },
      "execution_count": null,
      "outputs": []
    },
    {
      "cell_type": "code",
      "source": [
        "dataset.select_dtypes(exclude='object').nunique()"
      ],
      "metadata": {
        "colab": {
          "base_uri": "https://localhost:8080/"
        },
        "id": "1LXAgFMbcyS4",
        "outputId": "b50920df-9f9f-4a6c-9164-86a01e4327c5"
      },
      "execution_count": null,
      "outputs": [
        {
          "output_type": "execute_result",
          "data": {
            "text/plain": [
              "loan_amnt                            1352\n",
              "funded_amnt                          1354\n",
              "funded_amnt_inv                      9854\n",
              "term                                    2\n",
              "int_rate                              506\n",
              "installment                         55622\n",
              "emp_length                             11\n",
              "annual_inc                          31901\n",
              "dti                                  3997\n",
              "delinq_2yrs                            24\n",
              "inq_last_6mths                         28\n",
              "mths_since_last_delinq                145\n",
              "mths_since_last_record                123\n",
              "open_acc                               62\n",
              "pub_rec                                26\n",
              "revol_bal                           58142\n",
              "revol_util                           1269\n",
              "total_acc                             112\n",
              "out_prncp                          135665\n",
              "out_prncp_inv                      141189\n",
              "total_pymnt                        351609\n",
              "total_pymnt_inv                    347659\n",
              "total_rec_prncp                    172713\n",
              "total_rec_int                      270249\n",
              "total_rec_late_fee                   5808\n",
              "recoveries                          22773\n",
              "collection_recovery_fee             20275\n",
              "last_pymnt_amnt                    198194\n",
              "collections_12_mths_ex_med              9\n",
              "mths_since_last_major_derog           162\n",
              "acc_now_delinq                          6\n",
              "tot_coll_amt                         6321\n",
              "tot_cur_bal                        220690\n",
              "total_rev_hi_lim                    14612\n",
              "months_since_issue_d                   91\n",
              "months_since_earliest_cr_line         515\n",
              "months_since_last_pymnt_d              98\n",
              "months_since_next_pymnt_d             100\n",
              "months_since_last_credit_pull_d       103\n",
              "dtype: int64"
            ]
          },
          "metadata": {},
          "execution_count": 54
        }
      ]
    },
    {
      "cell_type": "markdown",
      "source": [
        "## **Kolom dengan korelasi tinggi dengan kolom selain label**"
      ],
      "metadata": {
        "id": "eVWwENVyQ-Bx"
      }
    },
    {
      "cell_type": "code",
      "source": [
        "correlation_matrix = dataset.corr()\n",
        "\n",
        "# Visualisasi matriks korelasi dengan heatmap\n",
        "sns.heatmap(correlation_matrix, cmap='coolwarm', fmt=\".2f\")\n",
        "plt.title(\"Correlation Matrix\")\n",
        "plt.show()"
      ],
      "metadata": {
        "colab": {
          "base_uri": "https://localhost:8080/"
        },
        "id": "szxyc0Agc4ug",
        "outputId": "dccfc565-2cf0-4086-c7d6-c39064acd6d4"
      },
      "execution_count": null,
      "outputs": [
        {
          "output_type": "stream",
          "name": "stderr",
          "text": [
            "<ipython-input-55-946e2f32a753>:1: FutureWarning: The default value of numeric_only in DataFrame.corr is deprecated. In a future version, it will default to False. Select only valid columns or specify the value of numeric_only to silence this warning.\n",
            "  correlation_matrix = dataset.corr()\n"
          ]
        },
        {
          "output_type": "display_data",
          "data": {
            "text/plain": [
              "<Figure size 640x480 with 2 Axes>"
            ],
            "image/png": "[encoded data removed]"
          },
          "metadata": {}
        }
      ]
    },
    {
      "cell_type": "markdown",
      "source": [
        "Pasangan kolom-kolom yang memiliki nilai korelasi tinggi akan kita hapus. Umumnya nilai ambang korelasi yang digunakan adalah 0.7"
      ],
      "metadata": {
        "id": "yZAgZZxVkM0w"
      }
    },
    {
      "cell_type": "code",
      "source": [
        "# Menentukan nilai ambang korelasi\n",
        "threshold = 0.7\n",
        "\n",
        "# Mencari kolom yang berkorelasi tinggi\n",
        "high_correlation_cols = []\n",
        "for i in range(len(correlation_matrix.columns)):\n",
        "    for j in range(i):\n",
        "        if abs(correlation_matrix.iloc[i, j]) > threshold:\n",
        "            colname = correlation_matrix.columns[i]\n",
        "            high_correlation_cols.append(colname)"
      ],
      "metadata": {
        "id": "GC39LGRriwW4"
      },
      "execution_count": null,
      "outputs": []
    },
    {
      "cell_type": "code",
      "source": [
        "high_correlation_cols"
      ],
      "metadata": {
        "colab": {
          "base_uri": "https://localhost:8080/"
        },
        "id": "w_T_Q23FjNRz",
        "outputId": "95d2e88d-bc7e-4049-ce57-b38261230a86"
      },
      "execution_count": null,
      "outputs": [
        {
          "output_type": "execute_result",
          "data": {
            "text/plain": [
              "['funded_amnt',\n",
              " 'funded_amnt_inv',\n",
              " 'funded_amnt_inv',\n",
              " 'installment',\n",
              " 'installment',\n",
              " 'installment',\n",
              " 'out_prncp_inv',\n",
              " 'total_pymnt',\n",
              " 'total_pymnt',\n",
              " 'total_pymnt',\n",
              " 'total_pymnt',\n",
              " 'total_pymnt_inv',\n",
              " 'total_pymnt_inv',\n",
              " 'total_pymnt_inv',\n",
              " 'total_pymnt_inv',\n",
              " 'total_pymnt_inv',\n",
              " 'total_rec_prncp',\n",
              " 'total_rec_prncp',\n",
              " 'total_rec_int',\n",
              " 'total_rec_int',\n",
              " 'total_rec_int',\n",
              " 'collection_recovery_fee',\n",
              " 'last_pymnt_amnt',\n",
              " 'mths_since_last_major_derog',\n",
              " 'total_rev_hi_lim',\n",
              " 'months_since_last_pymnt_d',\n",
              " 'months_since_next_pymnt_d',\n",
              " 'months_since_last_credit_pull_d',\n",
              " 'months_since_last_credit_pull_d']"
            ]
          },
          "metadata": {},
          "execution_count": 57
        }
      ]
    },
    {
      "cell_type": "code",
      "source": [
        "dataset.drop(high_correlation_cols, axis=1, inplace=True)"
      ],
      "metadata": {
        "id": "7r-qvPIkkmN5"
      },
      "execution_count": null,
      "outputs": []
    },
    {
      "cell_type": "code",
      "source": [
        "dataset.info()"
      ],
      "metadata": {
        "colab": {
          "base_uri": "https://localhost:8080/"
        },
        "id": "N_SaXyqJk2Bj",
        "outputId": "4d5746c4-fea3-4f54-b1ce-d32a74cf067d"
      },
      "execution_count": null,
      "outputs": [
        {
          "output_type": "stream",
          "name": "stdout",
          "text": [
            "<class 'pandas.core.frame.DataFrame'>\n",
            "Int64Index: 466285 entries, 0 to 466284\n",
            "Data columns (total 31 columns):\n",
            " #   Column                         Non-Null Count   Dtype  \n",
            "---  ------                         --------------   -----  \n",
            " 0   loan_amnt                      466285 non-null  int64  \n",
            " 1   term                           466285 non-null  int64  \n",
            " 2   int_rate                       466285 non-null  float64\n",
            " 3   grade                          466285 non-null  object \n",
            " 4   emp_length                     445277 non-null  float64\n",
            " 5   home_ownership                 466285 non-null  object \n",
            " 6   annual_inc                     466281 non-null  float64\n",
            " 7   verification_status            466285 non-null  object \n",
            " 8   purpose                        466285 non-null  object \n",
            " 9   addr_state                     466285 non-null  object \n",
            " 10  dti                            466285 non-null  float64\n",
            " 11  delinq_2yrs                    466256 non-null  float64\n",
            " 12  inq_last_6mths                 466256 non-null  float64\n",
            " 13  mths_since_last_delinq         215934 non-null  float64\n",
            " 14  mths_since_last_record         62638 non-null   float64\n",
            " 15  open_acc                       466256 non-null  float64\n",
            " 16  pub_rec                        466256 non-null  float64\n",
            " 17  revol_bal                      466285 non-null  int64  \n",
            " 18  revol_util                     465945 non-null  float64\n",
            " 19  total_acc                      466256 non-null  float64\n",
            " 20  initial_list_status            466285 non-null  object \n",
            " 21  out_prncp                      466285 non-null  float64\n",
            " 22  total_rec_late_fee             466285 non-null  float64\n",
            " 23  recoveries                     466285 non-null  float64\n",
            " 24  collections_12_mths_ex_med     466140 non-null  float64\n",
            " 25  acc_now_delinq                 466256 non-null  float64\n",
            " 26  tot_coll_amt                   396009 non-null  float64\n",
            " 27  tot_cur_bal                    396009 non-null  float64\n",
            " 28  loan_label                     466285 non-null  object \n",
            " 29  months_since_issue_d           466285 non-null  int64  \n",
            " 30  months_since_earliest_cr_line  466256 non-null  float64\n",
            "dtypes: float64(20), int64(4), object(7)\n",
            "memory usage: 113.8+ MB\n"
          ]
        }
      ]
    },
    {
      "cell_type": "markdown",
      "source": [
        "Jumlah kolom yang tersisa saat ini adalah 31 kolom"
      ],
      "metadata": {
        "id": "beu6RAj-laZU"
      }
    },
    {
      "cell_type": "markdown",
      "source": [
        "# **Missing Values**"
      ],
      "metadata": {
        "id": "gx6O4Z1aliJQ"
      }
    },
    {
      "cell_type": "code",
      "source": [
        "dataset.head()"
      ],
      "metadata": {
        "colab": {
          "base_uri": "https://localhost:8080/"
        },
        "id": "sqtq5DxYh8R5",
        "outputId": "179831f0-f328-4d1f-9ce7-9f45b1a60449"
      },
      "execution_count": null,
      "outputs": [
        {
          "output_type": "execute_result",
          "data": {
            "text/plain": [
              "   loan_amnt  term  int_rate grade  emp_length home_ownership  annual_inc  \\\n",
              "0       5000    36     10.65     B        10.0           RENT     24000.0   \n",
              "1       2500    60     15.27     C         0.0           RENT     30000.0   \n",
              "2       2400    36     15.96     C        10.0           RENT     12252.0   \n",
              "3      10000    36     13.49     C        10.0           RENT     49200.0   \n",
              "4       3000    60     12.69     B         1.0           RENT     80000.0   \n",
              "\n",
              "  verification_status         purpose addr_state  ...  out_prncp  \\\n",
              "0            Verified     credit_card         AZ  ...        0.0   \n",
              "1     Source Verified             car         GA  ...        0.0   \n",
              "2        Not Verified  small_business         IL  ...        0.0   \n",
              "3     Source Verified           other         CA  ...        0.0   \n",
              "4     Source Verified           other         OR  ...      766.9   \n",
              "\n",
              "   total_rec_late_fee  recoveries  collections_12_mths_ex_med  acc_now_delinq  \\\n",
              "0                0.00        0.00                         0.0             0.0   \n",
              "1                0.00      117.08                         0.0             0.0   \n",
              "2                0.00        0.00                         0.0             0.0   \n",
              "3               16.97        0.00                         0.0             0.0   \n",
              "4                0.00        0.00                         0.0             0.0   \n",
              "\n",
              "   tot_coll_amt  tot_cur_bal  loan_label  months_since_issue_d  \\\n",
              "0           NaN          NaN   good loan                    72   \n",
              "1           NaN          NaN    bad loan                    72   \n",
              "2           NaN          NaN   good loan                    72   \n",
              "3           NaN          NaN   good loan                    72   \n",
              "4           NaN          NaN   good loan                    72   \n",
              "\n",
              "   months_since_earliest_cr_line  \n",
              "0                          395.0  \n",
              "1                          224.0  \n",
              "2                          193.0  \n",
              "3                          262.0  \n",
              "4                          263.0  \n",
              "\n",
              "[5 rows x 31 columns]"
            ],
            "text/html": [
              "\n",
              "  <div id=\"df-74b98b16-4485-4ae2-be40-29b5e91cb1a7\" class=\"colab-df-container\">\n",
              "    <div>\n",
              "<style scoped>\n",
              "    .dataframe tbody tr th:only-of-type {\n",
              "        vertical-align: middle;\n",
              "    }\n",
              "\n",
              "    .dataframe tbody tr th {\n",
              "        vertical-align: top;\n",
              "    }\n",
              "\n",
              "    .dataframe thead th {\n",
              "        text-align: right;\n",
              "    }\n",
              "</style>\n",
              "<table border=\"1\" class=\"dataframe\">\n",
              "  <thead>\n",
              "    <tr style=\"text-align: right;\">\n",
              "      <th></th>\n",
              "      <th>loan_amnt</th>\n",
              "      <th>term</th>\n",
              "      <th>int_rate</th>\n",
              "      <th>grade</th>\n",
              "      <th>emp_length</th>\n",
              "      <th>home_ownership</th>\n",
              "      <th>annual_inc</th>\n",
              "      <th>verification_status</th>\n",
              "      <th>purpose</th>\n",
              "      <th>addr_state</th>\n",
              "      <th>...</th>\n",
              "      <th>out_prncp</th>\n",
              "      <th>total_rec_late_fee</th>\n",
              "      <th>recoveries</th>\n",
              "      <th>collections_12_mths_ex_med</th>\n",
              "      <th>acc_now_delinq</th>\n",
              "      <th>tot_coll_amt</th>\n",
              "      <th>tot_cur_bal</th>\n",
              "      <th>loan_label</th>\n",
              "      <th>months_since_issue_d</th>\n",
              "      <th>months_since_earliest_cr_line</th>\n",
              "    </tr>\n",
              "  </thead>\n",
              "  <tbody>\n",
              "    <tr>\n",
              "      <th>0</th>\n",
              "      <td>5000</td>\n",
              "      <td>36</td>\n",
              "      <td>10.65</td>\n",
              "      <td>B</td>\n",
              "      <td>10.0</td>\n",
              "      <td>RENT</td>\n",
              "      <td>24000.0</td>\n",
              "      <td>Verified</td>\n",
              "      <td>credit_card</td>\n",
              "      <td>AZ</td>\n",
              "      <td>...</td>\n",
              "      <td>0.0</td>\n",
              "      <td>0.00</td>\n",
              "      <td>0.00</td>\n",
              "      <td>0.0</td>\n",
              "      <td>0.0</td>\n",
              "      <td>NaN</td>\n",
              "      <td>NaN</td>\n",
              "      <td>good loan</td>\n",
              "      <td>72</td>\n",
              "      <td>395.0</td>\n",
              "    </tr>\n",
              "    <tr>\n",
              "      <th>1</th>\n",
              "      <td>2500</td>\n",
              "      <td>60</td>\n",
              "      <td>15.27</td>\n",
              "      <td>C</td>\n",
              "      <td>0.0</td>\n",
              "      <td>RENT</td>\n",
              "      <td>30000.0</td>\n",
              "      <td>Source Verified</td>\n",
              "      <td>car</td>\n",
              "      <td>GA</td>\n",
              "      <td>...</td>\n",
              "      <td>0.0</td>\n",
              "      <td>0.00</td>\n",
              "      <td>117.08</td>\n",
              "      <td>0.0</td>\n",
              "      <td>0.0</td>\n",
              "      <td>NaN</td>\n",
              "      <td>NaN</td>\n",
              "      <td>bad loan</td>\n",
              "      <td>72</td>\n",
              "      <td>224.0</td>\n",
              "    </tr>\n",
              "    <tr>\n",
              "      <th>2</th>\n",
              "      <td>2400</td>\n",
              "      <td>36</td>\n",
              "      <td>15.96</td>\n",
              "      <td>C</td>\n",
              "      <td>10.0</td>\n",
              "      <td>RENT</td>\n",
              "      <td>12252.0</td>\n",
              "      <td>Not Verified</td>\n",
              "      <td>small_business</td>\n",
              "      <td>IL</td>\n",
              "      <td>...</td>\n",
              "      <td>0.0</td>\n",
              "      <td>0.00</td>\n",
              "      <td>0.00</td>\n",
              "      <td>0.0</td>\n",
              "      <td>0.0</td>\n",
              "      <td>NaN</td>\n",
              "      <td>NaN</td>\n",
              "      <td>good loan</td>\n",
              "      <td>72</td>\n",
              "      <td>193.0</td>\n",
              "    </tr>\n",
              "    <tr>\n",
              "      <th>3</th>\n",
              "      <td>10000</td>\n",
              "      <td>36</td>\n",
              "      <td>13.49</td>\n",
              "      <td>C</td>\n",
              "      <td>10.0</td>\n",
              "      <td>RENT</td>\n",
              "      <td>49200.0</td>\n",
              "      <td>Source Verified</td>\n",
              "      <td>other</td>\n",
              "      <td>CA</td>\n",
              "      <td>...</td>\n",
              "      <td>0.0</td>\n",
              "      <td>16.97</td>\n",
              "      <td>0.00</td>\n",
              "      <td>0.0</td>\n",
              "      <td>0.0</td>\n",
              "      <td>NaN</td>\n",
              "      <td>NaN</td>\n",
              "      <td>good loan</td>\n",
              "      <td>72</td>\n",
              "      <td>262.0</td>\n",
              "    </tr>\n",
              "    <tr>\n",
              "      <th>4</th>\n",
              "      <td>3000</td>\n",
              "      <td>60</td>\n",
              "      <td>12.69</td>\n",
              "      <td>B</td>\n",
              "      <td>1.0</td>\n",
              "      <td>RENT</td>\n",
              "      <td>80000.0</td>\n",
              "      <td>Source Verified</td>\n",
              "      <td>other</td>\n",
              "      <td>OR</td>\n",
              "      <td>...</td>\n",
              "      <td>766.9</td>\n",
              "      <td>0.00</td>\n",
              "      <td>0.00</td>\n",
              "      <td>0.0</td>\n",
              "      <td>0.0</td>\n",
              "      <td>NaN</td>\n",
              "      <td>NaN</td>\n",
              "      <td>good loan</td>\n",
              "      <td>72</td>\n",
              "      <td>263.0</td>\n",
              "    </tr>\n",
              "  </tbody>\n",
              "</table>\n",
              "<p>5 rows × 31 columns</p>\n",
              "</div>\n",
              "    <div class=\"colab-df-buttons\">\n",
              "\n",
              "  <div class=\"colab-df-container\">\n",
              "    <button class=\"colab-df-convert\" onclick=\"convertToInteractive('df-74b98b16-4485-4ae2-be40-29b5e91cb1a7')\"\n",
              "            title=\"Convert this dataframe to an interactive table.\"\n",
              "            style=\"display:none;\">\n",
              "\n",
              "  <svg xmlns=\"http://www.w3.org/2000/svg\" height=\"24px\" viewBox=\"0 -960 960 960\">\n",
              "    <path d=\"M120-120v-720h720v720H120Zm60-500h600v-160H180v160Zm220 220h160v-160H400v160Zm0 220h160v-160H400v160ZM180-400h160v-160H180v160Zm440 0h160v-160H620v160ZM180-180h160v-160H180v160Zm440 0h160v-160H620v160Z\"/>\n",
              "  </svg>\n",
              "    </button>\n",
              "\n",
              "  <style>\n",
              "    .colab-df-container {\n",
              "      display:flex;\n",
              "      gap: 12px;\n",
              "    }\n",
              "\n",
              "    .colab-df-convert {\n",
              "      background-color: #E8F0FE;\n",
              "      border: none;\n",
              "      border-radius: 50%;\n",
              "      cursor: pointer;\n",
              "      display: none;\n",
              "      fill: #1967D2;\n",
              "      height: 32px;\n",
              "      padding: 0 0 0 0;\n",
              "      width: 32px;\n",
              "    }\n",
              "\n",
              "    .colab-df-convert:hover {\n",
              "      background-color: #E2EBFA;\n",
              "      box-shadow: 0px 1px 2px rgba(60, 64, 67, 0.3), 0px 1px 3px 1px rgba(60, 64, 67, 0.15);\n",
              "      fill: #174EA6;\n",
              "    }\n",
              "\n",
              "    .colab-df-buttons div {\n",
              "      margin-bottom: 4px;\n",
              "    }\n",
              "\n",
              "    [theme=dark] .colab-df-convert {\n",
              "      background-color: #3B4455;\n",
              "      fill: #D2E3FC;\n",
              "    }\n",
              "\n",
              "    [theme=dark] .colab-df-convert:hover {\n",
              "      background-color: #434B5C;\n",
              "      box-shadow: 0px 1px 3px 1px rgba(0, 0, 0, 0.15);\n",
              "      filter: drop-shadow(0px 1px 2px rgba(0, 0, 0, 0.3));\n",
              "      fill: #FFFFFF;\n",
              "    }\n",
              "  </style>\n",
              "\n",
              "    <script>\n",
              "      const buttonEl =\n",
              "        document.querySelector('#df-74b98b16-4485-4ae2-be40-29b5e91cb1a7 button.colab-df-convert');\n",
              "      buttonEl.style.display =\n",
              "        google.colab.kernel.accessAllowed ? 'block' : 'none';\n",
              "\n",
              "      async function convertToInteractive(key) {\n",
              "        const element = document.querySelector('#df-74b98b16-4485-4ae2-be40-29b5e91cb1a7');\n",
              "        const dataTable =\n",
              "          await google.colab.kernel.invokeFunction('convertToInteractive',\n",
              "                                                    [key], {});\n",
              "        if (!dataTable) return;\n",
              "\n",
              "        const docLinkHtml = 'Like what you see? Visit the ' +\n",
              "          '<a target=\"_blank\" href=https://colab.research.google.com/notebooks/data_table.ipynb>data table notebook</a>'\n",
              "          + ' to learn more about interactive tables.';\n",
              "        element.innerHTML = '';\n",
              "        dataTable['output_type'] = 'display_data';\n",
              "        await google.colab.output.renderOutput(dataTable, element);\n",
              "        const docLink = document.createElement('div');\n",
              "        docLink.innerHTML = docLinkHtml;\n",
              "        element.appendChild(docLink);\n",
              "      }\n",
              "    </script>\n",
              "  </div>\n",
              "\n",
              "\n",
              "<div id=\"df-45694ed9-8e8a-4c38-a902-20570eea87a8\">\n",
              "  <button class=\"colab-df-quickchart\" onclick=\"quickchart('df-45694ed9-8e8a-4c38-a902-20570eea87a8')\"\n",
              "            title=\"Suggest charts\"\n",
              "            style=\"display:none;\">\n",
              "\n",
              "<svg xmlns=\"http://www.w3.org/2000/svg\" height=\"24px\"viewBox=\"0 0 24 24\"\n",
              "     width=\"24px\">\n",
              "    <g>\n",
              "        <path d=\"M19 3H5c-1.1 0-2 .9-2 2v14c0 1.1.9 2 2 2h14c1.1 0 2-.9 2-2V5c0-1.1-.9-2-2-2zM9 17H7v-7h2v7zm4 0h-2V7h2v10zm4 0h-2v-4h2v4z\"/>\n",
              "    </g>\n",
              "</svg>\n",
              "  </button>\n",
              "\n",
              "<style>\n",
              "  .colab-df-quickchart {\n",
              "      --bg-color: #E8F0FE;\n",
              "      --fill-color: #1967D2;\n",
              "      --hover-bg-color: #E2EBFA;\n",
              "      --hover-fill-color: #174EA6;\n",
              "      --disabled-fill-color: #AAA;\n",
              "      --disabled-bg-color: #DDD;\n",
              "  }\n",
              "\n",
              "  [theme=dark] .colab-df-quickchart {\n",
              "      --bg-color: #3B4455;\n",
              "      --fill-color: #D2E3FC;\n",
              "      --hover-bg-color: #434B5C;\n",
              "      --hover-fill-color: #FFFFFF;\n",
              "      --disabled-bg-color: #3B4455;\n",
              "      --disabled-fill-color: #666;\n",
              "  }\n",
              "\n",
              "  .colab-df-quickchart {\n",
              "    background-color: var(--bg-color);\n",
              "    border: none;\n",
              "    border-radius: 50%;\n",
              "    cursor: pointer;\n",
              "    display: none;\n",
              "    fill: var(--fill-color);\n",
              "    height: 32px;\n",
              "    padding: 0;\n",
              "    width: 32px;\n",
              "  }\n",
              "\n",
              "  .colab-df-quickchart:hover {\n",
              "    background-color: var(--hover-bg-color);\n",
              "    box-shadow: 0 1px 2px rgba(60, 64, 67, 0.3), 0 1px 3px 1px rgba(60, 64, 67, 0.15);\n",
              "    fill: var(--button-hover-fill-color);\n",
              "  }\n",
              "\n",
              "  .colab-df-quickchart-complete:disabled,\n",
              "  .colab-df-quickchart-complete:disabled:hover {\n",
              "    background-color: var(--disabled-bg-color);\n",
              "    fill: var(--disabled-fill-color);\n",
              "    box-shadow: none;\n",
              "  }\n",
              "\n",
              "  .colab-df-spinner {\n",
              "    border: 2px solid var(--fill-color);\n",
              "    border-color: transparent;\n",
              "    border-bottom-color: var(--fill-color);\n",
              "    animation:\n",
              "      spin 1s steps(1) infinite;\n",
              "  }\n",
              "\n",
              "  @keyframes spin {\n",
              "    0% {\n",
              "      border-color: transparent;\n",
              "      border-bottom-color: var(--fill-color);\n",
              "      border-left-color: var(--fill-color);\n",
              "    }\n",
              "    20% {\n",
              "      border-color: transparent;\n",
              "      border-left-color: var(--fill-color);\n",
              "      border-top-color: var(--fill-color);\n",
              "    }\n",
              "    30% {\n",
              "      border-color: transparent;\n",
              "      border-left-color: var(--fill-color);\n",
              "      border-top-color: var(--fill-color);\n",
              "      border-right-color: var(--fill-color);\n",
              "    }\n",
              "    40% {\n",
              "      border-color: transparent;\n",
              "      border-right-color: var(--fill-color);\n",
              "      border-top-color: var(--fill-color);\n",
              "    }\n",
              "    60% {\n",
              "      border-color: transparent;\n",
              "      border-right-color: var(--fill-color);\n",
              "    }\n",
              "    80% {\n",
              "      border-color: transparent;\n",
              "      border-right-color: var(--fill-color);\n",
              "      border-bottom-color: var(--fill-color);\n",
              "    }\n",
              "    90% {\n",
              "      border-color: transparent;\n",
              "      border-bottom-color: var(--fill-color);\n",
              "    }\n",
              "  }\n",
              "</style>\n",
              "\n",
              "  <script>\n",
              "    async function quickchart(key) {\n",
              "      const quickchartButtonEl =\n",
              "        document.querySelector('#' + key + ' button');\n",
              "      quickchartButtonEl.disabled = true;  // To prevent multiple clicks.\n",
              "      quickchartButtonEl.classList.add('colab-df-spinner');\n",
              "      try {\n",
              "        const charts = await google.colab.kernel.invokeFunction(\n",
              "            'suggestCharts', [key], {});\n",
              "      } catch (error) {\n",
              "        console.error('Error during call to suggestCharts:', error);\n",
              "      }\n",
              "      quickchartButtonEl.classList.remove('colab-df-spinner');\n",
              "      quickchartButtonEl.classList.add('colab-df-quickchart-complete');\n",
              "    }\n",
              "    (() => {\n",
              "      let quickchartButtonEl =\n",
              "        document.querySelector('#df-45694ed9-8e8a-4c38-a902-20570eea87a8 button');\n",
              "      quickchartButtonEl.style.display =\n",
              "        google.colab.kernel.accessAllowed ? 'block' : 'none';\n",
              "    })();\n",
              "  </script>\n",
              "</div>\n",
              "    </div>\n",
              "  </div>\n"
            ]
          },
          "metadata": {},
          "execution_count": 60
        }
      ]
    },
    {
      "cell_type": "markdown",
      "source": [
        "Berdasarkan sampel dataset yang kita punya saat ini, terdapat beberapa kolom yang memiliki missing value. Oleh karena itu, kita akan membuang kolom dengan persentase missing value yang tinggi."
      ],
      "metadata": {
        "id": "RD1cENJkiOTY"
      }
    },
    {
      "cell_type": "code",
      "source": [
        "check_missing_value = dataset.isnull().mean() * 100\n",
        "check_missing_value.sort_values(ascending=False)"
      ],
      "metadata": {
        "colab": {
          "base_uri": "https://localhost:8080/"
        },
        "id": "nRTnl7NqmHd5",
        "outputId": "4717df7f-b3b6-4318-95bf-765d756213a7"
      },
      "execution_count": null,
      "outputs": [
        {
          "output_type": "execute_result",
          "data": {
            "text/plain": [
              "mths_since_last_record           86.566585\n",
              "mths_since_last_delinq           53.690554\n",
              "tot_cur_bal                      15.071469\n",
              "tot_coll_amt                     15.071469\n",
              "emp_length                        4.505399\n",
              "revol_util                        0.072917\n",
              "collections_12_mths_ex_med        0.031097\n",
              "open_acc                          0.006219\n",
              "inq_last_6mths                    0.006219\n",
              "acc_now_delinq                    0.006219\n",
              "total_acc                         0.006219\n",
              "pub_rec                           0.006219\n",
              "months_since_earliest_cr_line     0.006219\n",
              "delinq_2yrs                       0.006219\n",
              "annual_inc                        0.000858\n",
              "dti                               0.000000\n",
              "months_since_issue_d              0.000000\n",
              "loan_label                        0.000000\n",
              "int_rate                          0.000000\n",
              "grade                             0.000000\n",
              "home_ownership                    0.000000\n",
              "recoveries                        0.000000\n",
              "total_rec_late_fee                0.000000\n",
              "out_prncp                         0.000000\n",
              "initial_list_status               0.000000\n",
              "verification_status               0.000000\n",
              "purpose                           0.000000\n",
              "revol_bal                         0.000000\n",
              "addr_state                        0.000000\n",
              "term                              0.000000\n",
              "loan_amnt                         0.000000\n",
              "dtype: float64"
            ]
          },
          "metadata": {},
          "execution_count": 61
        }
      ]
    },
    {
      "cell_type": "markdown",
      "source": [
        "Pada proyek ini, kolom dengan persentase missing value diatas 80% akan dihapus. Kolom dengan persentase missing value diatas 80% adalah kolom `mths_since_last_record`"
      ],
      "metadata": {
        "id": "MEhJeZYfnoi4"
      }
    },
    {
      "cell_type": "code",
      "source": [
        "dataset.drop('mths_since_last_record', axis=1, inplace=True)"
      ],
      "metadata": {
        "id": "YW4XeynWn6Xa"
      },
      "execution_count": null,
      "outputs": []
    },
    {
      "cell_type": "markdown",
      "source": [
        "Terdapat beberapa kolom lain yang memiliki missing value antara lain `mths_since_last_delinq`, `tot_cur_bal`, `tot_coll_amt`, `emp_length`, `revol_util`, `collections_12_mths_ex_med`, `open_acc`, `inq_last_6mths`, `acc_now_delinq`, `total_acc`, `pub_rec`, `months_since_earliest_cr_line`, `delinq_2yrs`, dan `annual_inc`. Tiap nilai missing value akan diisi dengan nilai yang sesuai penjelasan dari kolom tersebut."
      ],
      "metadata": {
        "id": "Ac3R56ZxqzSz"
      }
    },
    {
      "cell_type": "markdown",
      "source": [
        "**`mths_since_last_delinq`**"
      ],
      "metadata": {
        "id": "ShCe-VX6sD8X"
      }
    },
    {
      "cell_type": "code",
      "source": [
        "dataset['mths_since_last_delinq'].unique()"
      ],
      "metadata": {
        "colab": {
          "base_uri": "https://localhost:8080/"
        },
        "id": "peogqq2ZsC2r",
        "outputId": "b773ace9-1190-4cb2-b0e6-2987a9945a78"
      },
      "execution_count": null,
      "outputs": [
        {
          "output_type": "execute_result",
          "data": {
            "text/plain": [
              "array([ nan,  35.,  38.,  61.,   8.,  20.,  18.,  68.,  45.,  48.,  41.,\n",
              "        40.,  74.,  25.,  53.,  39.,  10.,  26.,  56.,  77.,  28.,  52.,\n",
              "        24.,  16.,  60.,  54.,  23.,   9.,  11.,  13.,  65.,  19.,  80.,\n",
              "        22.,  59.,  79.,  44.,  64.,  57.,  14.,  63.,  49.,  15.,  73.,\n",
              "        70.,  29.,  51.,   5.,  75.,  55.,   2.,  30.,  47.,  33.,  69.,\n",
              "         4.,  43.,  21.,  27.,  46.,  81.,  78.,  82.,  31.,  76.,  62.,\n",
              "        72.,  42.,  50.,   3.,  12.,  67.,  36.,  34.,  58.,  17.,  71.,\n",
              "        66.,  32.,   6.,  37.,   7.,   1.,  83.,  86., 115.,  96., 103.,\n",
              "       120., 106.,  89., 107.,  85.,  97.,  95.,   0., 110.,  84., 135.,\n",
              "        88.,  87., 122.,  91., 146., 134., 114.,  99.,  93., 127., 101.,\n",
              "        94., 102., 129., 113., 139., 131., 156., 143., 109., 119., 149.,\n",
              "       118., 130., 148., 126.,  90., 141., 116., 100., 152.,  98.,  92.,\n",
              "       108., 133., 104., 111., 105., 170., 124., 136., 180., 188., 140.,\n",
              "       151., 159., 121.])"
            ]
          },
          "metadata": {},
          "execution_count": 63
        }
      ]
    },
    {
      "cell_type": "markdown",
      "source": [
        "`mths_since_last_delinq` merupakan kolom yang berisi nilai jumlah bulan sejak kenakalan terkahir peminjam. Terdapat dua nilai kosong pada kolom ini yaitu nilai '0' dan 'NaN'. Karena kolom ini merupakan jumlah bulan sejak kenakalan terakhir peminjam, maka kita asumsikan bahwa data dengan nilai 'NaN' memiliki arti tidak ada kenakalan yang terjadi sehingga kita isi dengan nilai '0'."
      ],
      "metadata": {
        "id": "eCCrtlU1tvOn"
      }
    },
    {
      "cell_type": "code",
      "source": [
        "dataset['mths_since_last_delinq'].fillna(0, inplace=True)"
      ],
      "metadata": {
        "id": "X6hMhF43uw6o"
      },
      "execution_count": null,
      "outputs": []
    },
    {
      "cell_type": "markdown",
      "source": [
        "**`tot_cur_bal`**"
      ],
      "metadata": {
        "id": "YZBAjODOvTD9"
      }
    },
    {
      "cell_type": "code",
      "source": [
        "dataset['tot_cur_bal'].unique()"
      ],
      "metadata": {
        "colab": {
          "base_uri": "https://localhost:8080/"
        },
        "id": "HKvnevVqvYEZ",
        "outputId": "651e28bf-1c68-4d51-b088-380113c46129"
      },
      "execution_count": null,
      "outputs": [
        {
          "output_type": "execute_result",
          "data": {
            "text/plain": [
              "array([    nan, 114834.,  14123., ..., 294998., 591610.,  57477.])"
            ]
          },
          "metadata": {},
          "execution_count": 65
        }
      ]
    },
    {
      "cell_type": "markdown",
      "source": [
        "`tot_cur_bal` merupakan kolom yang berisi nilai jumlah saldo saat ini dari semua akun. Hanya ada satu nilai kosong pada kolom ini yaitu nilai 'NaN'. Kita asumsikan bahwa data dengan nilai 'NaN' merupakan jumlah saldo saat ini dengan nilai '0'"
      ],
      "metadata": {
        "id": "GZuIvpIxvtBO"
      }
    },
    {
      "cell_type": "code",
      "source": [
        "dataset['tot_cur_bal'].fillna(0, inplace=True)"
      ],
      "metadata": {
        "id": "ykWtIb3wwWcs"
      },
      "execution_count": null,
      "outputs": []
    },
    {
      "cell_type": "markdown",
      "source": [
        "**`tot_coll_amt`**"
      ],
      "metadata": {
        "id": "3y1qudqlwgKl"
      }
    },
    {
      "cell_type": "code",
      "source": [
        "dataset['tot_coll_amt'].unique()"
      ],
      "metadata": {
        "colab": {
          "base_uri": "https://localhost:8080/"
        },
        "id": "5utVRl3Ewjqq",
        "outputId": "62a632a8-a2ca-45b9-ef84-9d49724d80ef"
      },
      "execution_count": null,
      "outputs": [
        {
          "output_type": "execute_result",
          "data": {
            "text/plain": [
              "array([   nan,     0., 15386., ..., 16125.,  9778.,  6532.])"
            ]
          },
          "metadata": {},
          "execution_count": 67
        }
      ]
    },
    {
      "cell_type": "markdown",
      "source": [
        "`tot_coll_amt` merupakan kolom yang berisi jumlah penagihan yang terutang. Terdapat dua nilai kosong pada kolom ini yaitu nilai '0' dan 'NaN'. Kita asumsikan data dengan nilai 'NaN' menyatakan tidak ada jumlah penagihan yang terutang sehingga dapat kita ganti dengan nilai '0'."
      ],
      "metadata": {
        "id": "n4PithaGwu73"
      }
    },
    {
      "cell_type": "code",
      "source": [
        "dataset['tot_coll_amt'].fillna(0, inplace=True)"
      ],
      "metadata": {
        "id": "dD5k8FjLxfw6"
      },
      "execution_count": null,
      "outputs": []
    },
    {
      "cell_type": "markdown",
      "source": [
        "**`emp_length`**"
      ],
      "metadata": {
        "id": "fglR5Ornxm8p"
      }
    },
    {
      "cell_type": "code",
      "source": [
        "dataset['emp_length'].unique()"
      ],
      "metadata": {
        "colab": {
          "base_uri": "https://localhost:8080/"
        },
        "id": "2VOcUb12xtHQ",
        "outputId": "8e84b2de-02e3-48a8-d7e7-fee81cbc487e"
      },
      "execution_count": null,
      "outputs": [
        {
          "output_type": "execute_result",
          "data": {
            "text/plain": [
              "array([10.,  0.,  1.,  3.,  8.,  9.,  4.,  5.,  6.,  2.,  7., nan])"
            ]
          },
          "metadata": {},
          "execution_count": 69
        }
      ]
    },
    {
      "cell_type": "markdown",
      "source": [
        "Kolom `emp_length` merupakan kolom yang berisi waktu masa kerja dalam tahun. Pada pengolahan sebelumnya, kita mengasumsikan nilai '< 1 year' dengan nilai 0 karena belum ada 1 tahun bekerja. Sedangkan ada nilai kosong lain yaitu 'NaN'. Kita asumsikan data dengan nilai 'NaN' menyatakan seseorang belum pernah bekerja di bawah 1 tahun sehingga dapat kita ganti dengan nilai 0."
      ],
      "metadata": {
        "id": "nE61E-_fx36_"
      }
    },
    {
      "cell_type": "code",
      "source": [
        "dataset['emp_length'].fillna(0, inplace=True)"
      ],
      "metadata": {
        "id": "JzpDHfB3zAFj"
      },
      "execution_count": null,
      "outputs": []
    },
    {
      "cell_type": "markdown",
      "source": [
        "**`revol_util`**"
      ],
      "metadata": {
        "id": "8pJslKL9zYnY"
      }
    },
    {
      "cell_type": "code",
      "source": [
        "dataset['revol_util'].unique()"
      ],
      "metadata": {
        "colab": {
          "base_uri": "https://localhost:8080/"
        },
        "id": "xKedS-v5zbC-",
        "outputId": "571d68a4-6cd6-4e8c-e4ec-91f0901614e6"
      },
      "execution_count": null,
      "outputs": [
        {
          "output_type": "execute_result",
          "data": {
            "text/plain": [
              "array([ 83.7,   9.4,  98.5, ..., 111.3, 113. , 141.8])"
            ]
          },
          "metadata": {},
          "execution_count": 71
        }
      ]
    },
    {
      "cell_type": "markdown",
      "source": [
        "Kolom `revol_util` merupakan kolom tingkat pemanfaatan jalur bergulir, atau jumlah kredit yang digunakan peminjam relatif terhadap seluruh kredit bergulir yang tersedia. Kita ganti nilai 'NaN' dengan 0."
      ],
      "metadata": {
        "id": "Mj9y0tQmz9X4"
      }
    },
    {
      "cell_type": "code",
      "source": [
        "dataset['revol_util'].fillna(0, inplace=True)"
      ],
      "metadata": {
        "id": "-oZOGOLbz88w"
      },
      "execution_count": null,
      "outputs": []
    },
    {
      "cell_type": "markdown",
      "source": [
        "**`collections_12_mths_ex_med`**"
      ],
      "metadata": {
        "id": "hukBcI8H0lSq"
      }
    },
    {
      "cell_type": "code",
      "source": [
        "dataset['collections_12_mths_ex_med'].unique()"
      ],
      "metadata": {
        "colab": {
          "base_uri": "https://localhost:8080/"
        },
        "id": "UTTNlCZo0nv-",
        "outputId": "3264120b-71e0-4278-97ef-7d8b9719107c"
      },
      "execution_count": null,
      "outputs": [
        {
          "output_type": "execute_result",
          "data": {
            "text/plain": [
              "array([ 0., nan,  1.,  2.,  4.,  3.,  6., 16., 20.,  5.])"
            ]
          },
          "metadata": {},
          "execution_count": 73
        }
      ]
    },
    {
      "cell_type": "markdown",
      "source": [
        "Kolom `collections_12_mths_ex_med` merupakan jumlah penagihan dalam 12 bulan tidak termasuk penagihan medis. Kita asumsikan nilai 'NaN' menyatakan tidak ada penagihan yang terjadi sehingga kita ganti dengan nilai 0."
      ],
      "metadata": {
        "id": "l4r30mGa093N"
      }
    },
    {
      "cell_type": "code",
      "source": [
        "dataset['collections_12_mths_ex_med'].fillna(0, inplace=True)"
      ],
      "metadata": {
        "id": "26sa12Hu1apx"
      },
      "execution_count": null,
      "outputs": []
    },
    {
      "cell_type": "markdown",
      "source": [
        "**`open_acc`**"
      ],
      "metadata": {
        "id": "oBf8itut1hgt"
      }
    },
    {
      "cell_type": "code",
      "source": [
        "dataset['open_acc'].unique()"
      ],
      "metadata": {
        "colab": {
          "base_uri": "https://localhost:8080/"
        },
        "id": "zsmL5_u51jj3",
        "outputId": "56d7fefd-9b02-4f5a-d8c5-72b237addd3d"
      },
      "execution_count": null,
      "outputs": [
        {
          "output_type": "execute_result",
          "data": {
            "text/plain": [
              "array([ 3.,  2., 10., 15.,  9.,  7.,  4., 11., 14., 12., 20.,  8.,  6.,\n",
              "       17.,  5., 13., 16., 30., 21., 18., 19., 27., 23., 34., 25., 22.,\n",
              "       24., 26., 32., 28., 29., 33., 31., 39., 35., 36., 38., 44., 41.,\n",
              "       42.,  1., 46., 37., 47., nan, 40., 45., 49., 53., 51., 43.,  0.,\n",
              "       62., 48., 50., 52., 54., 76., 58., 55., 84., 75., 61.])"
            ]
          },
          "metadata": {},
          "execution_count": 75
        }
      ]
    },
    {
      "cell_type": "markdown",
      "source": [
        "Kolom `open_acc` merupakan jumlah jalur kredit yang dibuka pada file kredit peminjam. Terdapat dua nilai kosong yaitu '0' dan 'NaN'. Data dengan nilai 'NaN' kita asumsikan tidak ada jalur kredit yang dibuka sehingga dapat diganti dengan nilai 0."
      ],
      "metadata": {
        "id": "GXWHP1lF15es"
      }
    },
    {
      "cell_type": "code",
      "source": [
        "dataset['open_acc'].fillna(0, inplace=True)"
      ],
      "metadata": {
        "id": "3iEug9EL2TX_"
      },
      "execution_count": null,
      "outputs": []
    },
    {
      "cell_type": "markdown",
      "source": [
        "**`inq_last_6mths`**"
      ],
      "metadata": {
        "id": "cBILRrf34ZUH"
      }
    },
    {
      "cell_type": "code",
      "source": [
        "dataset['inq_last_6mths'].unique()"
      ],
      "metadata": {
        "colab": {
          "base_uri": "https://localhost:8080/"
        },
        "id": "9cAyEUcw4diq",
        "outputId": "822a3e0d-fc95-4f53-acc2-f31e9031e4a8"
      },
      "execution_count": null,
      "outputs": [
        {
          "output_type": "execute_result",
          "data": {
            "text/plain": [
              "array([ 1.,  5.,  2.,  0.,  3.,  4.,  6.,  7.,  8.,  9., 10., 11., 12.,\n",
              "       15., 14., 33., 17., 32., 24., 13., 18., 16., 31., 28., 25., 27.,\n",
              "       20., 19., nan])"
            ]
          },
          "metadata": {},
          "execution_count": 77
        }
      ]
    },
    {
      "cell_type": "markdown",
      "source": [
        "Kolom `inq_last_6mths` merupakan jumlah pengambilan data peminjam dalam 6 bulan terakhir diluar kendaraan dan hipotek. Data bernilai 'NaN' dapat kita asumsikan tidak ada pengambilan data peminjam dalam 6 bulan terakhir sehingga dapat kita ganti dengan nilai 0."
      ],
      "metadata": {
        "id": "QajOQHDd469y"
      }
    },
    {
      "cell_type": "code",
      "source": [
        "dataset['inq_last_6mths'].fillna(0, inplace=True)"
      ],
      "metadata": {
        "id": "b73fbI535en2"
      },
      "execution_count": null,
      "outputs": []
    },
    {
      "cell_type": "markdown",
      "source": [
        "**`acc_now_delinq`**"
      ],
      "metadata": {
        "id": "Y9OLu3gF5hwd"
      }
    },
    {
      "cell_type": "code",
      "source": [
        "dataset['acc_now_delinq'].unique()"
      ],
      "metadata": {
        "colab": {
          "base_uri": "https://localhost:8080/"
        },
        "id": "gWhVJURv5mrq",
        "outputId": "f874fe80-1eb9-49a1-97a1-c813b38a3262"
      },
      "execution_count": null,
      "outputs": [
        {
          "output_type": "execute_result",
          "data": {
            "text/plain": [
              "array([ 0.,  1., nan,  2.,  3.,  5.,  4.])"
            ]
          },
          "metadata": {},
          "execution_count": 79
        }
      ]
    },
    {
      "cell_type": "markdown",
      "source": [
        "Kolom `acc_now_delinq` merupakan jumlah akun peminjam sekarang yang nakal. Data dengan nilai 'NaN' dapat kita asumsikan tidak ada jumlah akun yang terindikasi nakal sehingga dapat diganti dengan nilai 0."
      ],
      "metadata": {
        "id": "PLhZ1uEZ5wq6"
      }
    },
    {
      "cell_type": "code",
      "source": [
        "dataset['acc_now_delinq'].fillna(0, inplace=True)"
      ],
      "metadata": {
        "id": "S5G0NvS_6O2V"
      },
      "execution_count": null,
      "outputs": []
    },
    {
      "cell_type": "markdown",
      "source": [
        "**`total_acc`**"
      ],
      "metadata": {
        "id": "6_Wn9lS-6cIv"
      }
    },
    {
      "cell_type": "code",
      "source": [
        "dataset['total_acc'].unique()"
      ],
      "metadata": {
        "colab": {
          "base_uri": "https://localhost:8080/"
        },
        "id": "lYsoaJmJ6eZO",
        "outputId": "2cdfddf3-4d55-4ce1-e9cb-8cb0c1cfd48e"
      },
      "execution_count": null,
      "outputs": [
        {
          "output_type": "execute_result",
          "data": {
            "text/plain": [
              "array([  9.,   4.,  10.,  37.,  38.,  12.,  11.,  13.,   3.,  23.,  34.,\n",
              "        29.,  28.,  42.,  14.,  22.,  21.,  17.,   7.,  31.,  44.,  26.,\n",
              "        16.,   6.,  18.,  27.,  24.,  25.,  40.,  35.,   8.,  20.,  15.,\n",
              "        19.,  36.,  51.,  32.,  30.,  33.,  46.,   5.,  61.,  56.,  50.,\n",
              "        41.,  39.,  79.,  62.,  43.,  47.,  53.,  45.,  60.,  55.,  52.,\n",
              "        58.,  54.,  57.,  49.,  63.,  48.,  59.,  77.,  87.,  75.,  72.,\n",
              "        64.,  67.,  78.,  76.,  74.,  66.,  81.,  90.,  80.,  71.,  69.,\n",
              "        73.,  70.,  68.,  65.,   2.,   1.,  nan, 105.,  83.,  84.,  98.,\n",
              "        88.,  82.,  91.,  99.,  86.,  93.,  92.,  96., 101., 150.,  95.,\n",
              "        85., 156.,  89., 106.,  97., 119., 124., 100.,  94., 121., 102.,\n",
              "       117., 116., 118.])"
            ]
          },
          "metadata": {},
          "execution_count": 81
        }
      ]
    },
    {
      "cell_type": "markdown",
      "source": [
        "Kolom `total_acc` merupakan jumlah total jalur kredit yang saat ini ada dalam file kredit peminjam. Kita asumsikan data dengan nilai 'NaN' menyatakan tidak ada jumlah jalur kredit dalam file kredit peminjam sehingga dapat diganti dengan nilai 0."
      ],
      "metadata": {
        "id": "Ef__0zVs6yao"
      }
    },
    {
      "cell_type": "code",
      "source": [
        "dataset['total_acc'].fillna(0, inplace=True)"
      ],
      "metadata": {
        "id": "rqjUDsbz7Vuo"
      },
      "execution_count": null,
      "outputs": []
    },
    {
      "cell_type": "markdown",
      "source": [
        "**`pub_rec`**"
      ],
      "metadata": {
        "id": "wN_gJS7C7n7j"
      }
    },
    {
      "cell_type": "code",
      "source": [
        "dataset['pub_rec'].unique()"
      ],
      "metadata": {
        "colab": {
          "base_uri": "https://localhost:8080/"
        },
        "id": "1gHJXyny7pro",
        "outputId": "ecab5376-794e-4210-9401-746cb7791c4c"
      },
      "execution_count": null,
      "outputs": [
        {
          "output_type": "execute_result",
          "data": {
            "text/plain": [
              "array([ 0.,  1.,  2.,  3.,  4.,  5., nan,  6.,  9.,  8.,  7., 11., 49.,\n",
              "       10., 54., 12., 18., 19., 16., 15., 14., 40., 63., 13., 21., 34.,\n",
              "       17.])"
            ]
          },
          "metadata": {},
          "execution_count": 83
        }
      ]
    },
    {
      "cell_type": "markdown",
      "source": [
        "Kolom `pub_rec` merupakan jumlah catatan publik yang merugikan. Kita dapat asumsikan data nilai 'NaN' menyatakan tidak ada jumlah catatan publik yang merugikan sehingga dapat kita ganti dengan nilai 0."
      ],
      "metadata": {
        "id": "5_Ik15za79Lw"
      }
    },
    {
      "cell_type": "code",
      "source": [
        "dataset['pub_rec'].fillna(0, inplace=True)"
      ],
      "metadata": {
        "id": "mvQGbHxL8s_Q"
      },
      "execution_count": null,
      "outputs": []
    },
    {
      "cell_type": "markdown",
      "source": [
        "**`months_since_earliest_cr_line`**"
      ],
      "metadata": {
        "id": "XcBmIzQB9AvK"
      }
    },
    {
      "cell_type": "code",
      "source": [
        "dataset['months_since_earliest_cr_line'].unique()"
      ],
      "metadata": {
        "colab": {
          "base_uri": "https://localhost:8080/"
        },
        "id": "8ONKamwv9D6L",
        "outputId": "6a4d68a7-96ca-456d-b049-1cce3d997252"
      },
      "execution_count": null,
      "outputs": [
        {
          "output_type": "execute_result",
          "data": {
            "text/plain": [
              "array([395., 224., 193., 262., 263., 157., 149., 131., 164., 159., 239.,\n",
              "       338., 173., 319., 123., 230., 292., 170., 203., 241., 418., 389.,\n",
              "       176., 198., 190., 400., 133., 360., 433., 250., 152., 122., 204.,\n",
              "       128., 192., 179., 285., 231., 162., 265., 221., 270., 303., 191.,\n",
              "       308., 134., 211., 228., 156., 206., 187., 139., 185., 137., 247.,\n",
              "       146., 272., 182., 215., 212., 276., 147., 396., 216., 169., 342.,\n",
              "       174., 254., 175., 186., 126., 252., 406., 183., 383., 235., 251.,\n",
              "       150., 334., 165., 269., 280., 306., 249., 140., 332., 220., 207.,\n",
              "       202., 348., 226., 312., 208., 158., 160., 154., 145., 205., 127.,\n",
              "       323., 210., 136., 180., 294., 138., 166., 324., 213., 274., 197.,\n",
              "       188., 135., 223., 232., 144., 163., 194., 414., 381., 452., 161.,\n",
              "       113., 259., 167., 181., 184., 196., 321., 339., 279., 171., 219.,\n",
              "       148., 372., 229., 142., 283., 121., 298., 313., 151., 528., 199.,\n",
              "       333., 261., 458., 438., 201., 200., 222., 289., 143., 240., 277.,\n",
              "       245., 314., 282., 141., 255., 320., 293., 275., 363., 177., 218.,\n",
              "       257., 168., 352., 311., 237., 130., 424., 273., 300., 233., 341.,\n",
              "       331., 281., 195., 405., 172., 217., 129., 117., 284., 155., 377.,\n",
              "       328., 307., 209., 357., 415., 296., 473., 214., 432., 309., 443.,\n",
              "       327., 234., 295., 253., 189., 359., 244., 364., 112., 278., 374.,\n",
              "       286., 258., 238., 109., 236., 461., 299., 367., 557., 124., 246.,\n",
              "       453., 132., 125., 266., 317., 305., 540., 288., 227., 178., 248.,\n",
              "       264., 260., 329., 573., 397., 404., 401., 268., 225., 351., 345.,\n",
              "       369., 242., 444., 287., 267., 153., 347., 310., 335., 325., 585.,\n",
              "       510., 393., 120., 290., 336., 447., 354., 475., 536., 340., 326.,\n",
              "       315., 430., 370., 385., 407., 353., 115., 386., 417., 316., 375.,\n",
              "       330., 382., 243., 402., 435., 380., 460., 448., 301., 291., 366.,\n",
              "       423., 304., 388., 413., 318., 408., 371., 469., 398., 256., 337.,\n",
              "       495., 373., 362., 111., 487., 379., 441., 419., 493., 459., 410.,\n",
              "       587., 390., 427., 358., 302., 412., 534., 392., 350., 434., 521.,\n",
              "       361., 271., 322., 349., 297., 114., 449., 420., 513., 454., 356.,\n",
              "       456., 387., 555., 477., 118., 472., 565., 462., 450., 344., 411.,\n",
              "       346., 409., 378., 422., 376., 446., 355., 384., 431., 483., 492.,\n",
              "       428., 403., 116., 466., 119., 365., 479., 343., 482., 504., 394.,\n",
              "       110., 421., 511., 391., 562., 486., 440., 463., 551., 476., 416.,\n",
              "       505., 525., 545., 560., 399., 439., 564., 530., 563., 524., 455.,\n",
              "       580., 512., 485., 489., 577., 503., 429., 368., 576., 523., 520.,\n",
              "       546., 457., 508., 519., 436., 535., 531., 537., 480., 494., 527.,\n",
              "       575., 502., 515., 542., 516., 538., 549., 426., 522., 558., 566.,\n",
              "       500., 554., 488., 471., 470., 442., 491., 484., 468., 496., 474.,\n",
              "       582., 451., 467., 517., 498., 550., 499., 501., 569., 465., 497.,\n",
              "       425., 574., 533., 478., 553., 544., 509., 567., 437., 543., 571.,\n",
              "       586., 445., 572., 481., 559., 464., 547., 514., 581., 529., 570.,\n",
              "       490., 526., 539., 532., 568., 579., 507., 578., 548., 541., 584.,\n",
              "       506., 561., 556., 518., 583.,  nan,  86.,  96.,  85.,  95., 108.,\n",
              "        99.,  89., 107., 103.,  91.,  87., 104.,  97.,  92., 105., 106.,\n",
              "       100.,  98., 102.,  90., 101.,  94.,  93.,  88., 552.,  81.,  78.,\n",
              "        84.,  74.,  75.,  77.,  80.,  79.,  83.,  82.,  76.,  73.])"
            ]
          },
          "metadata": {},
          "execution_count": 85
        }
      ]
    },
    {
      "cell_type": "markdown",
      "source": [
        "Kolom `months_since_earliest_cr_line` merupakan waktu yang berlalu sejak jalur kredit pertama dibuka dalam satuan bulan. Kita asumsikan data dengan nilai 'NaN' merupakan data dengan jalur kredit yang belum dibuka sehingga dapat diganti dengan nilai 0."
      ],
      "metadata": {
        "id": "xQzppO-G9N0a"
      }
    },
    {
      "cell_type": "code",
      "source": [
        "dataset['months_since_earliest_cr_line'].fillna(0, inplace=True)"
      ],
      "metadata": {
        "id": "XBW4y70w9vgy"
      },
      "execution_count": null,
      "outputs": []
    },
    {
      "cell_type": "markdown",
      "source": [
        "**`delinq_2yrs`**"
      ],
      "metadata": {
        "id": "dwd4P8Mv-Git"
      }
    },
    {
      "cell_type": "code",
      "source": [
        "dataset['delinq_2yrs'].unique()"
      ],
      "metadata": {
        "colab": {
          "base_uri": "https://localhost:8080/"
        },
        "id": "eJT-BlR_-KR1",
        "outputId": "9074e9ba-1f09-4511-ac65-e04ac0a52a83"
      },
      "execution_count": null,
      "outputs": [
        {
          "output_type": "execute_result",
          "data": {
            "text/plain": [
              "array([ 0.,  2.,  3.,  1.,  4.,  6.,  5.,  8.,  7.,  9., 11., nan, 13.,\n",
              "       15., 10., 12., 17., 18., 29., 24., 14., 21., 22., 19., 16.])"
            ]
          },
          "metadata": {},
          "execution_count": 87
        }
      ]
    },
    {
      "cell_type": "markdown",
      "source": [
        "Kolom `delinq_2yrs` merupakan jumlah tunggakan lebih dari 30 hari yang ada pada file peminjam selama dua tahun terakhir. Asumsikan data dengan nilai 'NaN' menyatakan tidak ada tunggakan lebih dari 30 hari sehingga dapat diganti dengan nilai 0"
      ],
      "metadata": {
        "id": "Lj7JLrs6-RSH"
      }
    },
    {
      "cell_type": "code",
      "source": [
        "dataset['delinq_2yrs'].fillna(0, inplace=True)"
      ],
      "metadata": {
        "id": "nXIF8jUV-rOy"
      },
      "execution_count": null,
      "outputs": []
    },
    {
      "cell_type": "markdown",
      "source": [
        "**`annual_inc`**"
      ],
      "metadata": {
        "id": "tmWXcgI--7T9"
      }
    },
    {
      "cell_type": "code",
      "source": [
        "dataset['annual_inc'].unique()"
      ],
      "metadata": {
        "colab": {
          "base_uri": "https://localhost:8080/"
        },
        "id": "PBemh71T-9Gi",
        "outputId": "899fcf2a-7257-48fb-d612-14215772e7e2"
      },
      "execution_count": null,
      "outputs": [
        {
          "output_type": "execute_result",
          "data": {
            "text/plain": [
              "array([ 24000.,  30000.,  12252., ..., 284481., 113926.,  72787.])"
            ]
          },
          "metadata": {},
          "execution_count": 89
        }
      ]
    },
    {
      "cell_type": "markdown",
      "source": [
        "Kolom `annual_inc` merupakan nilai pendapatan tahunan yang diisikan oleh peminjam saat pendaftaran. Sebuah perusahaan jasa pinjaman tentunya tidak akan memberikan seseorang pinjaman uang jika debitur tersebut belum memiliki pendapatan untuk mengembalikan uang yang dipinjamkan. Oleh karena itu, data dengan nilai 'NaN' kita ganti dengan rata-rata pendapatan tahunan yang ada pada dataset."
      ],
      "metadata": {
        "id": "ncqmWe-4_DXF"
      }
    },
    {
      "cell_type": "code",
      "source": [
        "dataset['annual_inc'].fillna(dataset['annual_inc'].mean(), inplace=True)"
      ],
      "metadata": {
        "id": "hpPp2u0iBt9J"
      },
      "execution_count": null,
      "outputs": []
    },
    {
      "cell_type": "markdown",
      "source": [
        "Kita cek kembali apakah sekarang masih ada kolom-kolom yang memiliki missing value diatas 0%."
      ],
      "metadata": {
        "id": "6BxBJJu_B-b7"
      }
    },
    {
      "cell_type": "code",
      "source": [
        "check_current_missing_value = dataset.isnull().mean() * 100\n",
        "check_current_missing_value[check_current_missing_value > 0].sort_values(ascending=False)"
      ],
      "metadata": {
        "colab": {
          "base_uri": "https://localhost:8080/"
        },
        "id": "dmmEk6BbCT0E",
        "outputId": "9ea1c8c9-aef2-4c32-e2df-4b50e023416f"
      },
      "execution_count": null,
      "outputs": [
        {
          "output_type": "execute_result",
          "data": {
            "text/plain": [
              "Series([], dtype: float64)"
            ]
          },
          "metadata": {},
          "execution_count": 91
        }
      ]
    },
    {
      "cell_type": "markdown",
      "source": [
        "Karena sudah tidak ada, maka dataset dapat dilakukan proses scaling dan encoding."
      ],
      "metadata": {
        "id": "7A8NIZGLCuz-"
      }
    },
    {
      "cell_type": "markdown",
      "source": [
        "# **Feature Scaling & Encoding**"
      ],
      "metadata": {
        "id": "4oRUrDVwC2jq"
      }
    },
    {
      "cell_type": "markdown",
      "source": [
        "Pada tahap ini, kita akan melakukan scaling terhadap data numerikal dan encoding terhadap data kategorikal untuk memaksimalkan nilai akurasi yang didapat."
      ],
      "metadata": {
        "id": "H0vNwvg1VhjG"
      }
    },
    {
      "cell_type": "markdown",
      "source": [
        "**Scaling**"
      ],
      "metadata": {
        "id": "_uvsR5JgVaw-"
      }
    },
    {
      "cell_type": "code",
      "source": [
        "numerical_columns = dataset.select_dtypes(exclude=['object'])"
      ],
      "metadata": {
        "id": "gebtwfJ4V5Db"
      },
      "execution_count": null,
      "outputs": []
    },
    {
      "cell_type": "code",
      "source": [
        "# Lakukan scaling dengan StandardScaler\n",
        "scaler = StandardScaler()\n",
        "scaled = pd.DataFrame(scaler.fit_transform(numerical_columns), columns=numerical_columns.columns)"
      ],
      "metadata": {
        "id": "Lkuhy-AVZnwy"
      },
      "execution_count": null,
      "outputs": []
    },
    {
      "cell_type": "code",
      "source": [
        "scaled.head()"
      ],
      "metadata": {
        "colab": {
          "base_uri": "https://localhost:8080/"
        },
        "id": "S8yzQHTDaf0N",
        "outputId": "c554172e-f2f5-45a5-dfe6-f878eef37c32"
      },
      "execution_count": null,
      "outputs": [
        {
          "output_type": "execute_result",
          "data": {
            "text/plain": [
              "   loan_amnt      term  int_rate  emp_length  annual_inc       dti  \\\n",
              "0  -1.124392 -0.616225 -0.729587    1.138605   -0.896551  1.328632   \n",
              "1  -1.426088  1.622784  0.330634   -1.523744   -0.787387 -2.065791   \n",
              "2  -1.438156 -0.616225  0.488979    1.138605   -1.110294 -1.082491   \n",
              "3  -0.521001 -0.616225 -0.077850    1.138605   -0.438063  0.354248   \n",
              "4  -1.365749  1.622784 -0.261438   -1.257509    0.122311  0.091865   \n",
              "\n",
              "   delinq_2yrs  inq_last_6mths  mths_since_last_delinq  open_acc  ...  \\\n",
              "0    -0.357012        0.178920               -0.700148 -1.641166  ...   \n",
              "1    -0.357012        3.843328               -0.700148 -1.641166  ...   \n",
              "2    -0.357012        1.095022               -0.700148 -1.841641  ...   \n",
              "3    -0.357012        0.178920                0.851444 -0.237839  ...   \n",
              "4    -0.357012       -0.737182                0.984438  0.764538  ...   \n",
              "\n",
              "   total_acc  out_prncp  total_rec_late_fee  recoveries  \\\n",
              "0  -1.384557  -0.693944           -0.123464   -0.154549   \n",
              "1  -1.815538  -0.693944           -0.123464    0.057470   \n",
              "2  -1.298361  -0.693944           -0.123464   -0.154549   \n",
              "3   1.028934  -0.693944            3.099264   -0.154549   \n",
              "4   1.115130  -0.573268           -0.123464   -0.154549   \n",
              "\n",
              "   collections_12_mths_ex_med  acc_now_delinq  tot_coll_amt  tot_cur_bal  \\\n",
              "0                   -0.083608       -0.058307     -0.012089    -0.792648   \n",
              "1                   -0.083608       -0.058307     -0.012089    -0.792648   \n",
              "2                   -0.083608       -0.058307     -0.012089    -0.792648   \n",
              "3                   -0.083608       -0.058307     -0.012089    -0.792648   \n",
              "4                   -0.083608       -0.058307     -0.012089    -0.792648   \n",
              "\n",
              "   months_since_issue_d  months_since_earliest_cr_line  \n",
              "0              1.446626                       1.764941  \n",
              "1              1.446626                      -0.212426  \n",
              "2              1.446626                      -0.570896  \n",
              "3              1.446626                       0.226989  \n",
              "4              1.446626                       0.238553  \n",
              "\n",
              "[5 rows x 23 columns]"
            ],
            "text/html": [
              "\n",
              "  <div id=\"df-df8b9b7c-0988-439a-8d06-81b7ed161c4a\" class=\"colab-df-container\">\n",
              "    <div>\n",
              "<style scoped>\n",
              "    .dataframe tbody tr th:only-of-type {\n",
              "        vertical-align: middle;\n",
              "    }\n",
              "\n",
              "    .dataframe tbody tr th {\n",
              "        vertical-align: top;\n",
              "    }\n",
              "\n",
              "    .dataframe thead th {\n",
              "        text-align: right;\n",
              "    }\n",
              "</style>\n",
              "<table border=\"1\" class=\"dataframe\">\n",
              "  <thead>\n",
              "    <tr style=\"text-align: right;\">\n",
              "      <th></th>\n",
              "      <th>loan_amnt</th>\n",
              "      <th>term</th>\n",
              "      <th>int_rate</th>\n",
              "      <th>emp_length</th>\n",
              "      <th>annual_inc</th>\n",
              "      <th>dti</th>\n",
              "      <th>delinq_2yrs</th>\n",
              "      <th>inq_last_6mths</th>\n",
              "      <th>mths_since_last_delinq</th>\n",
              "      <th>open_acc</th>\n",
              "      <th>...</th>\n",
              "      <th>total_acc</th>\n",
              "      <th>out_prncp</th>\n",
              "      <th>total_rec_late_fee</th>\n",
              "      <th>recoveries</th>\n",
              "      <th>collections_12_mths_ex_med</th>\n",
              "      <th>acc_now_delinq</th>\n",
              "      <th>tot_coll_amt</th>\n",
              "      <th>tot_cur_bal</th>\n",
              "      <th>months_since_issue_d</th>\n",
              "      <th>months_since_earliest_cr_line</th>\n",
              "    </tr>\n",
              "  </thead>\n",
              "  <tbody>\n",
              "    <tr>\n",
              "      <th>0</th>\n",
              "      <td>-1.124392</td>\n",
              "      <td>-0.616225</td>\n",
              "      <td>-0.729587</td>\n",
              "      <td>1.138605</td>\n",
              "      <td>-0.896551</td>\n",
              "      <td>1.328632</td>\n",
              "      <td>-0.357012</td>\n",
              "      <td>0.178920</td>\n",
              "      <td>-0.700148</td>\n",
              "      <td>-1.641166</td>\n",
              "      <td>...</td>\n",
              "      <td>-1.384557</td>\n",
              "      <td>-0.693944</td>\n",
              "      <td>-0.123464</td>\n",
              "      <td>-0.154549</td>\n",
              "      <td>-0.083608</td>\n",
              "      <td>-0.058307</td>\n",
              "      <td>-0.012089</td>\n",
              "      <td>-0.792648</td>\n",
              "      <td>1.446626</td>\n",
              "      <td>1.764941</td>\n",
              "    </tr>\n",
              "    <tr>\n",
              "      <th>1</th>\n",
              "      <td>-1.426088</td>\n",
              "      <td>1.622784</td>\n",
              "      <td>0.330634</td>\n",
              "      <td>-1.523744</td>\n",
              "      <td>-0.787387</td>\n",
              "      <td>-2.065791</td>\n",
              "      <td>-0.357012</td>\n",
              "      <td>3.843328</td>\n",
              "      <td>-0.700148</td>\n",
              "      <td>-1.641166</td>\n",
              "      <td>...</td>\n",
              "      <td>-1.815538</td>\n",
              "      <td>-0.693944</td>\n",
              "      <td>-0.123464</td>\n",
              "      <td>0.057470</td>\n",
              "      <td>-0.083608</td>\n",
              "      <td>-0.058307</td>\n",
              "      <td>-0.012089</td>\n",
              "      <td>-0.792648</td>\n",
              "      <td>1.446626</td>\n",
              "      <td>-0.212426</td>\n",
              "    </tr>\n",
              "    <tr>\n",
              "      <th>2</th>\n",
              "      <td>-1.438156</td>\n",
              "      <td>-0.616225</td>\n",
              "      <td>0.488979</td>\n",
              "      <td>1.138605</td>\n",
              "      <td>-1.110294</td>\n",
              "      <td>-1.082491</td>\n",
              "      <td>-0.357012</td>\n",
              "      <td>1.095022</td>\n",
              "      <td>-0.700148</td>\n",
              "      <td>-1.841641</td>\n",
              "      <td>...</td>\n",
              "      <td>-1.298361</td>\n",
              "      <td>-0.693944</td>\n",
              "      <td>-0.123464</td>\n",
              "      <td>-0.154549</td>\n",
              "      <td>-0.083608</td>\n",
              "      <td>-0.058307</td>\n",
              "      <td>-0.012089</td>\n",
              "      <td>-0.792648</td>\n",
              "      <td>1.446626</td>\n",
              "      <td>-0.570896</td>\n",
              "    </tr>\n",
              "    <tr>\n",
              "      <th>3</th>\n",
              "      <td>-0.521001</td>\n",
              "      <td>-0.616225</td>\n",
              "      <td>-0.077850</td>\n",
              "      <td>1.138605</td>\n",
              "      <td>-0.438063</td>\n",
              "      <td>0.354248</td>\n",
              "      <td>-0.357012</td>\n",
              "      <td>0.178920</td>\n",
              "      <td>0.851444</td>\n",
              "      <td>-0.237839</td>\n",
              "      <td>...</td>\n",
              "      <td>1.028934</td>\n",
              "      <td>-0.693944</td>\n",
              "      <td>3.099264</td>\n",
              "      <td>-0.154549</td>\n",
              "      <td>-0.083608</td>\n",
              "      <td>-0.058307</td>\n",
              "      <td>-0.012089</td>\n",
              "      <td>-0.792648</td>\n",
              "      <td>1.446626</td>\n",
              "      <td>0.226989</td>\n",
              "    </tr>\n",
              "    <tr>\n",
              "      <th>4</th>\n",
              "      <td>-1.365749</td>\n",
              "      <td>1.622784</td>\n",
              "      <td>-0.261438</td>\n",
              "      <td>-1.257509</td>\n",
              "      <td>0.122311</td>\n",
              "      <td>0.091865</td>\n",
              "      <td>-0.357012</td>\n",
              "      <td>-0.737182</td>\n",
              "      <td>0.984438</td>\n",
              "      <td>0.764538</td>\n",
              "      <td>...</td>\n",
              "      <td>1.115130</td>\n",
              "      <td>-0.573268</td>\n",
              "      <td>-0.123464</td>\n",
              "      <td>-0.154549</td>\n",
              "      <td>-0.083608</td>\n",
              "      <td>-0.058307</td>\n",
              "      <td>-0.012089</td>\n",
              "      <td>-0.792648</td>\n",
              "      <td>1.446626</td>\n",
              "      <td>0.238553</td>\n",
              "    </tr>\n",
              "  </tbody>\n",
              "</table>\n",
              "<p>5 rows × 23 columns</p>\n",
              "</div>\n",
              "    <div class=\"colab-df-buttons\">\n",
              "\n",
              "  <div class=\"colab-df-container\">\n",
              "    <button class=\"colab-df-convert\" onclick=\"convertToInteractive('df-df8b9b7c-0988-439a-8d06-81b7ed161c4a')\"\n",
              "            title=\"Convert this dataframe to an interactive table.\"\n",
              "            style=\"display:none;\">\n",
              "\n",
              "  <svg xmlns=\"http://www.w3.org/2000/svg\" height=\"24px\" viewBox=\"0 -960 960 960\">\n",
              "    <path d=\"M120-120v-720h720v720H120Zm60-500h600v-160H180v160Zm220 220h160v-160H400v160Zm0 220h160v-160H400v160ZM180-400h160v-160H180v160Zm440 0h160v-160H620v160ZM180-180h160v-160H180v160Zm440 0h160v-160H620v160Z\"/>\n",
              "  </svg>\n",
              "    </button>\n",
              "\n",
              "  <style>\n",
              "    .colab-df-container {\n",
              "      display:flex;\n",
              "      gap: 12px;\n",
              "    }\n",
              "\n",
              "    .colab-df-convert {\n",
              "      background-color: #E8F0FE;\n",
              "      border: none;\n",
              "      border-radius: 50%;\n",
              "      cursor: pointer;\n",
              "      display: none;\n",
              "      fill: #1967D2;\n",
              "      height: 32px;\n",
              "      padding: 0 0 0 0;\n",
              "      width: 32px;\n",
              "    }\n",
              "\n",
              "    .colab-df-convert:hover {\n",
              "      background-color: #E2EBFA;\n",
              "      box-shadow: 0px 1px 2px rgba(60, 64, 67, 0.3), 0px 1px 3px 1px rgba(60, 64, 67, 0.15);\n",
              "      fill: #174EA6;\n",
              "    }\n",
              "\n",
              "    .colab-df-buttons div {\n",
              "      margin-bottom: 4px;\n",
              "    }\n",
              "\n",
              "    [theme=dark] .colab-df-convert {\n",
              "      background-color: #3B4455;\n",
              "      fill: #D2E3FC;\n",
              "    }\n",
              "\n",
              "    [theme=dark] .colab-df-convert:hover {\n",
              "      background-color: #434B5C;\n",
              "      box-shadow: 0px 1px 3px 1px rgba(0, 0, 0, 0.15);\n",
              "      filter: drop-shadow(0px 1px 2px rgba(0, 0, 0, 0.3));\n",
              "      fill: #FFFFFF;\n",
              "    }\n",
              "  </style>\n",
              "\n",
              "    <script>\n",
              "      const buttonEl =\n",
              "        document.querySelector('#df-df8b9b7c-0988-439a-8d06-81b7ed161c4a button.colab-df-convert');\n",
              "      buttonEl.style.display =\n",
              "        google.colab.kernel.accessAllowed ? 'block' : 'none';\n",
              "\n",
              "      async function convertToInteractive(key) {\n",
              "        const element = document.querySelector('#df-df8b9b7c-0988-439a-8d06-81b7ed161c4a');\n",
              "        const dataTable =\n",
              "          await google.colab.kernel.invokeFunction('convertToInteractive',\n",
              "                                                    [key], {});\n",
              "        if (!dataTable) return;\n",
              "\n",
              "        const docLinkHtml = 'Like what you see? Visit the ' +\n",
              "          '<a target=\"_blank\" href=https://colab.research.google.com/notebooks/data_table.ipynb>data table notebook</a>'\n",
              "          + ' to learn more about interactive tables.';\n",
              "        element.innerHTML = '';\n",
              "        dataTable['output_type'] = 'display_data';\n",
              "        await google.colab.output.renderOutput(dataTable, element);\n",
              "        const docLink = document.createElement('div');\n",
              "        docLink.innerHTML = docLinkHtml;\n",
              "        element.appendChild(docLink);\n",
              "      }\n",
              "    </script>\n",
              "  </div>\n",
              "\n",
              "\n",
              "<div id=\"df-5cbbfef8-9f3a-4c58-be97-93c7dc6cccb0\">\n",
              "  <button class=\"colab-df-quickchart\" onclick=\"quickchart('df-5cbbfef8-9f3a-4c58-be97-93c7dc6cccb0')\"\n",
              "            title=\"Suggest charts\"\n",
              "            style=\"display:none;\">\n",
              "\n",
              "<svg xmlns=\"http://www.w3.org/2000/svg\" height=\"24px\"viewBox=\"0 0 24 24\"\n",
              "     width=\"24px\">\n",
              "    <g>\n",
              "        <path d=\"M19 3H5c-1.1 0-2 .9-2 2v14c0 1.1.9 2 2 2h14c1.1 0 2-.9 2-2V5c0-1.1-.9-2-2-2zM9 17H7v-7h2v7zm4 0h-2V7h2v10zm4 0h-2v-4h2v4z\"/>\n",
              "    </g>\n",
              "</svg>\n",
              "  </button>\n",
              "\n",
              "<style>\n",
              "  .colab-df-quickchart {\n",
              "      --bg-color: #E8F0FE;\n",
              "      --fill-color: #1967D2;\n",
              "      --hover-bg-color: #E2EBFA;\n",
              "      --hover-fill-color: #174EA6;\n",
              "      --disabled-fill-color: #AAA;\n",
              "      --disabled-bg-color: #DDD;\n",
              "  }\n",
              "\n",
              "  [theme=dark] .colab-df-quickchart {\n",
              "      --bg-color: #3B4455;\n",
              "      --fill-color: #D2E3FC;\n",
              "      --hover-bg-color: #434B5C;\n",
              "      --hover-fill-color: #FFFFFF;\n",
              "      --disabled-bg-color: #3B4455;\n",
              "      --disabled-fill-color: #666;\n",
              "  }\n",
              "\n",
              "  .colab-df-quickchart {\n",
              "    background-color: var(--bg-color);\n",
              "    border: none;\n",
              "    border-radius: 50%;\n",
              "    cursor: pointer;\n",
              "    display: none;\n",
              "    fill: var(--fill-color);\n",
              "    height: 32px;\n",
              "    padding: 0;\n",
              "    width: 32px;\n",
              "  }\n",
              "\n",
              "  .colab-df-quickchart:hover {\n",
              "    background-color: var(--hover-bg-color);\n",
              "    box-shadow: 0 1px 2px rgba(60, 64, 67, 0.3), 0 1px 3px 1px rgba(60, 64, 67, 0.15);\n",
              "    fill: var(--button-hover-fill-color);\n",
              "  }\n",
              "\n",
              "  .colab-df-quickchart-complete:disabled,\n",
              "  .colab-df-quickchart-complete:disabled:hover {\n",
              "    background-color: var(--disabled-bg-color);\n",
              "    fill: var(--disabled-fill-color);\n",
              "    box-shadow: none;\n",
              "  }\n",
              "\n",
              "  .colab-df-spinner {\n",
              "    border: 2px solid var(--fill-color);\n",
              "    border-color: transparent;\n",
              "    border-bottom-color: var(--fill-color);\n",
              "    animation:\n",
              "      spin 1s steps(1) infinite;\n",
              "  }\n",
              "\n",
              "  @keyframes spin {\n",
              "    0% {\n",
              "      border-color: transparent;\n",
              "      border-bottom-color: var(--fill-color);\n",
              "      border-left-color: var(--fill-color);\n",
              "    }\n",
              "    20% {\n",
              "      border-color: transparent;\n",
              "      border-left-color: var(--fill-color);\n",
              "      border-top-color: var(--fill-color);\n",
              "    }\n",
              "    30% {\n",
              "      border-color: transparent;\n",
              "      border-left-color: var(--fill-color);\n",
              "      border-top-color: var(--fill-color);\n",
              "      border-right-color: var(--fill-color);\n",
              "    }\n",
              "    40% {\n",
              "      border-color: transparent;\n",
              "      border-right-color: var(--fill-color);\n",
              "      border-top-color: var(--fill-color);\n",
              "    }\n",
              "    60% {\n",
              "      border-color: transparent;\n",
              "      border-right-color: var(--fill-color);\n",
              "    }\n",
              "    80% {\n",
              "      border-color: transparent;\n",
              "      border-right-color: var(--fill-color);\n",
              "      border-bottom-color: var(--fill-color);\n",
              "    }\n",
              "    90% {\n",
              "      border-color: transparent;\n",
              "      border-bottom-color: var(--fill-color);\n",
              "    }\n",
              "  }\n",
              "</style>\n",
              "\n",
              "  <script>\n",
              "    async function quickchart(key) {\n",
              "      const quickchartButtonEl =\n",
              "        document.querySelector('#' + key + ' button');\n",
              "      quickchartButtonEl.disabled = true;  // To prevent multiple clicks.\n",
              "      quickchartButtonEl.classList.add('colab-df-spinner');\n",
              "      try {\n",
              "        const charts = await google.colab.kernel.invokeFunction(\n",
              "            'suggestCharts', [key], {});\n",
              "      } catch (error) {\n",
              "        console.error('Error during call to suggestCharts:', error);\n",
              "      }\n",
              "      quickchartButtonEl.classList.remove('colab-df-spinner');\n",
              "      quickchartButtonEl.classList.add('colab-df-quickchart-complete');\n",
              "    }\n",
              "    (() => {\n",
              "      let quickchartButtonEl =\n",
              "        document.querySelector('#df-5cbbfef8-9f3a-4c58-be97-93c7dc6cccb0 button');\n",
              "      quickchartButtonEl.style.display =\n",
              "        google.colab.kernel.accessAllowed ? 'block' : 'none';\n",
              "    })();\n",
              "  </script>\n",
              "</div>\n",
              "    </div>\n",
              "  </div>\n"
            ]
          },
          "metadata": {},
          "execution_count": 94
        }
      ]
    },
    {
      "cell_type": "markdown",
      "source": [
        "**Encoding**"
      ],
      "metadata": {
        "id": "ETXWRVnrVdw2"
      }
    },
    {
      "cell_type": "code",
      "source": [
        "categorical_columns = dataset.select_dtypes(include=['object'])\n",
        "\n",
        "# Hilangkan label pada categorical_columns\n",
        "categorical_columns.drop('loan_label', axis=1, inplace=True)"
      ],
      "metadata": {
        "id": "aIRmqDNLamth"
      },
      "execution_count": null,
      "outputs": []
    },
    {
      "cell_type": "code",
      "source": [
        "# Lakukan encoding dengan One Hot Encoding\n",
        "encoded = pd.get_dummies(categorical_columns, drop_first=True)"
      ],
      "metadata": {
        "id": "lVsrB73UeP7E"
      },
      "execution_count": null,
      "outputs": []
    },
    {
      "cell_type": "code",
      "source": [
        "encoded.head()"
      ],
      "metadata": {
        "colab": {
          "base_uri": "https://localhost:8080/"
        },
        "id": "N3NonlFPfikK",
        "outputId": "1360fb7d-b982-4554-b4d1-2056268af491"
      },
      "execution_count": null,
      "outputs": [
        {
          "output_type": "execute_result",
          "data": {
            "text/plain": [
              "   grade_B  grade_C  grade_D  grade_E  grade_F  grade_G  \\\n",
              "0        1        0        0        0        0        0   \n",
              "1        0        1        0        0        0        0   \n",
              "2        0        1        0        0        0        0   \n",
              "3        0        1        0        0        0        0   \n",
              "4        1        0        0        0        0        0   \n",
              "\n",
              "   home_ownership_MORTGAGE  home_ownership_NONE  home_ownership_OTHER  \\\n",
              "0                        0                    0                     0   \n",
              "1                        0                    0                     0   \n",
              "2                        0                    0                     0   \n",
              "3                        0                    0                     0   \n",
              "4                        0                    0                     0   \n",
              "\n",
              "   home_ownership_OWN  ...  addr_state_TN  addr_state_TX  addr_state_UT  \\\n",
              "0                   0  ...              0              0              0   \n",
              "1                   0  ...              0              0              0   \n",
              "2                   0  ...              0              0              0   \n",
              "3                   0  ...              0              0              0   \n",
              "4                   0  ...              0              0              0   \n",
              "\n",
              "   addr_state_VA  addr_state_VT  addr_state_WA  addr_state_WI  addr_state_WV  \\\n",
              "0              0              0              0              0              0   \n",
              "1              0              0              0              0              0   \n",
              "2              0              0              0              0              0   \n",
              "3              0              0              0              0              0   \n",
              "4              0              0              0              0              0   \n",
              "\n",
              "   addr_state_WY  initial_list_status_w  \n",
              "0              0                      0  \n",
              "1              0                      0  \n",
              "2              0                      0  \n",
              "3              0                      0  \n",
              "4              0                      0  \n",
              "\n",
              "[5 rows x 76 columns]"
            ],
            "text/html": [
              "\n",
              "  <div id=\"df-8e1f78f0-627a-475b-9529-281b493c2707\" class=\"colab-df-container\">\n",
              "    <div>\n",
              "<style scoped>\n",
              "    .dataframe tbody tr th:only-of-type {\n",
              "        vertical-align: middle;\n",
              "    }\n",
              "\n",
              "    .dataframe tbody tr th {\n",
              "        vertical-align: top;\n",
              "    }\n",
              "\n",
              "    .dataframe thead th {\n",
              "        text-align: right;\n",
              "    }\n",
              "</style>\n",
              "<table border=\"1\" class=\"dataframe\">\n",
              "  <thead>\n",
              "    <tr style=\"text-align: right;\">\n",
              "      <th></th>\n",
              "      <th>grade_B</th>\n",
              "      <th>grade_C</th>\n",
              "      <th>grade_D</th>\n",
              "      <th>grade_E</th>\n",
              "      <th>grade_F</th>\n",
              "      <th>grade_G</th>\n",
              "      <th>home_ownership_MORTGAGE</th>\n",
              "      <th>home_ownership_NONE</th>\n",
              "      <th>home_ownership_OTHER</th>\n",
              "      <th>home_ownership_OWN</th>\n",
              "      <th>...</th>\n",
              "      <th>addr_state_TN</th>\n",
              "      <th>addr_state_TX</th>\n",
              "      <th>addr_state_UT</th>\n",
              "      <th>addr_state_VA</th>\n",
              "      <th>addr_state_VT</th>\n",
              "      <th>addr_state_WA</th>\n",
              "      <th>addr_state_WI</th>\n",
              "      <th>addr_state_WV</th>\n",
              "      <th>addr_state_WY</th>\n",
              "      <th>initial_list_status_w</th>\n",
              "    </tr>\n",
              "  </thead>\n",
              "  <tbody>\n",
              "    <tr>\n",
              "      <th>0</th>\n",
              "      <td>1</td>\n",
              "      <td>0</td>\n",
              "      <td>0</td>\n",
              "      <td>0</td>\n",
              "      <td>0</td>\n",
              "      <td>0</td>\n",
              "      <td>0</td>\n",
              "      <td>0</td>\n",
              "      <td>0</td>\n",
              "      <td>0</td>\n",
              "      <td>...</td>\n",
              "      <td>0</td>\n",
              "      <td>0</td>\n",
              "      <td>0</td>\n",
              "      <td>0</td>\n",
              "      <td>0</td>\n",
              "      <td>0</td>\n",
              "      <td>0</td>\n",
              "      <td>0</td>\n",
              "      <td>0</td>\n",
              "      <td>0</td>\n",
              "    </tr>\n",
              "    <tr>\n",
              "      <th>1</th>\n",
              "      <td>0</td>\n",
              "      <td>1</td>\n",
              "      <td>0</td>\n",
              "      <td>0</td>\n",
              "      <td>0</td>\n",
              "      <td>0</td>\n",
              "      <td>0</td>\n",
              "      <td>0</td>\n",
              "      <td>0</td>\n",
              "      <td>0</td>\n",
              "      <td>...</td>\n",
              "      <td>0</td>\n",
              "      <td>0</td>\n",
              "      <td>0</td>\n",
              "      <td>0</td>\n",
              "      <td>0</td>\n",
              "      <td>0</td>\n",
              "      <td>0</td>\n",
              "      <td>0</td>\n",
              "      <td>0</td>\n",
              "      <td>0</td>\n",
              "    </tr>\n",
              "    <tr>\n",
              "      <th>2</th>\n",
              "      <td>0</td>\n",
              "      <td>1</td>\n",
              "      <td>0</td>\n",
              "      <td>0</td>\n",
              "      <td>0</td>\n",
              "      <td>0</td>\n",
              "      <td>0</td>\n",
              "      <td>0</td>\n",
              "      <td>0</td>\n",
              "      <td>0</td>\n",
              "      <td>...</td>\n",
              "      <td>0</td>\n",
              "      <td>0</td>\n",
              "      <td>0</td>\n",
              "      <td>0</td>\n",
              "      <td>0</td>\n",
              "      <td>0</td>\n",
              "      <td>0</td>\n",
              "      <td>0</td>\n",
              "      <td>0</td>\n",
              "      <td>0</td>\n",
              "    </tr>\n",
              "    <tr>\n",
              "      <th>3</th>\n",
              "      <td>0</td>\n",
              "      <td>1</td>\n",
              "      <td>0</td>\n",
              "      <td>0</td>\n",
              "      <td>0</td>\n",
              "      <td>0</td>\n",
              "      <td>0</td>\n",
              "      <td>0</td>\n",
              "      <td>0</td>\n",
              "      <td>0</td>\n",
              "      <td>...</td>\n",
              "      <td>0</td>\n",
              "      <td>0</td>\n",
              "      <td>0</td>\n",
              "      <td>0</td>\n",
              "      <td>0</td>\n",
              "      <td>0</td>\n",
              "      <td>0</td>\n",
              "      <td>0</td>\n",
              "      <td>0</td>\n",
              "      <td>0</td>\n",
              "    </tr>\n",
              "    <tr>\n",
              "      <th>4</th>\n",
              "      <td>1</td>\n",
              "      <td>0</td>\n",
              "      <td>0</td>\n",
              "      <td>0</td>\n",
              "      <td>0</td>\n",
              "      <td>0</td>\n",
              "      <td>0</td>\n",
              "      <td>0</td>\n",
              "      <td>0</td>\n",
              "      <td>0</td>\n",
              "      <td>...</td>\n",
              "      <td>0</td>\n",
              "      <td>0</td>\n",
              "      <td>0</td>\n",
              "      <td>0</td>\n",
              "      <td>0</td>\n",
              "      <td>0</td>\n",
              "      <td>0</td>\n",
              "      <td>0</td>\n",
              "      <td>0</td>\n",
              "      <td>0</td>\n",
              "    </tr>\n",
              "  </tbody>\n",
              "</table>\n",
              "<p>5 rows × 76 columns</p>\n",
              "</div>\n",
              "    <div class=\"colab-df-buttons\">\n",
              "\n",
              "  <div class=\"colab-df-container\">\n",
              "    <button class=\"colab-df-convert\" onclick=\"convertToInteractive('df-8e1f78f0-627a-475b-9529-281b493c2707')\"\n",
              "            title=\"Convert this dataframe to an interactive table.\"\n",
              "            style=\"display:none;\">\n",
              "\n",
              "  <svg xmlns=\"http://www.w3.org/2000/svg\" height=\"24px\" viewBox=\"0 -960 960 960\">\n",
              "    <path d=\"M120-120v-720h720v720H120Zm60-500h600v-160H180v160Zm220 220h160v-160H400v160Zm0 220h160v-160H400v160ZM180-400h160v-160H180v160Zm440 0h160v-160H620v160ZM180-180h160v-160H180v160Zm440 0h160v-160H620v160Z\"/>\n",
              "  </svg>\n",
              "    </button>\n",
              "\n",
              "  <style>\n",
              "    .colab-df-container {\n",
              "      display:flex;\n",
              "      gap: 12px;\n",
              "    }\n",
              "\n",
              "    .colab-df-convert {\n",
              "      background-color: #E8F0FE;\n",
              "      border: none;\n",
              "      border-radius: 50%;\n",
              "      cursor: pointer;\n",
              "      display: none;\n",
              "      fill: #1967D2;\n",
              "      height: 32px;\n",
              "      padding: 0 0 0 0;\n",
              "      width: 32px;\n",
              "    }\n",
              "\n",
              "    .colab-df-convert:hover {\n",
              "      background-color: #E2EBFA;\n",
              "      box-shadow: 0px 1px 2px rgba(60, 64, 67, 0.3), 0px 1px 3px 1px rgba(60, 64, 67, 0.15);\n",
              "      fill: #174EA6;\n",
              "    }\n",
              "\n",
              "    .colab-df-buttons div {\n",
              "      margin-bottom: 4px;\n",
              "    }\n",
              "\n",
              "    [theme=dark] .colab-df-convert {\n",
              "      background-color: #3B4455;\n",
              "      fill: #D2E3FC;\n",
              "    }\n",
              "\n",
              "    [theme=dark] .colab-df-convert:hover {\n",
              "      background-color: #434B5C;\n",
              "      box-shadow: 0px 1px 3px 1px rgba(0, 0, 0, 0.15);\n",
              "      filter: drop-shadow(0px 1px 2px rgba(0, 0, 0, 0.3));\n",
              "      fill: #FFFFFF;\n",
              "    }\n",
              "  </style>\n",
              "\n",
              "    <script>\n",
              "      const buttonEl =\n",
              "        document.querySelector('#df-8e1f78f0-627a-475b-9529-281b493c2707 button.colab-df-convert');\n",
              "      buttonEl.style.display =\n",
              "        google.colab.kernel.accessAllowed ? 'block' : 'none';\n",
              "\n",
              "      async function convertToInteractive(key) {\n",
              "        const element = document.querySelector('#df-8e1f78f0-627a-475b-9529-281b493c2707');\n",
              "        const dataTable =\n",
              "          await google.colab.kernel.invokeFunction('convertToInteractive',\n",
              "                                                    [key], {});\n",
              "        if (!dataTable) return;\n",
              "\n",
              "        const docLinkHtml = 'Like what you see? Visit the ' +\n",
              "          '<a target=\"_blank\" href=https://colab.research.google.com/notebooks/data_table.ipynb>data table notebook</a>'\n",
              "          + ' to learn more about interactive tables.';\n",
              "        element.innerHTML = '';\n",
              "        dataTable['output_type'] = 'display_data';\n",
              "        await google.colab.output.renderOutput(dataTable, element);\n",
              "        const docLink = document.createElement('div');\n",
              "        docLink.innerHTML = docLinkHtml;\n",
              "        element.appendChild(docLink);\n",
              "      }\n",
              "    </script>\n",
              "  </div>\n",
              "\n",
              "\n",
              "<div id=\"df-8056da57-4a5c-44c0-9459-fcf106e76170\">\n",
              "  <button class=\"colab-df-quickchart\" onclick=\"quickchart('df-8056da57-4a5c-44c0-9459-fcf106e76170')\"\n",
              "            title=\"Suggest charts\"\n",
              "            style=\"display:none;\">\n",
              "\n",
              "<svg xmlns=\"http://www.w3.org/2000/svg\" height=\"24px\"viewBox=\"0 0 24 24\"\n",
              "     width=\"24px\">\n",
              "    <g>\n",
              "        <path d=\"M19 3H5c-1.1 0-2 .9-2 2v14c0 1.1.9 2 2 2h14c1.1 0 2-.9 2-2V5c0-1.1-.9-2-2-2zM9 17H7v-7h2v7zm4 0h-2V7h2v10zm4 0h-2v-4h2v4z\"/>\n",
              "    </g>\n",
              "</svg>\n",
              "  </button>\n",
              "\n",
              "<style>\n",
              "  .colab-df-quickchart {\n",
              "      --bg-color: #E8F0FE;\n",
              "      --fill-color: #1967D2;\n",
              "      --hover-bg-color: #E2EBFA;\n",
              "      --hover-fill-color: #174EA6;\n",
              "      --disabled-fill-color: #AAA;\n",
              "      --disabled-bg-color: #DDD;\n",
              "  }\n",
              "\n",
              "  [theme=dark] .colab-df-quickchart {\n",
              "      --bg-color: #3B4455;\n",
              "      --fill-color: #D2E3FC;\n",
              "      --hover-bg-color: #434B5C;\n",
              "      --hover-fill-color: #FFFFFF;\n",
              "      --disabled-bg-color: #3B4455;\n",
              "      --disabled-fill-color: #666;\n",
              "  }\n",
              "\n",
              "  .colab-df-quickchart {\n",
              "    background-color: var(--bg-color);\n",
              "    border: none;\n",
              "    border-radius: 50%;\n",
              "    cursor: pointer;\n",
              "    display: none;\n",
              "    fill: var(--fill-color);\n",
              "    height: 32px;\n",
              "    padding: 0;\n",
              "    width: 32px;\n",
              "  }\n",
              "\n",
              "  .colab-df-quickchart:hover {\n",
              "    background-color: var(--hover-bg-color);\n",
              "    box-shadow: 0 1px 2px rgba(60, 64, 67, 0.3), 0 1px 3px 1px rgba(60, 64, 67, 0.15);\n",
              "    fill: var(--button-hover-fill-color);\n",
              "  }\n",
              "\n",
              "  .colab-df-quickchart-complete:disabled,\n",
              "  .colab-df-quickchart-complete:disabled:hover {\n",
              "    background-color: var(--disabled-bg-color);\n",
              "    fill: var(--disabled-fill-color);\n",
              "    box-shadow: none;\n",
              "  }\n",
              "\n",
              "  .colab-df-spinner {\n",
              "    border: 2px solid var(--fill-color);\n",
              "    border-color: transparent;\n",
              "    border-bottom-color: var(--fill-color);\n",
              "    animation:\n",
              "      spin 1s steps(1) infinite;\n",
              "  }\n",
              "\n",
              "  @keyframes spin {\n",
              "    0% {\n",
              "      border-color: transparent;\n",
              "      border-bottom-color: var(--fill-color);\n",
              "      border-left-color: var(--fill-color);\n",
              "    }\n",
              "    20% {\n",
              "      border-color: transparent;\n",
              "      border-left-color: var(--fill-color);\n",
              "      border-top-color: var(--fill-color);\n",
              "    }\n",
              "    30% {\n",
              "      border-color: transparent;\n",
              "      border-left-color: var(--fill-color);\n",
              "      border-top-color: var(--fill-color);\n",
              "      border-right-color: var(--fill-color);\n",
              "    }\n",
              "    40% {\n",
              "      border-color: transparent;\n",
              "      border-right-color: var(--fill-color);\n",
              "      border-top-color: var(--fill-color);\n",
              "    }\n",
              "    60% {\n",
              "      border-color: transparent;\n",
              "      border-right-color: var(--fill-color);\n",
              "    }\n",
              "    80% {\n",
              "      border-color: transparent;\n",
              "      border-right-color: var(--fill-color);\n",
              "      border-bottom-color: var(--fill-color);\n",
              "    }\n",
              "    90% {\n",
              "      border-color: transparent;\n",
              "      border-bottom-color: var(--fill-color);\n",
              "    }\n",
              "  }\n",
              "</style>\n",
              "\n",
              "  <script>\n",
              "    async function quickchart(key) {\n",
              "      const quickchartButtonEl =\n",
              "        document.querySelector('#' + key + ' button');\n",
              "      quickchartButtonEl.disabled = true;  // To prevent multiple clicks.\n",
              "      quickchartButtonEl.classList.add('colab-df-spinner');\n",
              "      try {\n",
              "        const charts = await google.colab.kernel.invokeFunction(\n",
              "            'suggestCharts', [key], {});\n",
              "      } catch (error) {\n",
              "        console.error('Error during call to suggestCharts:', error);\n",
              "      }\n",
              "      quickchartButtonEl.classList.remove('colab-df-spinner');\n",
              "      quickchartButtonEl.classList.add('colab-df-quickchart-complete');\n",
              "    }\n",
              "    (() => {\n",
              "      let quickchartButtonEl =\n",
              "        document.querySelector('#df-8056da57-4a5c-44c0-9459-fcf106e76170 button');\n",
              "      quickchartButtonEl.style.display =\n",
              "        google.colab.kernel.accessAllowed ? 'block' : 'none';\n",
              "    })();\n",
              "  </script>\n",
              "</div>\n",
              "    </div>\n",
              "  </div>\n"
            ]
          },
          "metadata": {},
          "execution_count": 97
        }
      ]
    },
    {
      "cell_type": "markdown",
      "source": [
        "Kita satukan kembali kolom yang telah di scale dan encoding dengan kolom label"
      ],
      "metadata": {
        "id": "QltvHZOZga-C"
      }
    },
    {
      "cell_type": "code",
      "source": [
        "label = dataset['loan_label']\n",
        "clean_dataset = pd.concat([scaled, encoded, label], axis=1)"
      ],
      "metadata": {
        "id": "ndW4TzUmg8t-"
      },
      "execution_count": null,
      "outputs": []
    },
    {
      "cell_type": "code",
      "source": [
        "clean_dataset.shape"
      ],
      "metadata": {
        "colab": {
          "base_uri": "https://localhost:8080/"
        },
        "id": "mtIYEYGSssOL",
        "outputId": "f2c84c66-be08-412f-e2bc-81510424b052"
      },
      "execution_count": null,
      "outputs": [
        {
          "output_type": "execute_result",
          "data": {
            "text/plain": [
              "(466285, 100)"
            ]
          },
          "metadata": {},
          "execution_count": 99
        }
      ]
    },
    {
      "cell_type": "code",
      "source": [
        "clean_dataset.head()"
      ],
      "metadata": {
        "colab": {
          "base_uri": "https://localhost:8080/"
        },
        "id": "goCrJh12hVSf",
        "outputId": "adaab243-3a2e-456a-9578-2495380503de"
      },
      "execution_count": null,
      "outputs": [
        {
          "output_type": "execute_result",
          "data": {
            "text/plain": [
              "   loan_amnt      term  int_rate  emp_length  annual_inc       dti  \\\n",
              "0  -1.124392 -0.616225 -0.729587    1.138605   -0.896551  1.328632   \n",
              "1  -1.426088  1.622784  0.330634   -1.523744   -0.787387 -2.065791   \n",
              "2  -1.438156 -0.616225  0.488979    1.138605   -1.110294 -1.082491   \n",
              "3  -0.521001 -0.616225 -0.077850    1.138605   -0.438063  0.354248   \n",
              "4  -1.365749  1.622784 -0.261438   -1.257509    0.122311  0.091865   \n",
              "\n",
              "   delinq_2yrs  inq_last_6mths  mths_since_last_delinq  open_acc  ...  \\\n",
              "0    -0.357012        0.178920               -0.700148 -1.641166  ...   \n",
              "1    -0.357012        3.843328               -0.700148 -1.641166  ...   \n",
              "2    -0.357012        1.095022               -0.700148 -1.841641  ...   \n",
              "3    -0.357012        0.178920                0.851444 -0.237839  ...   \n",
              "4    -0.357012       -0.737182                0.984438  0.764538  ...   \n",
              "\n",
              "   addr_state_TX  addr_state_UT  addr_state_VA  addr_state_VT  addr_state_WA  \\\n",
              "0              0              0              0              0              0   \n",
              "1              0              0              0              0              0   \n",
              "2              0              0              0              0              0   \n",
              "3              0              0              0              0              0   \n",
              "4              0              0              0              0              0   \n",
              "\n",
              "   addr_state_WI  addr_state_WV  addr_state_WY  initial_list_status_w  \\\n",
              "0              0              0              0                      0   \n",
              "1              0              0              0                      0   \n",
              "2              0              0              0                      0   \n",
              "3              0              0              0                      0   \n",
              "4              0              0              0                      0   \n",
              "\n",
              "   loan_label  \n",
              "0   good loan  \n",
              "1    bad loan  \n",
              "2   good loan  \n",
              "3   good loan  \n",
              "4   good loan  \n",
              "\n",
              "[5 rows x 100 columns]"
            ],
            "text/html": [
              "\n",
              "  <div id=\"df-a09f0bc1-c1a7-49d8-b4e4-971225e10a32\" class=\"colab-df-container\">\n",
              "    <div>\n",
              "<style scoped>\n",
              "    .dataframe tbody tr th:only-of-type {\n",
              "        vertical-align: middle;\n",
              "    }\n",
              "\n",
              "    .dataframe tbody tr th {\n",
              "        vertical-align: top;\n",
              "    }\n",
              "\n",
              "    .dataframe thead th {\n",
              "        text-align: right;\n",
              "    }\n",
              "</style>\n",
              "<table border=\"1\" class=\"dataframe\">\n",
              "  <thead>\n",
              "    <tr style=\"text-align: right;\">\n",
              "      <th></th>\n",
              "      <th>loan_amnt</th>\n",
              "      <th>term</th>\n",
              "      <th>int_rate</th>\n",
              "      <th>emp_length</th>\n",
              "      <th>annual_inc</th>\n",
              "      <th>dti</th>\n",
              "      <th>delinq_2yrs</th>\n",
              "      <th>inq_last_6mths</th>\n",
              "      <th>mths_since_last_delinq</th>\n",
              "      <th>open_acc</th>\n",
              "      <th>...</th>\n",
              "      <th>addr_state_TX</th>\n",
              "      <th>addr_state_UT</th>\n",
              "      <th>addr_state_VA</th>\n",
              "      <th>addr_state_VT</th>\n",
              "      <th>addr_state_WA</th>\n",
              "      <th>addr_state_WI</th>\n",
              "      <th>addr_state_WV</th>\n",
              "      <th>addr_state_WY</th>\n",
              "      <th>initial_list_status_w</th>\n",
              "      <th>loan_label</th>\n",
              "    </tr>\n",
              "  </thead>\n",
              "  <tbody>\n",
              "    <tr>\n",
              "      <th>0</th>\n",
              "      <td>-1.124392</td>\n",
              "      <td>-0.616225</td>\n",
              "      <td>-0.729587</td>\n",
              "      <td>1.138605</td>\n",
              "      <td>-0.896551</td>\n",
              "      <td>1.328632</td>\n",
              "      <td>-0.357012</td>\n",
              "      <td>0.178920</td>\n",
              "      <td>-0.700148</td>\n",
              "      <td>-1.641166</td>\n",
              "      <td>...</td>\n",
              "      <td>0</td>\n",
              "      <td>0</td>\n",
              "      <td>0</td>\n",
              "      <td>0</td>\n",
              "      <td>0</td>\n",
              "      <td>0</td>\n",
              "      <td>0</td>\n",
              "      <td>0</td>\n",
              "      <td>0</td>\n",
              "      <td>good loan</td>\n",
              "    </tr>\n",
              "    <tr>\n",
              "      <th>1</th>\n",
              "      <td>-1.426088</td>\n",
              "      <td>1.622784</td>\n",
              "      <td>0.330634</td>\n",
              "      <td>-1.523744</td>\n",
              "      <td>-0.787387</td>\n",
              "      <td>-2.065791</td>\n",
              "      <td>-0.357012</td>\n",
              "      <td>3.843328</td>\n",
              "      <td>-0.700148</td>\n",
              "      <td>-1.641166</td>\n",
              "      <td>...</td>\n",
              "      <td>0</td>\n",
              "      <td>0</td>\n",
              "      <td>0</td>\n",
              "      <td>0</td>\n",
              "      <td>0</td>\n",
              "      <td>0</td>\n",
              "      <td>0</td>\n",
              "      <td>0</td>\n",
              "      <td>0</td>\n",
              "      <td>bad loan</td>\n",
              "    </tr>\n",
              "    <tr>\n",
              "      <th>2</th>\n",
              "      <td>-1.438156</td>\n",
              "      <td>-0.616225</td>\n",
              "      <td>0.488979</td>\n",
              "      <td>1.138605</td>\n",
              "      <td>-1.110294</td>\n",
              "      <td>-1.082491</td>\n",
              "      <td>-0.357012</td>\n",
              "      <td>1.095022</td>\n",
              "      <td>-0.700148</td>\n",
              "      <td>-1.841641</td>\n",
              "      <td>...</td>\n",
              "      <td>0</td>\n",
              "      <td>0</td>\n",
              "      <td>0</td>\n",
              "      <td>0</td>\n",
              "      <td>0</td>\n",
              "      <td>0</td>\n",
              "      <td>0</td>\n",
              "      <td>0</td>\n",
              "      <td>0</td>\n",
              "      <td>good loan</td>\n",
              "    </tr>\n",
              "    <tr>\n",
              "      <th>3</th>\n",
              "      <td>-0.521001</td>\n",
              "      <td>-0.616225</td>\n",
              "      <td>-0.077850</td>\n",
              "      <td>1.138605</td>\n",
              "      <td>-0.438063</td>\n",
              "      <td>0.354248</td>\n",
              "      <td>-0.357012</td>\n",
              "      <td>0.178920</td>\n",
              "      <td>0.851444</td>\n",
              "      <td>-0.237839</td>\n",
              "      <td>...</td>\n",
              "      <td>0</td>\n",
              "      <td>0</td>\n",
              "      <td>0</td>\n",
              "      <td>0</td>\n",
              "      <td>0</td>\n",
              "      <td>0</td>\n",
              "      <td>0</td>\n",
              "      <td>0</td>\n",
              "      <td>0</td>\n",
              "      <td>good loan</td>\n",
              "    </tr>\n",
              "    <tr>\n",
              "      <th>4</th>\n",
              "      <td>-1.365749</td>\n",
              "      <td>1.622784</td>\n",
              "      <td>-0.261438</td>\n",
              "      <td>-1.257509</td>\n",
              "      <td>0.122311</td>\n",
              "      <td>0.091865</td>\n",
              "      <td>-0.357012</td>\n",
              "      <td>-0.737182</td>\n",
              "      <td>0.984438</td>\n",
              "      <td>0.764538</td>\n",
              "      <td>...</td>\n",
              "      <td>0</td>\n",
              "      <td>0</td>\n",
              "      <td>0</td>\n",
              "      <td>0</td>\n",
              "      <td>0</td>\n",
              "      <td>0</td>\n",
              "      <td>0</td>\n",
              "      <td>0</td>\n",
              "      <td>0</td>\n",
              "      <td>good loan</td>\n",
              "    </tr>\n",
              "  </tbody>\n",
              "</table>\n",
              "<p>5 rows × 100 columns</p>\n",
              "</div>\n",
              "    <div class=\"colab-df-buttons\">\n",
              "\n",
              "  <div class=\"colab-df-container\">\n",
              "    <button class=\"colab-df-convert\" onclick=\"convertToInteractive('df-a09f0bc1-c1a7-49d8-b4e4-971225e10a32')\"\n",
              "            title=\"Convert this dataframe to an interactive table.\"\n",
              "            style=\"display:none;\">\n",
              "\n",
              "  <svg xmlns=\"http://www.w3.org/2000/svg\" height=\"24px\" viewBox=\"0 -960 960 960\">\n",
              "    <path d=\"M120-120v-720h720v720H120Zm60-500h600v-160H180v160Zm220 220h160v-160H400v160Zm0 220h160v-160H400v160ZM180-400h160v-160H180v160Zm440 0h160v-160H620v160ZM180-180h160v-160H180v160Zm440 0h160v-160H620v160Z\"/>\n",
              "  </svg>\n",
              "    </button>\n",
              "\n",
              "  <style>\n",
              "    .colab-df-container {\n",
              "      display:flex;\n",
              "      gap: 12px;\n",
              "    }\n",
              "\n",
              "    .colab-df-convert {\n",
              "      background-color: #E8F0FE;\n",
              "      border: none;\n",
              "      border-radius: 50%;\n",
              "      cursor: pointer;\n",
              "      display: none;\n",
              "      fill: #1967D2;\n",
              "      height: 32px;\n",
              "      padding: 0 0 0 0;\n",
              "      width: 32px;\n",
              "    }\n",
              "\n",
              "    .colab-df-convert:hover {\n",
              "      background-color: #E2EBFA;\n",
              "      box-shadow: 0px 1px 2px rgba(60, 64, 67, 0.3), 0px 1px 3px 1px rgba(60, 64, 67, 0.15);\n",
              "      fill: #174EA6;\n",
              "    }\n",
              "\n",
              "    .colab-df-buttons div {\n",
              "      margin-bottom: 4px;\n",
              "    }\n",
              "\n",
              "    [theme=dark] .colab-df-convert {\n",
              "      background-color: #3B4455;\n",
              "      fill: #D2E3FC;\n",
              "    }\n",
              "\n",
              "    [theme=dark] .colab-df-convert:hover {\n",
              "      background-color: #434B5C;\n",
              "      box-shadow: 0px 1px 3px 1px rgba(0, 0, 0, 0.15);\n",
              "      filter: drop-shadow(0px 1px 2px rgba(0, 0, 0, 0.3));\n",
              "      fill: #FFFFFF;\n",
              "    }\n",
              "  </style>\n",
              "\n",
              "    <script>\n",
              "      const buttonEl =\n",
              "        document.querySelector('#df-a09f0bc1-c1a7-49d8-b4e4-971225e10a32 button.colab-df-convert');\n",
              "      buttonEl.style.display =\n",
              "        google.colab.kernel.accessAllowed ? 'block' : 'none';\n",
              "\n",
              "      async function convertToInteractive(key) {\n",
              "        const element = document.querySelector('#df-a09f0bc1-c1a7-49d8-b4e4-971225e10a32');\n",
              "        const dataTable =\n",
              "          await google.colab.kernel.invokeFunction('convertToInteractive',\n",
              "                                                    [key], {});\n",
              "        if (!dataTable) return;\n",
              "\n",
              "        const docLinkHtml = 'Like what you see? Visit the ' +\n",
              "          '<a target=\"_blank\" href=https://colab.research.google.com/notebooks/data_table.ipynb>data table notebook</a>'\n",
              "          + ' to learn more about interactive tables.';\n",
              "        element.innerHTML = '';\n",
              "        dataTable['output_type'] = 'display_data';\n",
              "        await google.colab.output.renderOutput(dataTable, element);\n",
              "        const docLink = document.createElement('div');\n",
              "        docLink.innerHTML = docLinkHtml;\n",
              "        element.appendChild(docLink);\n",
              "      }\n",
              "    </script>\n",
              "  </div>\n",
              "\n",
              "\n",
              "<div id=\"df-a09d4b58-b0bf-4595-8c75-997c87eea9fc\">\n",
              "  <button class=\"colab-df-quickchart\" onclick=\"quickchart('df-a09d4b58-b0bf-4595-8c75-997c87eea9fc')\"\n",
              "            title=\"Suggest charts\"\n",
              "            style=\"display:none;\">\n",
              "\n",
              "<svg xmlns=\"http://www.w3.org/2000/svg\" height=\"24px\"viewBox=\"0 0 24 24\"\n",
              "     width=\"24px\">\n",
              "    <g>\n",
              "        <path d=\"M19 3H5c-1.1 0-2 .9-2 2v14c0 1.1.9 2 2 2h14c1.1 0 2-.9 2-2V5c0-1.1-.9-2-2-2zM9 17H7v-7h2v7zm4 0h-2V7h2v10zm4 0h-2v-4h2v4z\"/>\n",
              "    </g>\n",
              "</svg>\n",
              "  </button>\n",
              "\n",
              "<style>\n",
              "  .colab-df-quickchart {\n",
              "      --bg-color: #E8F0FE;\n",
              "      --fill-color: #1967D2;\n",
              "      --hover-bg-color: #E2EBFA;\n",
              "      --hover-fill-color: #174EA6;\n",
              "      --disabled-fill-color: #AAA;\n",
              "      --disabled-bg-color: #DDD;\n",
              "  }\n",
              "\n",
              "  [theme=dark] .colab-df-quickchart {\n",
              "      --bg-color: #3B4455;\n",
              "      --fill-color: #D2E3FC;\n",
              "      --hover-bg-color: #434B5C;\n",
              "      --hover-fill-color: #FFFFFF;\n",
              "      --disabled-bg-color: #3B4455;\n",
              "      --disabled-fill-color: #666;\n",
              "  }\n",
              "\n",
              "  .colab-df-quickchart {\n",
              "    background-color: var(--bg-color);\n",
              "    border: none;\n",
              "    border-radius: 50%;\n",
              "    cursor: pointer;\n",
              "    display: none;\n",
              "    fill: var(--fill-color);\n",
              "    height: 32px;\n",
              "    padding: 0;\n",
              "    width: 32px;\n",
              "  }\n",
              "\n",
              "  .colab-df-quickchart:hover {\n",
              "    background-color: var(--hover-bg-color);\n",
              "    box-shadow: 0 1px 2px rgba(60, 64, 67, 0.3), 0 1px 3px 1px rgba(60, 64, 67, 0.15);\n",
              "    fill: var(--button-hover-fill-color);\n",
              "  }\n",
              "\n",
              "  .colab-df-quickchart-complete:disabled,\n",
              "  .colab-df-quickchart-complete:disabled:hover {\n",
              "    background-color: var(--disabled-bg-color);\n",
              "    fill: var(--disabled-fill-color);\n",
              "    box-shadow: none;\n",
              "  }\n",
              "\n",
              "  .colab-df-spinner {\n",
              "    border: 2px solid var(--fill-color);\n",
              "    border-color: transparent;\n",
              "    border-bottom-color: var(--fill-color);\n",
              "    animation:\n",
              "      spin 1s steps(1) infinite;\n",
              "  }\n",
              "\n",
              "  @keyframes spin {\n",
              "    0% {\n",
              "      border-color: transparent;\n",
              "      border-bottom-color: var(--fill-color);\n",
              "      border-left-color: var(--fill-color);\n",
              "    }\n",
              "    20% {\n",
              "      border-color: transparent;\n",
              "      border-left-color: var(--fill-color);\n",
              "      border-top-color: var(--fill-color);\n",
              "    }\n",
              "    30% {\n",
              "      border-color: transparent;\n",
              "      border-left-color: var(--fill-color);\n",
              "      border-top-color: var(--fill-color);\n",
              "      border-right-color: var(--fill-color);\n",
              "    }\n",
              "    40% {\n",
              "      border-color: transparent;\n",
              "      border-right-color: var(--fill-color);\n",
              "      border-top-color: var(--fill-color);\n",
              "    }\n",
              "    60% {\n",
              "      border-color: transparent;\n",
              "      border-right-color: var(--fill-color);\n",
              "    }\n",
              "    80% {\n",
              "      border-color: transparent;\n",
              "      border-right-color: var(--fill-color);\n",
              "      border-bottom-color: var(--fill-color);\n",
              "    }\n",
              "    90% {\n",
              "      border-color: transparent;\n",
              "      border-bottom-color: var(--fill-color);\n",
              "    }\n",
              "  }\n",
              "</style>\n",
              "\n",
              "  <script>\n",
              "    async function quickchart(key) {\n",
              "      const quickchartButtonEl =\n",
              "        document.querySelector('#' + key + ' button');\n",
              "      quickchartButtonEl.disabled = true;  // To prevent multiple clicks.\n",
              "      quickchartButtonEl.classList.add('colab-df-spinner');\n",
              "      try {\n",
              "        const charts = await google.colab.kernel.invokeFunction(\n",
              "            'suggestCharts', [key], {});\n",
              "      } catch (error) {\n",
              "        console.error('Error during call to suggestCharts:', error);\n",
              "      }\n",
              "      quickchartButtonEl.classList.remove('colab-df-spinner');\n",
              "      quickchartButtonEl.classList.add('colab-df-quickchart-complete');\n",
              "    }\n",
              "    (() => {\n",
              "      let quickchartButtonEl =\n",
              "        document.querySelector('#df-a09d4b58-b0bf-4595-8c75-997c87eea9fc button');\n",
              "      quickchartButtonEl.style.display =\n",
              "        google.colab.kernel.accessAllowed ? 'block' : 'none';\n",
              "    })();\n",
              "  </script>\n",
              "</div>\n",
              "    </div>\n",
              "  </div>\n"
            ]
          },
          "metadata": {},
          "execution_count": 100
        }
      ]
    },
    {
      "cell_type": "markdown",
      "source": [
        "# **Machine Learning**"
      ],
      "metadata": {
        "id": "ueYQuuDxhnNp"
      }
    },
    {
      "cell_type": "markdown",
      "source": [
        "Sebelum kita olah data menggunakan Machine Learning, kita harus mengetahui terlebih dahulu apakah dataset kita seimbang atau tidak dari jumlah label yang ada pada dataset."
      ],
      "metadata": {
        "id": "5LXhv6wsQjbh"
      }
    },
    {
      "cell_type": "code",
      "source": [
        "labels = clean_dataset['loan_label'].value_counts()\n",
        "\n",
        "labels.plot(kind='bar', color=['blue', 'red'])\n",
        "\n",
        "plt.title('Bar Chart Data `good loan` dan `bad loan`')\n",
        "plt.xlabel('Kategori')\n",
        "plt.ylabel('Jumlah Data')\n",
        "plt.show()"
      ],
      "metadata": {
        "colab": {
          "base_uri": "https://localhost:8080/",
          "height": 527
        },
        "id": "G6IyKDZTSF1A",
        "outputId": "6b4dceb8-3f0f-4d49-a02d-a8fc068dbd62"
      },
      "execution_count": null,
      "outputs": [
        {
          "output_type": "display_data",
          "data": {
            "text/plain": [
              "<Figure size 640x480 with 1 Axes>"
            ],
            "image/png": "[encoded data removed]"
          },
          "metadata": {}
        }
      ]
    },
    {
      "cell_type": "markdown",
      "source": [
        "Dari grafik diatas, dataset yang kita miliki tidak seimbang sehingga saat sebuah data baru dengan kategori `bad loan` dimasukkan, bisa saja data tersebut diprediksi sebagai `good loan` oleh algoritma Machine Learning. Sehingga dataset tersebut harus kita lakukan oversampling pada data `bad loan` atau undersampling pada data `good loan`."
      ],
      "metadata": {
        "id": "tvTxryV4SwUN"
      }
    },
    {
      "cell_type": "markdown",
      "source": [
        "Agar tidak terjadi data leakage saat oversampling atau undersampling, kita split dulu dataset kita menjadi data latih dan data uji. Kita gunakan persentase pemisahan data latih dan data uji yang umum digunakan yaitu 80% data latih dan 20% data uji."
      ],
      "metadata": {
        "id": "Uz6iY5B0Wxjn"
      }
    },
    {
      "cell_type": "code",
      "source": [
        "# Pisahkan fitur dengan label pada dataset\n",
        "X = clean_dataset.drop('loan_label', axis=1)\n",
        "y = clean_dataset['loan_label']\n",
        "\n",
        "X_train, X_test, y_train, y_test = train_test_split(X, y, test_size=0.2, random_state=42)"
      ],
      "metadata": {
        "id": "bqFDmN9dUX57"
      },
      "execution_count": null,
      "outputs": []
    },
    {
      "cell_type": "markdown",
      "source": [
        "Pada proyek ini, kita akan melakukan dua skenario klasifikasi. Skenario pertama melakukan klasifikasi dengan data latih yang telah dilakukan oversampling. Skenario kedua melakukan klasifikasi dengan data latih yang telah dilakukan undersampling. Karena dataset yang digunakan merupakan imbalance dataset, maka metode Machine Learning yang digunakan adalah Ensemble Machine Learning. Model Machine Learning yang digunakan antara lain Random Forest, AdaBoost, dan Gradient Boosting."
      ],
      "metadata": {
        "id": "MemWhMhgZUO6"
      }
    },
    {
      "cell_type": "code",
      "source": [
        "X_train.shape"
      ],
      "metadata": {
        "colab": {
          "base_uri": "https://localhost:8080/"
        },
        "id": "45N3X6-wr1k1",
        "outputId": "8c34d29b-a795-4a63-d2ae-e52f029af2dd"
      },
      "execution_count": null,
      "outputs": [
        {
          "output_type": "execute_result",
          "data": {
            "text/plain": [
              "(373028, 99)"
            ]
          },
          "metadata": {},
          "execution_count": 103
        }
      ]
    },
    {
      "cell_type": "code",
      "source": [
        "y_train.value_counts()"
      ],
      "metadata": {
        "colab": {
          "base_uri": "https://localhost:8080/"
        },
        "id": "fa04AjVusBTv",
        "outputId": "f27594f2-8cd9-4ed5-be1d-b9226746b2bb"
      },
      "execution_count": null,
      "outputs": [
        {
          "output_type": "execute_result",
          "data": {
            "text/plain": [
              "good loan    332250\n",
              "bad loan      40778\n",
              "Name: loan_label, dtype: int64"
            ]
          },
          "metadata": {},
          "execution_count": 104
        }
      ]
    },
    {
      "cell_type": "markdown",
      "source": [
        "**Skenario 1: Oversampling Data**"
      ],
      "metadata": {
        "id": "pZSZYrFPCZHB"
      }
    },
    {
      "cell_type": "code",
      "source": [
        "ros = RandomOverSampler(sampling_strategy='auto', random_state=42)\n",
        "X_train_oversampled, y_train_oversampled = ros.fit_resample(X_train, y_train)"
      ],
      "metadata": {
        "id": "B_U16qvXckE-"
      },
      "execution_count": null,
      "outputs": []
    },
    {
      "cell_type": "code",
      "source": [
        "X_train_oversampled.shape"
      ],
      "metadata": {
        "colab": {
          "base_uri": "https://localhost:8080/"
        },
        "id": "1J0ZtGAbm5te",
        "outputId": "c5945109-317f-4b97-ab80-f65ecc319306"
      },
      "execution_count": null,
      "outputs": [
        {
          "output_type": "execute_result",
          "data": {
            "text/plain": [
              "(664500, 99)"
            ]
          },
          "metadata": {},
          "execution_count": 106
        }
      ]
    },
    {
      "cell_type": "code",
      "source": [
        "y_train_oversampled.value_counts()"
      ],
      "metadata": {
        "colab": {
          "base_uri": "https://localhost:8080/"
        },
        "id": "D1dTTqQ8nBoZ",
        "outputId": "7e809b54-5bb2-4f85-f793-cfdab1c6597d"
      },
      "execution_count": null,
      "outputs": [
        {
          "output_type": "execute_result",
          "data": {
            "text/plain": [
              "good loan    332250\n",
              "bad loan     332250\n",
              "Name: loan_label, dtype: int64"
            ]
          },
          "metadata": {},
          "execution_count": 107
        }
      ]
    },
    {
      "cell_type": "code",
      "source": [
        "# Inisialisasi model\n",
        "rf_model_1 = RandomForestClassifier()\n",
        "adaboost_model_1 = AdaBoostClassifier()\n",
        "gradientboost_model_1 = GradientBoostingClassifier()\n",
        "\n",
        "# Pelatihan model\n",
        "rf_model_1.fit(X_train_oversampled, y_train_oversampled)\n",
        "adaboost_model_1.fit(X_train_oversampled, y_train_oversampled)\n",
        "gradientboost_model_1.fit(X_train_oversampled, y_train_oversampled)\n",
        "\n",
        "# Pengujian model\n",
        "rf_test_1 = rf_model_1.predict(X_test)\n",
        "adaboost_test_1 = adaboost_model_1.predict(X_test)\n",
        "gradientboost_test_1 = gradientboost_model_1.predict(X_test)"
      ],
      "metadata": {
        "id": "v7KjA_dnChXh"
      },
      "execution_count": null,
      "outputs": []
    },
    {
      "cell_type": "code",
      "source": [
        "# Classification report untuk Random Forest\n",
        "print(\"Random Forest Classification Report:\")\n",
        "print(classification_report(y_test, rf_test_1))\n",
        "\n",
        "# Classification report untuk AdaBoost\n",
        "print(\"\\nAdaBoost Classification Report:\")\n",
        "print(classification_report(y_test, adaboost_test_1))\n",
        "\n",
        "# Classification report untuk Gradient Boosting\n",
        "print(\"\\nGradient Boosting Classification Report:\")\n",
        "print(classification_report(y_test, gradientboost_test_1))"
      ],
      "metadata": {
        "colab": {
          "base_uri": "https://localhost:8080/"
        },
        "id": "GvXsbLocN543",
        "outputId": "9754ed47-f38e-44ad-b5a0-72be61196448"
      },
      "execution_count": null,
      "outputs": [
        {
          "output_type": "stream",
          "name": "stdout",
          "text": [
            "Random Forest Classification Report:\n",
            "              precision    recall  f1-score   support\n",
            "\n",
            "    bad loan       0.97      0.50      0.66     10190\n",
            "   good loan       0.94      1.00      0.97     83067\n",
            "\n",
            "    accuracy                           0.94     93257\n",
            "   macro avg       0.95      0.75      0.81     93257\n",
            "weighted avg       0.94      0.94      0.94     93257\n",
            "\n",
            "\n",
            "AdaBoost Classification Report:\n",
            "              precision    recall  f1-score   support\n",
            "\n",
            "    bad loan       0.42      0.72      0.53     10190\n",
            "   good loan       0.96      0.88      0.92     83067\n",
            "\n",
            "    accuracy                           0.86     93257\n",
            "   macro avg       0.69      0.80      0.72     93257\n",
            "weighted avg       0.90      0.86      0.88     93257\n",
            "\n",
            "\n",
            "Gradient Boosting Classification Report:\n",
            "              precision    recall  f1-score   support\n",
            "\n",
            "    bad loan       0.42      0.73      0.53     10190\n",
            "   good loan       0.96      0.88      0.92     83067\n",
            "\n",
            "    accuracy                           0.86     93257\n",
            "   macro avg       0.69      0.80      0.73     93257\n",
            "weighted avg       0.90      0.86      0.88     93257\n",
            "\n"
          ]
        }
      ]
    },
    {
      "cell_type": "markdown",
      "source": [
        "Pada skenario 1, model Random Forest unggul dari nilai akurasi, precision, recall dan f1-score."
      ],
      "metadata": {
        "id": "SRU7i1BwPENg"
      }
    },
    {
      "cell_type": "markdown",
      "source": [
        "**Skenario 2: Undersampling Data**"
      ],
      "metadata": {
        "id": "SkOm3XC7PSo-"
      }
    },
    {
      "cell_type": "code",
      "source": [
        "rus = RandomUnderSampler(sampling_strategy='auto', random_state=42)\n",
        "X_train_undersampled, y_train_undersampled = rus.fit_resample(X_train, y_train)"
      ],
      "metadata": {
        "id": "hZEAJgV3PY2E"
      },
      "execution_count": null,
      "outputs": []
    },
    {
      "cell_type": "code",
      "source": [
        "X_train_undersampled.shape"
      ],
      "metadata": {
        "colab": {
          "base_uri": "https://localhost:8080/"
        },
        "id": "eAX7JCIinRj2",
        "outputId": "69caf9af-898a-40ae-dc4a-3187e1da08be"
      },
      "execution_count": null,
      "outputs": [
        {
          "output_type": "execute_result",
          "data": {
            "text/plain": [
              "(81556, 99)"
            ]
          },
          "metadata": {},
          "execution_count": 114
        }
      ]
    },
    {
      "cell_type": "code",
      "source": [
        "y_train_undersampled.value_counts()"
      ],
      "metadata": {
        "colab": {
          "base_uri": "https://localhost:8080/"
        },
        "id": "j1kqSDhZnU6u",
        "outputId": "41458e23-daec-45d5-bcf4-86ec596c445a"
      },
      "execution_count": null,
      "outputs": [
        {
          "output_type": "execute_result",
          "data": {
            "text/plain": [
              "bad loan     40778\n",
              "good loan    40778\n",
              "Name: loan_label, dtype: int64"
            ]
          },
          "metadata": {},
          "execution_count": 115
        }
      ]
    },
    {
      "cell_type": "code",
      "source": [
        "# Inisialisasi model\n",
        "rf_model_2 = RandomForestClassifier()\n",
        "adaboost_model_2 = AdaBoostClassifier()\n",
        "gradientboost_model_2 = GradientBoostingClassifier()\n",
        "\n",
        "# Pelatihan model\n",
        "rf_model_2.fit(X_train_undersampled, y_train_undersampled)\n",
        "adaboost_model_2.fit(X_train_undersampled, y_train_undersampled)\n",
        "gradientboost_model_2.fit(X_train_undersampled, y_train_undersampled)\n",
        "\n",
        "# Pengujian model\n",
        "rf_test_2 = rf_model_2.predict(X_test)\n",
        "adaboost_test_2 = adaboost_model_2.predict(X_test)\n",
        "gradientboost_test_2 = gradientboost_model_2.predict(X_test)"
      ],
      "metadata": {
        "id": "C4AcLBTtPmgg"
      },
      "execution_count": null,
      "outputs": []
    },
    {
      "cell_type": "code",
      "source": [
        "# Classification report untuk Random Forest\n",
        "print(\"Random Forest Classification Report:\")\n",
        "print(classification_report(y_test, rf_test_2))\n",
        "\n",
        "# Classification report untuk AdaBoost\n",
        "print(\"\\nAdaBoost Classification Report:\")\n",
        "print(classification_report(y_test, adaboost_test_2))\n",
        "\n",
        "# Classification report untuk Gradient Boosting\n",
        "print(\"\\nGradient Boosting Classification Report:\")\n",
        "print(classification_report(y_test, gradientboost_test_2))"
      ],
      "metadata": {
        "colab": {
          "base_uri": "https://localhost:8080/"
        },
        "id": "jLMV5qw3QtDG",
        "outputId": "9759e8b7-43e3-4e17-db45-9aaa5aba21b6"
      },
      "execution_count": null,
      "outputs": [
        {
          "output_type": "stream",
          "name": "stdout",
          "text": [
            "Random Forest Classification Report:\n",
            "              precision    recall  f1-score   support\n",
            "\n",
            "    bad loan       0.41      0.73      0.52     10190\n",
            "   good loan       0.96      0.87      0.91     83067\n",
            "\n",
            "    accuracy                           0.85     93257\n",
            "   macro avg       0.69      0.80      0.72     93257\n",
            "weighted avg       0.90      0.85      0.87     93257\n",
            "\n",
            "\n",
            "AdaBoost Classification Report:\n",
            "              precision    recall  f1-score   support\n",
            "\n",
            "    bad loan       0.42      0.72      0.53     10190\n",
            "   good loan       0.96      0.88      0.92     83067\n",
            "\n",
            "    accuracy                           0.86     93257\n",
            "   macro avg       0.69      0.80      0.73     93257\n",
            "weighted avg       0.90      0.86      0.88     93257\n",
            "\n",
            "\n",
            "Gradient Boosting Classification Report:\n",
            "              precision    recall  f1-score   support\n",
            "\n",
            "    bad loan       0.43      0.73      0.54     10190\n",
            "   good loan       0.96      0.88      0.92     83067\n",
            "\n",
            "    accuracy                           0.86     93257\n",
            "   macro avg       0.69      0.80      0.73     93257\n",
            "weighted avg       0.90      0.86      0.88     93257\n",
            "\n"
          ]
        }
      ]
    },
    {
      "cell_type": "markdown",
      "source": [
        "Pada skenario kedua, nilai akurasi tertinggi didapat dari model AdaBoost dan Gradient Boosting. Namun nilai precision, recall dan f1-score yang didapat dari model Gradient Boosting pada data kategori `bad loan` lebih bagus daripada model AdaBoost. Sehingga hasil terbaik pada skenario kedua didapatkan dari model Gradient Boosting."
      ],
      "metadata": {
        "id": "sJOg6kvYRAtV"
      }
    },
    {
      "cell_type": "markdown",
      "source": [
        "Kita bandingkan hasil terbaik klasifikasi pada skenario 1 dan 2"
      ],
      "metadata": {
        "id": "b__Xrml-VPeS"
      }
    },
    {
      "cell_type": "code",
      "source": [
        "# Classification report untuk Random Forest\n",
        "print(\"Random Forest Skenario 1 Classification Report:\")\n",
        "print(classification_report(y_test, rf_test_1))\n",
        "\n",
        "# Classification report untuk Gradient Boosting\n",
        "print(\"\\nGradient Boosting Skenario 2 Classification Report:\")\n",
        "print(classification_report(y_test, gradientboost_test_2))"
      ],
      "metadata": {
        "colab": {
          "base_uri": "https://localhost:8080/"
        },
        "id": "quxfnaO5SSZD",
        "outputId": "c20761ed-1a3f-462d-9e87-8afedb7ca77b"
      },
      "execution_count": null,
      "outputs": [
        {
          "output_type": "stream",
          "name": "stdout",
          "text": [
            "Random Forest Skenario 1 Classification Report:\n",
            "              precision    recall  f1-score   support\n",
            "\n",
            "    bad loan       0.97      0.50      0.66     10190\n",
            "   good loan       0.94      1.00      0.97     83067\n",
            "\n",
            "    accuracy                           0.94     93257\n",
            "   macro avg       0.95      0.75      0.81     93257\n",
            "weighted avg       0.94      0.94      0.94     93257\n",
            "\n",
            "\n",
            "Gradient Boosting Skenario 2 Classification Report:\n",
            "              precision    recall  f1-score   support\n",
            "\n",
            "    bad loan       0.43      0.73      0.54     10190\n",
            "   good loan       0.96      0.88      0.92     83067\n",
            "\n",
            "    accuracy                           0.86     93257\n",
            "   macro avg       0.69      0.80      0.73     93257\n",
            "weighted avg       0.90      0.86      0.88     93257\n",
            "\n"
          ]
        }
      ]
    },
    {
      "cell_type": "markdown",
      "source": [
        "Dari perbandingan hasil klasifikasi skenario 1 dan 2, model Random Forest dengan data yang telah di oversampling jauh lebih unggul dibandingkan dengan model Gradient Boosting dengan data yang di undersampling. Sehingga kita gunakan sebagai hasil akhir klasifikasi."
      ],
      "metadata": {
        "id": "5mg1LTZRVsOD"
      }
    }
  ]
}